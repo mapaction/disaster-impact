{
 "cells": [
  {
   "cell_type": "markdown",
   "metadata": {},
   "source": [
    "Notebook: Exploration of csv files"
   ]
  },
  {
   "cell_type": "code",
   "execution_count": 30,
   "metadata": {},
   "outputs": [],
   "source": [
    "\"\"\"Exploration notebook for data analysis.\n",
    "\n",
    "This notebook contains data exploration steps for disaster analysis.\n",
    "\"\"\"\n",
    "\n",
    "from pathlib import Path\n",
    "\n",
    "import pandas as pd\n",
    "from IPython.display import display"
   ]
  },
  {
   "cell_type": "code",
   "execution_count": 31,
   "metadata": {},
   "outputs": [],
   "source": [
    "def read_dat(dat_file: str) -> pd:\n",
    "    \"\"\"Reads a CSV file from the data_prep directory.\"\"\"\n",
    "    dat_dir = Path(\"../data_prep/\").resolve()\n",
    "    dat_path = dat_dir / dat_file\n",
    "    return pd.read_csv(dat_path)"
   ]
  },
  {
   "cell_type": "code",
   "execution_count": 32,
   "metadata": {},
   "outputs": [],
   "source": [
    "glide_prep_df = read_dat(\"glide_prep.csv\")\n",
    "gdacs_prep_df = read_dat(\"gdacs_prep.csv\")\n",
    "emdat_prep_df = read_dat(\"emdat_prep.csv\")\n",
    "disaster_charter_df = read_dat(\"disaster_charter_prep.csv\")\n",
    "cerf_df = read_dat(\"cerf_prep.csv\")\n",
    "idmc_df = read_dat(\"idmc_prep.csv\")\n",
    "ifrc_df = read_dat(\"ifrc_prep.csv\")"
   ]
  },
  {
   "cell_type": "code",
   "execution_count": 34,
   "metadata": {},
   "outputs": [
    {
     "data": {
      "text/plain": [
       "Index(['Source_Event_IDs', 'Event_Name', 'Event_Type', 'Event_Code', 'Country',\n",
       "       'Country_Code', 'Location', 'Latitude', 'Longitude', 'Date', 'Year',\n",
       "       'Month', 'Day', 'Time', 'Severity', 'Source', 'Comments'],\n",
       "      dtype='object')"
      ]
     },
     "metadata": {},
     "output_type": "display_data"
    },
    {
     "data": {
      "text/plain": [
       "Index(['Source_Event_IDs', 'Event_Name', 'Event_Type', 'Event_Code', 'Country',\n",
       "       'Country_Code', 'Location', 'Latitude', 'Longitude', 'Date', 'Year',\n",
       "       'Severity', 'Population_Affected', 'Alert_Level', 'End_Date'],\n",
       "      dtype='object')"
      ]
     },
     "metadata": {},
     "output_type": "display_data"
    },
    {
     "data": {
      "text/plain": [
       "Index(['Source_Event_IDs', 'Event_Name', 'Event_Type', 'Event_Code', 'Country',\n",
       "       'Country_Code', 'Location', 'Latitude', 'Longitude', 'Date', 'Year',\n",
       "       'Month', 'Day', 'Severity', 'Population_Affected', 'Fatalities',\n",
       "       'People_Displaced', 'Financial_Loss', 'AID_Contribution', 'Admin_Units',\n",
       "       'External_IDs'],\n",
       "      dtype='object')"
      ]
     },
     "metadata": {},
     "output_type": "display_data"
    },
    {
     "data": {
      "text/plain": [
       "Index(['Source_Event_IDs', 'Event_Name', 'Event_Type', 'Event_Code', 'Country',\n",
       "       'Date', 'Year', 'Month', 'Time', 'External_Links'],\n",
       "      dtype='object')"
      ]
     },
     "metadata": {},
     "output_type": "display_data"
    },
    {
     "data": {
      "text/plain": [
       "Index(['Source_Event_IDs', 'Event_Type', 'Event_Code', 'Country',\n",
       "       'Country_Code', 'Date', 'Source', 'Comments', 'AID_Contribution',\n",
       "       'Disbursement_Date'],\n",
       "      dtype='object')"
      ]
     },
     "metadata": {},
     "output_type": "display_data"
    },
    {
     "data": {
      "text/plain": [
       "Index(['Source_Event_IDs', 'Event_Name', 'Event_Type', 'Event_Code', 'Country',\n",
       "       'Country_Code', 'Location', 'Latitude', 'Longitude', 'Date', 'Year',\n",
       "       'Population_Affected', 'Source', 'Comments', 'External_Links',\n",
       "       'External_IDs'],\n",
       "      dtype='object')"
      ]
     },
     "metadata": {},
     "output_type": "display_data"
    },
    {
     "data": {
      "text/plain": [
       "Index(['Source_Event_IDs', 'Event_Name', 'Event_Type', 'Event_Code', 'Country',\n",
       "       'Country_Code', 'Date', 'Severity', 'Population_Affected', 'Comments',\n",
       "       'External_IDs'],\n",
       "      dtype='object')"
      ]
     },
     "metadata": {},
     "output_type": "display_data"
    }
   ],
   "source": [
    "pre_dfs = [\n",
    "    glide_prep_df,\n",
    "    gdacs_prep_df,\n",
    "    emdat_prep_df,\n",
    "    disaster_charter_df,\n",
    "    cerf_df,\n",
    "    idmc_df,\n",
    "    ifrc_df,\n",
    "]\n",
    "\n",
    "for df in pre_dfs:\n",
    "    display(df.columns)"
   ]
  }
 ],
 "metadata": {
  "kernelspec": {
   "display_name": ".venv",
   "language": "python",
   "name": "python3"
  },
  "language_info": {
   "codemirror_mode": {
    "name": "ipython",
    "version": 3
   },
   "file_extension": ".py",
   "mimetype": "text/x-python",
   "name": "python",
   "nbconvert_exporter": "python",
   "pygments_lexer": "ipython3",
   "version": "3.10.12"
  }
 },
 "nbformat": 4,
 "nbformat_minor": 2
}
