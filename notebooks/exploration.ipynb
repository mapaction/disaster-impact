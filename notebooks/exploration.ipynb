{
 "cells": [
  {
   "cell_type": "markdown",
   "metadata": {},
   "source": [
    "Notebook: Exploration of csv files"
   ]
  },
  {
   "cell_type": "code",
   "execution_count": null,
   "metadata": {},
   "outputs": [],
   "source": [
    "\"\"\"Exploration notebook for data analysis.\n",
    "\n",
    "This notebook contains data exploration steps for disaster analysis.\n",
    "\"\"\"\n",
    "\n",
    "import sys\n",
    "from pathlib import Path\n",
    "\n",
    "import pandas as pd\n",
    "\n",
    "module_path = Path(\"..\").resolve()\n",
    "sys.path.append(str(module_path))"
   ]
  },
  {
   "cell_type": "code",
   "execution_count": 66,
   "metadata": {},
   "outputs": [],
   "source": [
    "def read_dat(dat_file: str) -> pd:\n",
    "    \"\"\"Reads a CSV file from the data_prep directory.\"\"\"\n",
    "    dat_dir = Path(\"../data_prep/\").resolve()\n",
    "    dat_path = dat_dir / dat_file\n",
    "    return pd.read_csv(dat_path)"
   ]
  },
  {
   "cell_type": "code",
   "execution_count": 67,
   "metadata": {},
   "outputs": [],
   "source": [
    "glide_prep_df = read_dat(\"glide_prep.csv\")\n",
    "gdacs_prep_df = read_dat(\"gdacs_prep.csv\")\n",
    "emdat_prep_df = read_dat(\"emdat_prep.csv\")\n",
    "disaster_charter_df = read_dat(\"disaster_charter_prep.csv\")\n",
    "cerf_df = read_dat(\"cerf_prep.csv\")\n",
    "idmc_df = read_dat(\"idmc_prep.csv\")\n",
    "ifrc_df = read_dat(\"ifrc_prep.csv\")"
   ]
  },
  {
   "cell_type": "code",
   "execution_count": 68,
   "metadata": {},
   "outputs": [],
   "source": [
    "pre_dfs = [\n",
    "    glide_prep_df,\n",
    "    gdacs_prep_df,\n",
    "    emdat_prep_df,\n",
    "    disaster_charter_df,\n",
    "    cerf_df,\n",
    "    idmc_df,\n",
    "    ifrc_df,\n",
    "]"
   ]
  }
 ],
 "metadata": {
  "kernelspec": {
   "display_name": ".venv",
   "language": "python",
   "name": "python3"
  },
  "language_info": {
   "codemirror_mode": {
    "name": "ipython",
    "version": 3
   },
   "file_extension": ".py",
   "mimetype": "text/x-python",
   "name": "python",
   "nbconvert_exporter": "python",
   "pygments_lexer": "ipython3",
   "version": "3.10.12"
  }
 },
 "nbformat": 4,
 "nbformat_minor": 2
}
