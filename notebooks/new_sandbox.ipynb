{
 "cells": [
  {
   "cell_type": "code",
   "execution_count": 1,
   "metadata": {},
   "outputs": [
    {
     "name": "stdout",
     "output_type": "stream",
     "text": [
      "Dataset: glide, Shape: (7457, 29)\n"
     ]
    },
    {
     "data": {
      "text/plain": [
       "Disaster_Impact_ID                                  NaN\n",
       "Event_ID               e0c9f247a7808cc69f6652e56d051d99\n",
       "Source_Event_IDs                 ['AC-2000-000005-CHN']\n",
       "Event_Name                       [\"['Tech. Disaster']\"]\n",
       "Event_Type                                       ['AC']\n",
       "Country                    [\"China, People's Republic\"]\n",
       "Country_Code                                [\"['CHN']\"]\n",
       "Location                                     ['Fuging']\n",
       "Latitude                                   [19.0785907]\n",
       "Longitude                                 [-98.2598043]\n",
       "Date                                         2000-01-01\n",
       "Year                                               2000\n",
       "Month                                                 1\n",
       "Day                                                   1\n",
       "Time                                                NaN\n",
       "Severity                                         ['[]']\n",
       "Population_Affected                                 NaN\n",
       "Fatalities                                          NaN\n",
       "People_Displaced                                    NaN\n",
       "Financial_Loss                                      NaN\n",
       "Alert_Level                                          []\n",
       "Source                                           ['[]']\n",
       "Comments                                 [\"['(Road)']\"]\n",
       "External_Links                                       []\n",
       "AID_Contribution                                    NaN\n",
       "Admin_Units                                          []\n",
       "External_IDs                                         []\n",
       "Approval_Date                                       NaN\n",
       "Disbursement_Date                                   NaN\n",
       "Name: 0, dtype: object"
      ]
     },
     "metadata": {},
     "output_type": "display_data"
    },
    {
     "name": "stdout",
     "output_type": "stream",
     "text": [
      "Dataset: gdacs, Shape: (27458, 29)\n"
     ]
    },
    {
     "data": {
      "text/plain": [
       "Disaster_Impact_ID                                          NaN\n",
       "Event_ID                       a86a21880e7fb6e3dfd40c2aef67cb2a\n",
       "Source_Event_IDs                                      [1016960]\n",
       "Event_Name             ['[\"Drought in Cote d\\'Ivoire, Ghana\"]']\n",
       "Event_Type                                               ['DR']\n",
       "Country                                [\"Cote d'Ivoire, Ghana\"]\n",
       "Country_Code                                   [\"['CIV, GHA']\"]\n",
       "Location                      ['[\"Cote d\\'Ivoire\", \\'Ghana\\']']\n",
       "Latitude                                                 [7.51]\n",
       "Longitude                                                [-3.5]\n",
       "Date                                                 2024-04-21\n",
       "Year                                                       2024\n",
       "Month                                                       NaN\n",
       "Day                                                         NaN\n",
       "Time                                                        NaN\n",
       "Severity                                          ['[24413.0]']\n",
       "Population_Affected                                         NaN\n",
       "Fatalities                                                  NaN\n",
       "People_Displaced                                            NaN\n",
       "Financial_Loss                                              NaN\n",
       "Alert_Level                                       [\"['Green']\"]\n",
       "Source                                                       []\n",
       "Comments                                                     []\n",
       "External_Links                                               []\n",
       "AID_Contribution                                            NaN\n",
       "Admin_Units                                                  []\n",
       "External_IDs                                                 []\n",
       "Approval_Date                                               NaN\n",
       "Disbursement_Date                                           NaN\n",
       "Name: 0, dtype: object"
      ]
     },
     "metadata": {},
     "output_type": "display_data"
    },
    {
     "name": "stdout",
     "output_type": "stream",
     "text": [
      "Dataset: disaster_charter, Shape: (381, 29)\n"
     ]
    },
    {
     "data": {
      "text/plain": [
       "Disaster_Impact_ID                                                   NaN\n",
       "Event_ID                                33e783b3a36c2a747caa09ee87818580\n",
       "Source_Event_IDs                                                 ['608']\n",
       "Event_Name                                 [\"['Cyclone Fani in India']\"]\n",
       "Event_Type                                              ['Cyclone Fani']\n",
       "Country                                                        ['India']\n",
       "Country_Code                                                          []\n",
       "Location                                                             NaN\n",
       "Latitude                                                             NaN\n",
       "Longitude                                                            NaN\n",
       "Date                                                          2019-05-03\n",
       "Year                                                                2019\n",
       "Month                                                                May\n",
       "Day                                                                  NaN\n",
       "Time                                                               00:41\n",
       "Severity                                                              []\n",
       "Population_Affected                                                  NaN\n",
       "Fatalities                                                           NaN\n",
       "People_Displaced                                                     NaN\n",
       "Financial_Loss                                                       NaN\n",
       "Alert_Level                                                           []\n",
       "Source                                                                []\n",
       "Comments                                                              []\n",
       "External_Links         [\"['https://disasterscharter.org/web/guest/act...\n",
       "AID_Contribution                                                     NaN\n",
       "Admin_Units                                                           []\n",
       "External_IDs                                                          []\n",
       "Approval_Date                                                        NaN\n",
       "Disbursement_Date                                                    NaN\n",
       "Name: 0, dtype: object"
      ]
     },
     "metadata": {},
     "output_type": "display_data"
    },
    {
     "name": "stdout",
     "output_type": "stream",
     "text": [
      "Dataset: emdat, Shape: (10105, 29)\n"
     ]
    },
    {
     "data": {
      "text/plain": [
       "Disaster_Impact_ID                                  NaN\n",
       "Event_ID               0b04a77c968e39023ebbeea416f0d06b\n",
       "Source_Event_IDs                      ['2014-0461-NER']\n",
       "Event_Name                                       ['[]']\n",
       "Event_Type                          ['Animal incident']\n",
       "Country                                       ['Niger']\n",
       "Country_Code                                [\"['NER']\"]\n",
       "Location                                ['Near Niamey']\n",
       "Latitude                                             []\n",
       "Longitude                                            []\n",
       "Date                                         2014-11-17\n",
       "Year                                               2014\n",
       "Month                                              11.0\n",
       "Day                                                17.0\n",
       "Time                                                NaN\n",
       "Severity                                         ['[]']\n",
       "Population_Affected                                 5.0\n",
       "Fatalities                                         12.0\n",
       "People_Displaced                                    NaN\n",
       "Financial_Loss                                      NaN\n",
       "Alert_Level                                          []\n",
       "Source                                               []\n",
       "Comments                                             []\n",
       "External_Links                                       []\n",
       "AID_Contribution                                    NaN\n",
       "Admin_Units                                      ['[]']\n",
       "External_IDs                                     ['[]']\n",
       "Approval_Date                                       NaN\n",
       "Disbursement_Date                                   NaN\n",
       "Name: 0, dtype: object"
      ]
     },
     "metadata": {},
     "output_type": "display_data"
    },
    {
     "name": "stdout",
     "output_type": "stream",
     "text": [
      "Dataset: idmc, Shape: (17805, 29)\n"
     ]
    },
    {
     "data": {
      "text/plain": [
       "Disaster_Impact_ID                                                   NaN\n",
       "Event_ID                                73e3f57e5c39712d8a915c8ce0d7a1a7\n",
       "Source_Event_IDs                                                 [12181]\n",
       "Event_Name                                     [\"['CIV-2018 Conflict']\"]\n",
       "Event_Type                                                  ['Conflict']\n",
       "Country                                                [\"Côte d'Ivoire\"]\n",
       "Country_Code                                                 [\"['CIV']\"]\n",
       "Location                                                   ['Biankouma']\n",
       "Latitude                                                      [7.738348]\n",
       "Longitude                                                    [-7.612799]\n",
       "Date                                                          2018-05-14\n",
       "Year                                                                2018\n",
       "Month                                                                NaN\n",
       "Day                                                                  NaN\n",
       "Time                                                                 NaN\n",
       "Severity                                                              []\n",
       "Population_Affected                                                  700\n",
       "Fatalities                                                           NaN\n",
       "People_Displaced                                                     NaN\n",
       "Financial_Loss                                                       NaN\n",
       "Alert_Level                                                           []\n",
       "Source                                                     [\"['KOACI']\"]\n",
       "Comments               ['[\"<b> Côte d\\'Ivoire:              700 displ...\n",
       "External_Links         [\"['http://koaci.com/cote-divoire-biankouma-ma...\n",
       "AID_Contribution                                                     NaN\n",
       "Admin_Units                                                           []\n",
       "External_IDs                                                      ['[]']\n",
       "Approval_Date                                                        NaN\n",
       "Disbursement_Date                                                    NaN\n",
       "Name: 0, dtype: object"
      ]
     },
     "metadata": {},
     "output_type": "display_data"
    },
    {
     "name": "stdout",
     "output_type": "stream",
     "text": [
      "Dataset: cerf, Shape: (0, 29)\n",
      "The DataFrame is empty.\n",
      "Dataset: ifrc, Shape: (4084, 29)\n"
     ]
    },
    {
     "data": {
      "text/plain": [
       "Disaster_Impact_ID                                  NaN\n",
       "Event_ID               9601bfceec3a265c0b35ae932b0fad91\n",
       "Source_Event_IDs                                 [2347]\n",
       "Event_Name                           [\"['Poison gas']\"]\n",
       "Event_Type                     ['Biological Emergency']\n",
       "Country                                    ['Cameroon']\n",
       "Country_Code                                [\"['CMR']\"]\n",
       "Location                                            NaN\n",
       "Latitude                                            NaN\n",
       "Longitude                                           NaN\n",
       "Date                                         1986-08-01\n",
       "Year                                                NaN\n",
       "Month                                               NaN\n",
       "Day                                                 NaN\n",
       "Time                                                NaN\n",
       "Severity                                 [\"['Yellow']\"]\n",
       "Population_Affected                                 NaN\n",
       "Fatalities                                          NaN\n",
       "People_Displaced                                    NaN\n",
       "Financial_Loss                                      NaN\n",
       "Alert_Level                                          []\n",
       "Source                                               []\n",
       "Comments                                         ['[]']\n",
       "External_Links                                       []\n",
       "AID_Contribution                                    NaN\n",
       "Admin_Units                                          []\n",
       "External_IDs                                     ['[]']\n",
       "Approval_Date                                       NaN\n",
       "Disbursement_Date                                   NaN\n",
       "Name: 0, dtype: object"
      ]
     },
     "metadata": {},
     "output_type": "display_data"
    }
   ],
   "source": [
    "import pandas as pd\n",
    "import os\n",
    "\n",
    "data_path = '/home/evangelos/src/disaster-impact/data_mid/data_standardised/'\n",
    "\n",
    "\n",
    "standardised_dfs = {\n",
    "    \"glide\": pd.read_csv(os.path.join(data_path, 'glide_standardised.csv')),\n",
    "    \"gdacs\": pd.read_csv(os.path.join(data_path, 'gdacs_standardised.csv')),\n",
    "    \"disaster_charter\": pd.read_csv(os.path.join(data_path, 'disaster_charter_standardised.csv')),\n",
    "    \"emdat\": pd.read_csv(os.path.join(data_path, 'emdat_standardised.csv')),\n",
    "    \"idmc\": pd.read_csv(os.path.join(data_path, 'idmc_standardised.csv')),\n",
    "    \"cerf\": pd.read_csv(os.path.join(data_path, 'cerf_standardised.csv')),\n",
    "    \"ifrc\": pd.read_csv(os.path.join(data_path, 'ifrc_standardised.csv'))\n",
    "}\n",
    "\n",
    "for name, df in standardised_dfs.items():\n",
    "    print(f\"Dataset: {name}, Shape: {df.shape}\")\n",
    "    if not df.empty:\n",
    "        display(df.iloc[0])\n",
    "    else:\n",
    "        print(\"The DataFrame is empty.\")\n"
   ]
  },
  {
   "cell_type": "code",
   "execution_count": 2,
   "metadata": {},
   "outputs": [
    {
     "name": "stderr",
     "output_type": "stream",
     "text": [
      "/tmp/ipykernel_509767/201937051.py:1: FutureWarning: The behavior of DataFrame concatenation with empty or all-NA entries is deprecated. In a future version, this will no longer exclude empty or all-NA columns when determining the result dtypes. To retain the old behavior, exclude the relevant entries before the concat operation.\n",
      "  all_data = pd.concat(standardised_dfs.values(), ignore_index=True)\n"
     ]
    }
   ],
   "source": [
    "all_data = pd.concat(standardised_dfs.values(), ignore_index=True)"
   ]
  },
  {
   "cell_type": "code",
   "execution_count": 10,
   "metadata": {},
   "outputs": [],
   "source": [
    "import hashlib\n",
    "\n",
    "group_key = ['Event_Type', 'Country', 'Date']\n",
    "\n",
    "def consolidate_group(group):\n",
    "    consolidated_row = group.iloc[0].to_dict()\n",
    "    event_ids = sorted(set(group['Event_ID'].dropna().astype(str).tolist()))\n",
    "    consolidated_row[\"Event_ID\"] = event_ids\n",
    "    unique_str = \"|\".join(event_ids)\n",
    "    disaster_impact_id = \"DI_\" + hashlib.md5(unique_str.encode(\"utf-8\")).hexdigest()\n",
    "    consolidated_row['Disaster_Impact_ID'] = disaster_impact_id\n",
    "\n",
    "    return consolidated_row"
   ]
  },
  {
   "cell_type": "code",
   "execution_count": 18,
   "metadata": {},
   "outputs": [
    {
     "name": "stdout",
     "output_type": "stream",
     "text": [
      "Unified DataFrame shape: (66886, 29)\n"
     ]
    },
    {
     "data": {
      "text/plain": [
       "Disaster_Impact_ID                   DI_623b61aa6d2f2feef205ff9a18aecf3b\n",
       "Event_ID               [00af0e3dabd7e9d76971e104aac4bf6b, 5733a456a3a...\n",
       "Source_Event_IDs                                  ['EQ-2004-000093-JPN']\n",
       "Event_Name                                            [\"['Earthquake']\"]\n",
       "Event_Type                                                        ['EQ']\n",
       "Country                                                        ['Japan']\n",
       "Country_Code                                                 [\"['JPN']\"]\n",
       "Location                          ['Near South Coast of Western Honshu']\n",
       "Latitude                                              [33.5189469232358]\n",
       "Longitude                                               [132.8476505625]\n",
       "Date                                                          2004-09-05\n",
       "Year                                                                2004\n",
       "Month                                                                  9\n",
       "Day                                                                    5\n",
       "Time                                                               23:57\n",
       "Severity                                                     [\"['7.4']\"]\n",
       "Population_Affected                                                  NaN\n",
       "Fatalities                                                           NaN\n",
       "People_Displaced                                                     NaN\n",
       "Financial_Loss                                                       NaN\n",
       "Alert_Level                                                           []\n",
       "Source                               [\"['Japan Meteorological Agency']\"]\n",
       "Comments               [\"['An earthquake measuring about 7.3 on the R...\n",
       "External_Links                                                        []\n",
       "AID_Contribution                                                     NaN\n",
       "Admin_Units                                                           []\n",
       "External_IDs                                                          []\n",
       "Approval_Date                                                        NaN\n",
       "Disbursement_Date                                                    NaN\n",
       "Name: 28412, dtype: object"
      ]
     },
     "metadata": {},
     "output_type": "display_data"
    }
   ],
   "source": [
    "unified_rows = []\n",
    "for _, group in all_data.groupby(group_key):\n",
    "    unified_rows.append(consolidate_group(group))\n",
    "\n",
    "unified_df = pd.DataFrame(unified_rows)\n",
    "\n",
    "print(f\"Unified DataFrame shape: {unified_df.shape}\")\n",
    "display(unified_df.iloc[28412])"
   ]
  },
  {
   "cell_type": "code",
   "execution_count": 13,
   "metadata": {},
   "outputs": [],
   "source": [
    "os.makedirs('/home/evangelos/src/disaster-impact/data_out/data_unified/', exist_ok=True)\n",
    "\n",
    "unified_df.to_csv('/home/evangelos/src/disaster-impact/data_out/data_unified/unified_data.csv', index=False)"
   ]
  },
  {
   "cell_type": "code",
   "execution_count": 17,
   "metadata": {},
   "outputs": [
    {
     "data": {
      "text/plain": [
       "Disaster_Impact_ID                   DI_623b61aa6d2f2feef205ff9a18aecf3b\n",
       "Event_ID               [00af0e3dabd7e9d76971e104aac4bf6b, 5733a456a3a...\n",
       "Source_Event_IDs                                  ['EQ-2004-000093-JPN']\n",
       "Event_Name                                            [\"['Earthquake']\"]\n",
       "Event_Type                                                        ['EQ']\n",
       "Country                                                        ['Japan']\n",
       "Country_Code                                                 [\"['JPN']\"]\n",
       "Location                          ['Near South Coast of Western Honshu']\n",
       "Latitude                                              [33.5189469232358]\n",
       "Longitude                                               [132.8476505625]\n",
       "Date                                                          2004-09-05\n",
       "Year                                                                2004\n",
       "Month                                                                  9\n",
       "Day                                                                    5\n",
       "Time                                                               23:57\n",
       "Severity                                                     [\"['7.4']\"]\n",
       "Population_Affected                                                  NaN\n",
       "Fatalities                                                           NaN\n",
       "People_Displaced                                                     NaN\n",
       "Financial_Loss                                                       NaN\n",
       "Alert_Level                                                           []\n",
       "Source                               [\"['Japan Meteorological Agency']\"]\n",
       "Comments               [\"['An earthquake measuring about 7.3 on the R...\n",
       "External_Links                                                        []\n",
       "AID_Contribution                                                     NaN\n",
       "Admin_Units                                                           []\n",
       "External_IDs                                                          []\n",
       "Approval_Date                                                        NaN\n",
       "Disbursement_Date                                                    NaN\n",
       "Name: 28412, dtype: object"
      ]
     },
     "metadata": {},
     "output_type": "display_data"
    }
   ],
   "source": [
    "display(unified_df.iloc[28412])"
   ]
  },
  {
   "cell_type": "code",
   "execution_count": null,
   "metadata": {},
   "outputs": [],
   "source": []
  }
 ],
 "metadata": {
  "kernelspec": {
   "display_name": ".venv",
   "language": "python",
   "name": "python3"
  },
  "language_info": {
   "codemirror_mode": {
    "name": "ipython",
    "version": 3
   },
   "file_extension": ".py",
   "mimetype": "text/x-python",
   "name": "python",
   "nbconvert_exporter": "python",
   "pygments_lexer": "ipython3",
   "version": "3.10.12"
  }
 },
 "nbformat": 4,
 "nbformat_minor": 2
}
