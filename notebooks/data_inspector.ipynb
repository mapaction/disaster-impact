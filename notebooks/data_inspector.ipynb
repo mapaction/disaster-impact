{
 "cells": [
  {
   "cell_type": "code",
   "execution_count": 1,
   "metadata": {},
   "outputs": [],
   "source": [
    "import pandas as pd\n"
   ]
  },
  {
   "cell_type": "code",
   "execution_count": 8,
   "metadata": {},
   "outputs": [
    {
     "name": "stdout",
     "output_type": "stream",
     "text": [
      "         GLIDE_number             Event             Country       Date_  \\\n",
      "0  TC-2024-000219-LKA  Tropical Cyclone           Sri Lanka  2024/11/23   \n",
      "1  FL-2024-000218-MYS             Flood            Malaysia  2024/11/25   \n",
      "2  FL-2024-000217-THA             Flood            Thailand  2024/11/26   \n",
      "3  FL-2024-000216-DOM             Flood  Dominican Republic  2024/11/14   \n",
      "4  FL-2024-000215-CRI             Flood          Costa Rica   2024/11/7   \n",
      "\n",
      "  Event_Code Glide_Serial Country_Code  Year  Month  Day  ... Duration  \\\n",
      "0         TC  2024-000219          LKA  2024     11   23  ...      5.0   \n",
      "1         FL  2024-000218          MYS  2024     11   25  ...    120.0   \n",
      "2         FL  2024-000217          THA  2024     11   26  ...      NaN   \n",
      "3         FL  2024-000216          DOM  2024     11   14  ...      NaN   \n",
      "4         FL  2024-000215          CRI  2024     11    7  ...      NaN   \n",
      "\n",
      "  Magnitude                                             Source  \\\n",
      "0       NaN  Sri Lanka Red Cross Society and Sri Lanka's Di...   \n",
      "1       NaN  Malaysian Red Crescent Society, Official Stati...   \n",
      "2       NaN                                         AHA Centre   \n",
      "3       NaN                                               IFRC   \n",
      "4       NaN                                               IFRC   \n",
      "\n",
      "                                            Comments   Latitude   Longitude  \\\n",
      "0  The deep depression in the Bay of Bengal condi...   8.311352   80.403651   \n",
      "1  The Northeast Monsoon (MTL) began in early Nov...   5.093634  102.989615   \n",
      "2  Continuous heavy rains brought by the northeas...   6.202025  101.252379   \n",
      "3  As of 14 November, rainfall models predict 60-...  18.735693  -70.162651   \n",
      "4  On 7 November 2024, the National Meteorologica...   9.748917  -83.753428   \n",
      "\n",
      "   Id  Id_Source     Created     Updated  \n",
      "0 NaN        NaN  2024-12-04  2024-12-04  \n",
      "1 NaN        NaN  2024-12-01  2024-12-01  \n",
      "2 NaN        NaN  2024-11-29  2024-11-29  \n",
      "3 NaN        NaN  2024-11-25  2024-11-25  \n",
      "4 NaN        NaN  2024-11-22  2024-11-22  \n",
      "\n",
      "[5 rows x 22 columns]\n"
     ]
    }
   ],
   "source": [
    "glide_events_df = pd.read_csv('/home/evangelos/src/disaster-impact/data/glide/glide_data_combined_all.csv')\n",
    "print(glide_events_df.head())\n",
    "#print(glide_events_df.columns)"
   ]
  },
  {
   "cell_type": "code",
   "execution_count": 3,
   "metadata": {},
   "outputs": [
    {
     "name": "stdout",
     "output_type": "stream",
     "text": [
      "Index(['event_id', 'event_type', 'event_name', 'from_date', 'to_date',\n",
      "       'alert_level', 'countries', 'population', 'severity', 'alert_score',\n",
      "       'year'],\n",
      "      dtype='object')\n"
     ]
    }
   ],
   "source": [
    "gdacs_events_df = pd.read_csv('/home/evangelos/src/disaster-impact/data/gdacs_all_types_yearly_v2_fast/combined_gdacs_data.csv')\n",
    "#print(gdacs_events_df.head())\n",
    "print(gdacs_events_df.columns)"
   ]
  },
  {
   "cell_type": "code",
   "execution_count": 4,
   "metadata": {},
   "outputs": [
    {
     "name": "stdout",
     "output_type": "stream",
     "text": [
      "Index(['FID', 'uid', 'radius_km', 'population', 'created_at', 'Shape__Are',\n",
      "       'Shape__Len', 'Shape__Area', 'Shape__Length', 'x', 'y'],\n",
      "      dtype='object')\n"
     ]
    }
   ],
   "source": [
    "adam_events_df = pd.read_csv('/home/evangelos/src/disaster-impact/data/adam_data/adam_eq_buffers.csv')\n",
    "#print(adam_events_df.head())\n",
    "print(adam_events_df.columns)"
   ]
  },
  {
   "cell_type": "code",
   "execution_count": 5,
   "metadata": {},
   "outputs": [
    {
     "name": "stdout",
     "output_type": "stream",
     "text": [
      "Index(['link_id', 'allocation_code', 'allocation', 'emergency_type', 'agency',\n",
      "       'country', 'project_code', 'project_description', 'window', 'sector',\n",
      "       'approved_amount', 'approval_date', 'disbursement_date',\n",
      "       'groups_targeted', 'number_of_people_targeted', 'implementation_dates'],\n",
      "      dtype='object')\n"
     ]
    }
   ],
   "source": [
    "cerf_events_df = pd.read_csv('/home/evangelos/src/disaster-impact/data/cerf/cerf_emergency_data_dynamic_web_scrape.csv')\n",
    "print(cerf_events_df.columns)"
   ]
  },
  {
   "cell_type": "code",
   "execution_count": 6,
   "metadata": {},
   "outputs": [
    {
     "name": "stdout",
     "output_type": "stream",
     "text": [
      "Index(['Year', 'Month', 'Date', 'Disaster', 'Formatted Date', 'Details Link',\n",
      "       'Type of Event', 'Location of Event', 'Date of Activation',\n",
      "       'Time of Activation', 'Timezone', 'Charter Requestor', 'Activation ID',\n",
      "       'Project Management', 'Value Adding'],\n",
      "      dtype='object')\n"
     ]
    }
   ],
   "source": [
    "disaster_charter_events_df = pd.read_csv('/home/evangelos/src/disaster-impact/data/disaster-charter/charter_activations_web_scrape_2000_2024.csv')\n",
    "print(disaster_charter_events_df.columns)"
   ]
  },
  {
   "cell_type": "code",
   "execution_count": null,
   "metadata": {},
   "outputs": [],
   "source": [
    "import pandas as pd\n",
    "data = pd.read_parquet('/home/evangelos/src/disaster-impact/data/adam_data/combined_adam_data.parquet')\n",
    "print(data.head())\n"
   ]
  },
  {
   "cell_type": "code",
   "execution_count": null,
   "metadata": {},
   "outputs": [],
   "source": [
    "import geopandas as gpd\n",
    "\n",
    "geoparquet_gpd = gpd.read_parquet('/home/evangelos/src/disaster-impact/data/adam_data/combined_adam_data.parquet')\n",
    "print(geoparquet_gpd.head())\n"
   ]
  },
  {
   "cell_type": "code",
   "execution_count": 7,
   "metadata": {},
   "outputs": [
    {
     "name": "stdout",
     "output_type": "stream",
     "text": [
      "Index(['GLIDE_number', 'Event', 'Country', 'Date_', 'Event_Code',\n",
      "       'Glide_Serial', 'Country_Code', 'Year', 'Month', 'Day', 'Time',\n",
      "       'Location', 'Duration', 'Magnitude', 'Source', 'Comments', 'Latitude',\n",
      "       'Longitude', 'Id', 'Id_Source', 'Created', 'Updated'],\n",
      "      dtype='object')\n",
      "Index(['event_id', 'event_type', 'event_name', 'from_date', 'to_date',\n",
      "       'alert_level', 'countries', 'population', 'severity', 'alert_score',\n",
      "       'year'],\n",
      "      dtype='object')\n",
      "Index(['FID', 'uid', 'radius_km', 'population', 'created_at', 'Shape__Are',\n",
      "       'Shape__Len', 'Shape__Area', 'Shape__Length', 'x', 'y'],\n",
      "      dtype='object')\n",
      "Index(['link_id', 'allocation_code', 'allocation', 'emergency_type', 'agency',\n",
      "       'country', 'project_code', 'project_description', 'window', 'sector',\n",
      "       'approved_amount', 'approval_date', 'disbursement_date',\n",
      "       'groups_targeted', 'number_of_people_targeted', 'implementation_dates'],\n",
      "      dtype='object')\n",
      "Index(['Year', 'Month', 'Date', 'Disaster', 'Formatted Date', 'Details Link',\n",
      "       'Type of Event', 'Location of Event', 'Date of Activation',\n",
      "       'Time of Activation', 'Timezone', 'Charter Requestor', 'Activation ID',\n",
      "       'Project Management', 'Value Adding'],\n",
      "      dtype='object')\n"
     ]
    }
   ],
   "source": [
    "print(glide_events_df.columns)\n",
    "print(gdacs_events_df.columns)\n",
    "print(adam_events_df.columns)\n",
    "print(cerf_events_df.columns)\n",
    "print(disaster_charter_events_df.columns)"
   ]
  },
  {
   "cell_type": "code",
   "execution_count": null,
   "metadata": {},
   "outputs": [],
   "source": [
    "import pandas as pd\n",
    "import numpy as np\n",
    "\n",
    "from data_consolidation.dictionary import (\n",
    "    STANDARD_COLUMNS, GLIDE_MAPPING, GDACS_MAPPING, ADAM_MAPPING,\n",
    "    CERF_MAPPING, DISASTER_CHARTER_MAPPING\n",
    ") \n",
    "\n",
    "glide_events_df\n",
    "gdacs_events_df \n",
    "adam_events_df \n",
    "cerf_events_df \n",
    "disaster_charter_events_df\n"
   ]
  },
  {
   "cell_type": "code",
   "execution_count": 12,
   "metadata": {},
   "outputs": [],
   "source": [
    "def check_mapping(df, mapping, dataset_name):\n",
    "    print(f\"\\nChecking mappings for {dataset_name} dataset:\")\n",
    "    for standard_col, original_col in mapping.items():\n",
    "        if original_col:\n",
    "            if original_col in df.columns:\n",
    "                print(f\"✅ Standard column '{standard_col}' is correctly mapped to '{original_col}' in {dataset_name} dataframe.\")\n",
    "            else:\n",
    "                print(f\"❌ Standard column '{standard_col}' is mapped to '{original_col}' which does NOT exist in {dataset_name} dataframe.\")\n",
    "        else:\n",
    "            print(f\"⚠️  Standard column '{standard_col}' is not mapped in {dataset_name} (False).\")\n"
   ]
  },
  {
   "cell_type": "code",
   "execution_count": 13,
   "metadata": {},
   "outputs": [
    {
     "name": "stdout",
     "output_type": "stream",
     "text": [
      "\n",
      "Checking mappings for GLIDE dataset:\n",
      "✅ Standard column 'Event_ID' is correctly mapped to 'GLIDE_number' in GLIDE dataframe.\n",
      "✅ Standard column 'Event_Name' is correctly mapped to 'Event' in GLIDE dataframe.\n",
      "✅ Standard column 'Event_Type' is correctly mapped to 'Event_Code' in GLIDE dataframe.\n",
      "✅ Standard column 'Country' is correctly mapped to 'Country' in GLIDE dataframe.\n",
      "✅ Standard column 'Country_Code' is correctly mapped to 'Country_Code' in GLIDE dataframe.\n",
      "✅ Standard column 'Location' is correctly mapped to 'Location' in GLIDE dataframe.\n",
      "✅ Standard column 'Latitude' is correctly mapped to 'Latitude' in GLIDE dataframe.\n",
      "✅ Standard column 'Longitude' is correctly mapped to 'Longitude' in GLIDE dataframe.\n",
      "✅ Standard column 'Date' is correctly mapped to 'Date_' in GLIDE dataframe.\n",
      "✅ Standard column 'Year' is correctly mapped to 'Year' in GLIDE dataframe.\n",
      "✅ Standard column 'Month' is correctly mapped to 'Month' in GLIDE dataframe.\n",
      "✅ Standard column 'Day' is correctly mapped to 'Day' in GLIDE dataframe.\n",
      "✅ Standard column 'Time' is correctly mapped to 'Time' in GLIDE dataframe.\n",
      "✅ Standard column 'Severity' is correctly mapped to 'Magnitude' in GLIDE dataframe.\n",
      "⚠️  Standard column 'Population_Affected' is not mapped in GLIDE (False).\n",
      "⚠️  Standard column 'Alert_Level' is not mapped in GLIDE (False).\n",
      "✅ Standard column 'Source' is correctly mapped to 'Source' in GLIDE dataframe.\n",
      "✅ Standard column 'Comments' is correctly mapped to 'Comments' in GLIDE dataframe.\n",
      "\n",
      "Checking mappings for GDACS dataset:\n",
      "✅ Standard column 'Event_ID' is correctly mapped to 'event_id' in GDACS dataframe.\n",
      "✅ Standard column 'Event_Name' is correctly mapped to 'event_name' in GDACS dataframe.\n",
      "✅ Standard column 'Event_Type' is correctly mapped to 'event_type' in GDACS dataframe.\n",
      "✅ Standard column 'Country' is correctly mapped to 'countries' in GDACS dataframe.\n",
      "⚠️  Standard column 'Country_Code' is not mapped in GDACS (False).\n",
      "⚠️  Standard column 'Location' is not mapped in GDACS (False).\n",
      "⚠️  Standard column 'Latitude' is not mapped in GDACS (False).\n",
      "⚠️  Standard column 'Longitude' is not mapped in GDACS (False).\n",
      "✅ Standard column 'Date' is correctly mapped to 'from_date' in GDACS dataframe.\n",
      "✅ Standard column 'Year' is correctly mapped to 'year' in GDACS dataframe.\n",
      "⚠️  Standard column 'Month' is not mapped in GDACS (False).\n",
      "⚠️  Standard column 'Day' is not mapped in GDACS (False).\n",
      "⚠️  Standard column 'Time' is not mapped in GDACS (False).\n",
      "✅ Standard column 'Severity' is correctly mapped to 'severity' in GDACS dataframe.\n",
      "✅ Standard column 'Population_Affected' is correctly mapped to 'population' in GDACS dataframe.\n",
      "✅ Standard column 'Alert_Level' is correctly mapped to 'alert_level' in GDACS dataframe.\n",
      "⚠️  Standard column 'Source' is not mapped in GDACS (False).\n",
      "⚠️  Standard column 'Comments' is not mapped in GDACS (False).\n",
      "\n",
      "Checking mappings for ADAM dataset:\n",
      "✅ Standard column 'Event_ID' is correctly mapped to 'uid' in ADAM dataframe.\n",
      "⚠️  Standard column 'Event_Name' is not mapped in ADAM (False).\n",
      "⚠️  Standard column 'Event_Type' is not mapped in ADAM (False).\n",
      "⚠️  Standard column 'Country' is not mapped in ADAM (False).\n",
      "⚠️  Standard column 'Country_Code' is not mapped in ADAM (False).\n",
      "⚠️  Standard column 'Location' is not mapped in ADAM (False).\n",
      "✅ Standard column 'Latitude' is correctly mapped to 'y' in ADAM dataframe.\n",
      "✅ Standard column 'Longitude' is correctly mapped to 'x' in ADAM dataframe.\n",
      "✅ Standard column 'Date' is correctly mapped to 'created_at' in ADAM dataframe.\n",
      "⚠️  Standard column 'Year' is not mapped in ADAM (False).\n",
      "⚠️  Standard column 'Month' is not mapped in ADAM (False).\n",
      "⚠️  Standard column 'Day' is not mapped in ADAM (False).\n",
      "⚠️  Standard column 'Time' is not mapped in ADAM (False).\n",
      "⚠️  Standard column 'Severity' is not mapped in ADAM (False).\n",
      "✅ Standard column 'Population_Affected' is correctly mapped to 'population' in ADAM dataframe.\n",
      "⚠️  Standard column 'Alert_Level' is not mapped in ADAM (False).\n",
      "⚠️  Standard column 'Source' is not mapped in ADAM (False).\n",
      "⚠️  Standard column 'Comments' is not mapped in ADAM (False).\n",
      "\n",
      "Checking mappings for CERF dataset:\n",
      "✅ Standard column 'Event_ID' is correctly mapped to 'allocation_code' in CERF dataframe.\n",
      "⚠️  Standard column 'Event_Name' is not mapped in CERF (False).\n",
      "✅ Standard column 'Event_Type' is correctly mapped to 'emergency_type' in CERF dataframe.\n",
      "✅ Standard column 'Country' is correctly mapped to 'country' in CERF dataframe.\n",
      "⚠️  Standard column 'Country_Code' is not mapped in CERF (False).\n",
      "⚠️  Standard column 'Location' is not mapped in CERF (False).\n",
      "⚠️  Standard column 'Latitude' is not mapped in CERF (False).\n",
      "⚠️  Standard column 'Longitude' is not mapped in CERF (False).\n",
      "✅ Standard column 'Date' is correctly mapped to 'approval_date' in CERF dataframe.\n",
      "⚠️  Standard column 'Year' is not mapped in CERF (False).\n",
      "⚠️  Standard column 'Month' is not mapped in CERF (False).\n",
      "⚠️  Standard column 'Day' is not mapped in CERF (False).\n",
      "⚠️  Standard column 'Time' is not mapped in CERF (False).\n",
      "⚠️  Standard column 'Severity' is not mapped in CERF (False).\n",
      "✅ Standard column 'Population_Affected' is correctly mapped to 'number_of_people_targeted' in CERF dataframe.\n",
      "⚠️  Standard column 'Alert_Level' is not mapped in CERF (False).\n",
      "⚠️  Standard column 'Source' is not mapped in CERF (False).\n",
      "✅ Standard column 'Comments' is correctly mapped to 'project_description' in CERF dataframe.\n",
      "\n",
      "Checking mappings for Disaster Charter Activation dataset:\n",
      "✅ Standard column 'Event_ID' is correctly mapped to 'Activation ID' in Disaster Charter Activation dataframe.\n",
      "✅ Standard column 'Event_Name' is correctly mapped to 'Disaster' in Disaster Charter Activation dataframe.\n",
      "✅ Standard column 'Event_Type' is correctly mapped to 'Type of Event' in Disaster Charter Activation dataframe.\n",
      "✅ Standard column 'Country' is correctly mapped to 'Location of Event' in Disaster Charter Activation dataframe.\n",
      "⚠️  Standard column 'Country_Code' is not mapped in Disaster Charter Activation (False).\n",
      "✅ Standard column 'Location' is correctly mapped to 'Location of Event' in Disaster Charter Activation dataframe.\n",
      "⚠️  Standard column 'Latitude' is not mapped in Disaster Charter Activation (False).\n",
      "⚠️  Standard column 'Longitude' is not mapped in Disaster Charter Activation (False).\n",
      "✅ Standard column 'Date' is correctly mapped to 'Date of Activation' in Disaster Charter Activation dataframe.\n",
      "✅ Standard column 'Year' is correctly mapped to 'Year' in Disaster Charter Activation dataframe.\n",
      "✅ Standard column 'Month' is correctly mapped to 'Month' in Disaster Charter Activation dataframe.\n",
      "⚠️  Standard column 'Day' is not mapped in Disaster Charter Activation (False).\n",
      "✅ Standard column 'Time' is correctly mapped to 'Time of Activation' in Disaster Charter Activation dataframe.\n",
      "⚠️  Standard column 'Severity' is not mapped in Disaster Charter Activation (False).\n",
      "⚠️  Standard column 'Population_Affected' is not mapped in Disaster Charter Activation (False).\n",
      "⚠️  Standard column 'Alert_Level' is not mapped in Disaster Charter Activation (False).\n",
      "⚠️  Standard column 'Source' is not mapped in Disaster Charter Activation (False).\n",
      "⚠️  Standard column 'Comments' is not mapped in Disaster Charter Activation (False).\n"
     ]
    }
   ],
   "source": [
    "\n",
    "check_mapping(glide_events_df, GLIDE_MAPPING, 'GLIDE')\n",
    "\n",
    "check_mapping(gdacs_events_df, GDACS_MAPPING, 'GDACS')\n",
    "\n",
    "check_mapping(adam_events_df, ADAM_MAPPING, 'ADAM')\n",
    "\n",
    "check_mapping(cerf_events_df, CERF_MAPPING, 'CERF')\n",
    "\n",
    "\n",
    "check_mapping(disaster_charter_events_df, DISASTER_CHARTER_MAPPING, 'Disaster Charter Activation')\n"
   ]
  },
  {
   "cell_type": "code",
   "execution_count": null,
   "metadata": {},
   "outputs": [],
   "source": [
    "df_monty = pd.read_csv('/home/evangelos/src/disaster-impact/data/monty/event_Level_cleaned.csv')"
   ]
  },
  {
   "cell_type": "code",
   "execution_count": 15,
   "metadata": {},
   "outputs": [
    {
     "data": {
      "text/plain": [
       "Index(['event_ID', 'ev_name', 'ext_ID', 'ext_ID_db', 'ext_ID_org', 'ev_sdate',\n",
       "       'ev_fdate', 'gen_location', 'ev_ISO3s', 'all_hazs_Ab', 'all_hazs_spec'],\n",
       "      dtype='object')"
      ]
     },
     "execution_count": 15,
     "metadata": {},
     "output_type": "execute_result"
    }
   ],
   "source": [
    "df_monty.columns"
   ]
  },
  {
   "cell_type": "code",
   "execution_count": null,
   "metadata": {},
   "outputs": [
    {
     "data": {
      "text/html": [
       "<div>\n",
       "<style scoped>\n",
       "    .dataframe tbody tr th:only-of-type {\n",
       "        vertical-align: middle;\n",
       "    }\n",
       "\n",
       "    .dataframe tbody tr th {\n",
       "        vertical-align: top;\n",
       "    }\n",
       "\n",
       "    .dataframe thead th {\n",
       "        text-align: right;\n",
       "    }\n",
       "</style>\n",
       "<table border=\"1\" class=\"dataframe\">\n",
       "  <thead>\n",
       "    <tr style=\"text-align: right;\">\n",
       "      <th></th>\n",
       "      <th>event_ID</th>\n",
       "      <th>ev_name</th>\n",
       "      <th>ext_ID</th>\n",
       "      <th>ext_ID_db</th>\n",
       "      <th>ext_ID_org</th>\n",
       "      <th>ev_sdate</th>\n",
       "      <th>ev_fdate</th>\n",
       "      <th>gen_location</th>\n",
       "      <th>ev_ISO3s</th>\n",
       "      <th>all_hazs_Ab</th>\n",
       "      <th>all_hazs_spec</th>\n",
       "    </tr>\n",
       "  </thead>\n",
       "  <tbody>\n",
       "    <tr>\n",
       "      <th>0</th>\n",
       "      <td>monty_031f0987-9d17-4007-9665-85b85448af82</td>\n",
       "      <td>sequia</td>\n",
       "      <td>ARG-7838-a</td>\n",
       "      <td>Desinventar</td>\n",
       "      <td>UNDRR</td>\n",
       "      <td>2007-08-20</td>\n",
       "      <td>2067-08-05</td>\n",
       "      <td>Cuenca Desaguadero-Salado- Chadileuvu (W de la...</td>\n",
       "      <td>ARG</td>\n",
       "      <td>DR</td>\n",
       "      <td>MH0035</td>\n",
       "    </tr>\n",
       "    <tr>\n",
       "      <th>1</th>\n",
       "      <td>monty_e6567a9d-2896-4508-b525-ddfcb79e0891</td>\n",
       "      <td>Vietnam - Heat Wave (EAP2021VN01)</td>\n",
       "      <td>MDRVN022</td>\n",
       "      <td>GO-DREF</td>\n",
       "      <td>IFRC</td>\n",
       "      <td>2021-04-09</td>\n",
       "      <td>2026-04-30</td>\n",
       "      <td>Vietnam - Heat Wave (EAP2021VN01)</td>\n",
       "      <td>VNM</td>\n",
       "      <td>HW</td>\n",
       "      <td>MH0047</td>\n",
       "    </tr>\n",
       "    <tr>\n",
       "      <th>2</th>\n",
       "      <td>monty_79e9ce45-3223-4b22-abb7-b99e997ee0a6</td>\n",
       "      <td>fire</td>\n",
       "      <td>KEN-28047</td>\n",
       "      <td>Desinventar</td>\n",
       "      <td>UNDRR</td>\n",
       "      <td>2021-05-29</td>\n",
       "      <td>2027-10-25</td>\n",
       "      <td>Lindi - kibera slum,Butiye loc.,Sibanga Market</td>\n",
       "      <td>KEN</td>\n",
       "      <td>WF</td>\n",
       "      <td>EN0013</td>\n",
       "    </tr>\n",
       "    <tr>\n",
       "      <th>3</th>\n",
       "      <td>monty_07618a9d-2c26-4af3-a5bc-51acb709496e</td>\n",
       "      <td>windstorm</td>\n",
       "      <td>KEN-28041</td>\n",
       "      <td>Desinventar</td>\n",
       "      <td>UNDRR</td>\n",
       "      <td>2021-05-29</td>\n",
       "      <td>2024-02-23</td>\n",
       "      <td>milo sub location</td>\n",
       "      <td>KEN</td>\n",
       "      <td>VW</td>\n",
       "      <td>MH0060</td>\n",
       "    </tr>\n",
       "    <tr>\n",
       "      <th>4</th>\n",
       "      <td>monty_92707914-9d5f-4d28-9bd9-17fb97bc33a9</td>\n",
       "      <td>fire</td>\n",
       "      <td>KEN-28094</td>\n",
       "      <td>Desinventar</td>\n",
       "      <td>UNDRR</td>\n",
       "      <td>2021-06-01</td>\n",
       "      <td>2027-01-16</td>\n",
       "      <td>Mwonge</td>\n",
       "      <td>KEN</td>\n",
       "      <td>WF</td>\n",
       "      <td>EN0013</td>\n",
       "    </tr>\n",
       "  </tbody>\n",
       "</table>\n",
       "</div>"
      ],
      "text/plain": [
       "                                     event_ID  \\\n",
       "0  monty_031f0987-9d17-4007-9665-85b85448af82   \n",
       "1  monty_e6567a9d-2896-4508-b525-ddfcb79e0891   \n",
       "2  monty_79e9ce45-3223-4b22-abb7-b99e997ee0a6   \n",
       "3  monty_07618a9d-2c26-4af3-a5bc-51acb709496e   \n",
       "4  monty_92707914-9d5f-4d28-9bd9-17fb97bc33a9   \n",
       "\n",
       "                             ev_name      ext_ID    ext_ID_db ext_ID_org  \\\n",
       "0                             sequia  ARG-7838-a  Desinventar      UNDRR   \n",
       "1  Vietnam - Heat Wave (EAP2021VN01)    MDRVN022      GO-DREF       IFRC   \n",
       "2                               fire   KEN-28047  Desinventar      UNDRR   \n",
       "3                          windstorm   KEN-28041  Desinventar      UNDRR   \n",
       "4                               fire   KEN-28094  Desinventar      UNDRR   \n",
       "\n",
       "     ev_sdate    ev_fdate                                       gen_location  \\\n",
       "0  2007-08-20  2067-08-05  Cuenca Desaguadero-Salado- Chadileuvu (W de la...   \n",
       "1  2021-04-09  2026-04-30                  Vietnam - Heat Wave (EAP2021VN01)   \n",
       "2  2021-05-29  2027-10-25   Lindi - kibera slum,Butiye loc.,Sibanga Market     \n",
       "3  2021-05-29  2024-02-23                                  milo sub location   \n",
       "4  2021-06-01  2027-01-16                                             Mwonge   \n",
       "\n",
       "  ev_ISO3s all_hazs_Ab all_hazs_spec  \n",
       "0      ARG          DR        MH0035  \n",
       "1      VNM          HW        MH0047  \n",
       "2      KEN          WF        EN0013  \n",
       "3      KEN          VW        MH0060  \n",
       "4      KEN          WF        EN0013  "
      ]
     },
     "execution_count": 16,
     "metadata": {},
     "output_type": "execute_result"
    }
   ],
   "source": [
    "df_monty.head()"
   ]
  },
  {
   "cell_type": "code",
   "execution_count": 21,
   "metadata": {},
   "outputs": [
    {
     "name": "stdout",
     "output_type": "stream",
     "text": [
      "Empty DataFrame\n",
      "Columns: [event_ID, ev_name, ext_ID, ext_ID_db, ext_ID_org, ev_sdate, ev_fdate, gen_location, ev_ISO3s, all_hazs_Ab, all_hazs_spec]\n",
      "Index: []\n"
     ]
    }
   ],
   "source": [
    "\n",
    "if 'ext_ID' in df_monty.columns:\n",
    "    df_monty['ext_ID'] = df_monty['ext_ID'].astype(str)\n",
    "    df_monty_filtered = df_monty[df_monty['ext_ID'].str.contains('AC-2000-000871-BGD')]\n",
    "    print(df_monty_filtered)\n",
    "else:\n",
    "    print(\"Column 'ext_ID' does not exist in the dataframe.\")"
   ]
  },
  {
   "cell_type": "code",
   "execution_count": 22,
   "metadata": {},
   "outputs": [
    {
     "name": "stdout",
     "output_type": "stream",
     "text": [
      "Glide does not exist in the ext_ID_db column.\n"
     ]
    }
   ],
   "source": [
    "if 'Glide' in df_monty['ext_ID_db'].values:\n",
    "    print(\"Glide exists in the ext_ID_db column.\")\n",
    "else:\n",
    "    print(\"Glide does not exist in the ext_ID_db column.\")"
   ]
  },
  {
   "cell_type": "code",
   "execution_count": 23,
   "metadata": {},
   "outputs": [],
   "source": [
    "df_monty = pd.read_csv('/home/evangelos/src/disaster-impact/data/monty/hazard_Data_cleaned.csv')"
   ]
  },
  {
   "cell_type": "code",
   "execution_count": 24,
   "metadata": {},
   "outputs": [
    {
     "data": {
      "text/plain": [
       "Index(['event_ID', 'haz_sub_ID', 'ext_ID', 'ext_ID_db', 'ext_ID_org',\n",
       "       'haz_src_db', 'haz_src_URL', 'haz_src_org', 'haz_maxvalue',\n",
       "       'haz_maxunits', 'haz_est_type', 'all_hazs_Ab', 'all_hazs_spec',\n",
       "       'haz_sdate', 'haz_fdate', 'haz_credate', 'haz_moddate', 'haz_spat_ID',\n",
       "       'haz_spat_fileloc', 'haz_ISO3s', 'haz_spat_covcode',\n",
       "       'haz_spat_resunits', 'haz_spat_crs', 'haz_spat_srcdb', 'haz_spat_URL',\n",
       "       'haz_spat_srcorg'],\n",
       "      dtype='object')"
      ]
     },
     "execution_count": 24,
     "metadata": {},
     "output_type": "execute_result"
    }
   ],
   "source": [
    "df_monty.columns\n"
   ]
  },
  {
   "cell_type": "code",
   "execution_count": 25,
   "metadata": {},
   "outputs": [
    {
     "data": {
      "text/html": [
       "<div>\n",
       "<style scoped>\n",
       "    .dataframe tbody tr th:only-of-type {\n",
       "        vertical-align: middle;\n",
       "    }\n",
       "\n",
       "    .dataframe tbody tr th {\n",
       "        vertical-align: top;\n",
       "    }\n",
       "\n",
       "    .dataframe thead th {\n",
       "        text-align: right;\n",
       "    }\n",
       "</style>\n",
       "<table border=\"1\" class=\"dataframe\">\n",
       "  <thead>\n",
       "    <tr style=\"text-align: right;\">\n",
       "      <th></th>\n",
       "      <th>event_ID</th>\n",
       "      <th>haz_sub_ID</th>\n",
       "      <th>ext_ID</th>\n",
       "      <th>ext_ID_db</th>\n",
       "      <th>ext_ID_org</th>\n",
       "      <th>haz_src_db</th>\n",
       "      <th>haz_src_URL</th>\n",
       "      <th>haz_src_org</th>\n",
       "      <th>haz_maxvalue</th>\n",
       "      <th>haz_maxunits</th>\n",
       "      <th>...</th>\n",
       "      <th>haz_moddate</th>\n",
       "      <th>haz_spat_ID</th>\n",
       "      <th>haz_spat_fileloc</th>\n",
       "      <th>haz_ISO3s</th>\n",
       "      <th>haz_spat_covcode</th>\n",
       "      <th>haz_spat_resunits</th>\n",
       "      <th>haz_spat_crs</th>\n",
       "      <th>haz_spat_srcdb</th>\n",
       "      <th>haz_spat_URL</th>\n",
       "      <th>haz_spat_srcorg</th>\n",
       "    </tr>\n",
       "  </thead>\n",
       "  <tbody>\n",
       "    <tr>\n",
       "      <th>0</th>\n",
       "      <td>monty_10f8b8e8-e94c-45e8-a975-ab2c8f13d6bc</td>\n",
       "      <td>haz_ea1862f8-0f1b-4183-bce6-a77a51fb88f6</td>\n",
       "      <td>DR-2022-000215-AFG</td>\n",
       "      <td>GLIDE</td>\n",
       "      <td>ADRC</td>\n",
       "      <td>GDACS</td>\n",
       "      <td>https://www.gdacs.org/gdacsapi/api/polygons/ge...</td>\n",
       "      <td>EC-JRC</td>\n",
       "      <td>263840.0</td>\n",
       "      <td>unitskm2</td>\n",
       "      <td>...</td>\n",
       "      <td>2024-07-04</td>\n",
       "      <td>spathaz_e5d92927-537c-4778-bb8a-06c0c2eb8eb2</td>\n",
       "      <td>https://www.gdacs.org/gdacsapi/api/polygons/ge...</td>\n",
       "      <td>UZB</td>\n",
       "      <td>spat_polygon</td>\n",
       "      <td>spatresother</td>\n",
       "      <td>EPSG:4326</td>\n",
       "      <td>GDACS</td>\n",
       "      <td>https://www.gdacs.org/gdacsapi/api/polygons/ge...</td>\n",
       "      <td>EC-JRC</td>\n",
       "    </tr>\n",
       "    <tr>\n",
       "      <th>1</th>\n",
       "      <td>monty_5fcc6b2d-14de-41ae-a1cc-f18ad083f00b</td>\n",
       "      <td>haz_d3a906dd-dd4e-4dc2-a42f-e547f00474ec</td>\n",
       "      <td>DR-2023-000204-BRA</td>\n",
       "      <td>GLIDE</td>\n",
       "      <td>ADRC</td>\n",
       "      <td>GDACS</td>\n",
       "      <td>https://www.gdacs.org/gdacsapi/api/polygons/ge...</td>\n",
       "      <td>EC-JRC</td>\n",
       "      <td>1509735.0</td>\n",
       "      <td>unitskm2</td>\n",
       "      <td>...</td>\n",
       "      <td>2024-08-13</td>\n",
       "      <td>spathaz_b5f72932-9606-4d9b-b321-a434beb82c09</td>\n",
       "      <td>https://www.gdacs.org/gdacsapi/api/polygons/ge...</td>\n",
       "      <td>VEN</td>\n",
       "      <td>spat_polygon</td>\n",
       "      <td>spatresother</td>\n",
       "      <td>EPSG:4326</td>\n",
       "      <td>GDACS</td>\n",
       "      <td>https://www.gdacs.org/gdacsapi/api/polygons/ge...</td>\n",
       "      <td>EC-JRC</td>\n",
       "    </tr>\n",
       "    <tr>\n",
       "      <th>2</th>\n",
       "      <td>monty_bc21dbcb-55fe-44bb-ae87-5dca7960e0e4</td>\n",
       "      <td>haz_f6df9559-037f-4d27-84f5-1a55a0320c91</td>\n",
       "      <td>DR-2022-000390-BLZ</td>\n",
       "      <td>GLIDE</td>\n",
       "      <td>ADRC</td>\n",
       "      <td>GDACS</td>\n",
       "      <td>https://www.gdacs.org/gdacsapi/api/polygons/ge...</td>\n",
       "      <td>EC-JRC</td>\n",
       "      <td>40748.0</td>\n",
       "      <td>unitskm2</td>\n",
       "      <td>...</td>\n",
       "      <td>2024-04-18</td>\n",
       "      <td>spathaz_6b4cb2ec-2018-4b26-a1d3-01fd178d43eb</td>\n",
       "      <td>https://www.gdacs.org/gdacsapi/api/polygons/ge...</td>\n",
       "      <td>USA</td>\n",
       "      <td>spat_polygon</td>\n",
       "      <td>spatresother</td>\n",
       "      <td>EPSG:4326</td>\n",
       "      <td>GDACS</td>\n",
       "      <td>https://www.gdacs.org/gdacsapi/api/polygons/ge...</td>\n",
       "      <td>EC-JRC</td>\n",
       "    </tr>\n",
       "    <tr>\n",
       "      <th>3</th>\n",
       "      <td>monty_5e87c986-a087-4d78-89f2-9452702b4370</td>\n",
       "      <td>haz_64f00bcb-745b-45cb-af6d-7f84cfe5f8a0</td>\n",
       "      <td>1016298</td>\n",
       "      <td>GDACS</td>\n",
       "      <td>EC-JRC</td>\n",
       "      <td>GDACS</td>\n",
       "      <td>https://www.gdacs.org/gdacsapi/api/polygons/ge...</td>\n",
       "      <td>EC-JRC</td>\n",
       "      <td>22670.0</td>\n",
       "      <td>unitskm2</td>\n",
       "      <td>...</td>\n",
       "      <td>2024-03-13</td>\n",
       "      <td>spathaz_ad2dc492-3d49-437a-9a07-01eb0d294394</td>\n",
       "      <td>https://www.gdacs.org/gdacsapi/api/polygons/ge...</td>\n",
       "      <td>CAN</td>\n",
       "      <td>spat_polygon</td>\n",
       "      <td>spatresother</td>\n",
       "      <td>EPSG:4326</td>\n",
       "      <td>GDACS</td>\n",
       "      <td>https://www.gdacs.org/gdacsapi/api/polygons/ge...</td>\n",
       "      <td>EC-JRC</td>\n",
       "    </tr>\n",
       "    <tr>\n",
       "      <th>4</th>\n",
       "      <td>monty_a487b140-3d94-4388-a7a2-25c2557d45af</td>\n",
       "      <td>haz_0e4eb121-6095-4750-bf0e-eaa06b6d330f</td>\n",
       "      <td>1016209</td>\n",
       "      <td>GDACS</td>\n",
       "      <td>EC-JRC</td>\n",
       "      <td>GDACS</td>\n",
       "      <td>https://www.gdacs.org/gdacsapi/api/polygons/ge...</td>\n",
       "      <td>EC-JRC</td>\n",
       "      <td>23022.0</td>\n",
       "      <td>unitskm2</td>\n",
       "      <td>...</td>\n",
       "      <td>2024-01-18</td>\n",
       "      <td>spathaz_82278fce-4fbe-423b-b31f-d82c449e7a59</td>\n",
       "      <td>https://www.gdacs.org/gdacsapi/api/polygons/ge...</td>\n",
       "      <td>THA</td>\n",
       "      <td>spat_polygon</td>\n",
       "      <td>spatresother</td>\n",
       "      <td>EPSG:4326</td>\n",
       "      <td>GDACS</td>\n",
       "      <td>https://www.gdacs.org/gdacsapi/api/polygons/ge...</td>\n",
       "      <td>EC-JRC</td>\n",
       "    </tr>\n",
       "  </tbody>\n",
       "</table>\n",
       "<p>5 rows × 26 columns</p>\n",
       "</div>"
      ],
      "text/plain": [
       "                                     event_ID  \\\n",
       "0  monty_10f8b8e8-e94c-45e8-a975-ab2c8f13d6bc   \n",
       "1  monty_5fcc6b2d-14de-41ae-a1cc-f18ad083f00b   \n",
       "2  monty_bc21dbcb-55fe-44bb-ae87-5dca7960e0e4   \n",
       "3  monty_5e87c986-a087-4d78-89f2-9452702b4370   \n",
       "4  monty_a487b140-3d94-4388-a7a2-25c2557d45af   \n",
       "\n",
       "                                 haz_sub_ID              ext_ID ext_ID_db  \\\n",
       "0  haz_ea1862f8-0f1b-4183-bce6-a77a51fb88f6  DR-2022-000215-AFG     GLIDE   \n",
       "1  haz_d3a906dd-dd4e-4dc2-a42f-e547f00474ec  DR-2023-000204-BRA     GLIDE   \n",
       "2  haz_f6df9559-037f-4d27-84f5-1a55a0320c91  DR-2022-000390-BLZ     GLIDE   \n",
       "3  haz_64f00bcb-745b-45cb-af6d-7f84cfe5f8a0             1016298     GDACS   \n",
       "4  haz_0e4eb121-6095-4750-bf0e-eaa06b6d330f             1016209     GDACS   \n",
       "\n",
       "  ext_ID_org haz_src_db                                        haz_src_URL  \\\n",
       "0       ADRC      GDACS  https://www.gdacs.org/gdacsapi/api/polygons/ge...   \n",
       "1       ADRC      GDACS  https://www.gdacs.org/gdacsapi/api/polygons/ge...   \n",
       "2       ADRC      GDACS  https://www.gdacs.org/gdacsapi/api/polygons/ge...   \n",
       "3     EC-JRC      GDACS  https://www.gdacs.org/gdacsapi/api/polygons/ge...   \n",
       "4     EC-JRC      GDACS  https://www.gdacs.org/gdacsapi/api/polygons/ge...   \n",
       "\n",
       "  haz_src_org  haz_maxvalue haz_maxunits  ... haz_moddate  \\\n",
       "0      EC-JRC      263840.0     unitskm2  ...  2024-07-04   \n",
       "1      EC-JRC     1509735.0     unitskm2  ...  2024-08-13   \n",
       "2      EC-JRC       40748.0     unitskm2  ...  2024-04-18   \n",
       "3      EC-JRC       22670.0     unitskm2  ...  2024-03-13   \n",
       "4      EC-JRC       23022.0     unitskm2  ...  2024-01-18   \n",
       "\n",
       "                                    haz_spat_ID  \\\n",
       "0  spathaz_e5d92927-537c-4778-bb8a-06c0c2eb8eb2   \n",
       "1  spathaz_b5f72932-9606-4d9b-b321-a434beb82c09   \n",
       "2  spathaz_6b4cb2ec-2018-4b26-a1d3-01fd178d43eb   \n",
       "3  spathaz_ad2dc492-3d49-437a-9a07-01eb0d294394   \n",
       "4  spathaz_82278fce-4fbe-423b-b31f-d82c449e7a59   \n",
       "\n",
       "                                    haz_spat_fileloc haz_ISO3s  \\\n",
       "0  https://www.gdacs.org/gdacsapi/api/polygons/ge...       UZB   \n",
       "1  https://www.gdacs.org/gdacsapi/api/polygons/ge...       VEN   \n",
       "2  https://www.gdacs.org/gdacsapi/api/polygons/ge...       USA   \n",
       "3  https://www.gdacs.org/gdacsapi/api/polygons/ge...       CAN   \n",
       "4  https://www.gdacs.org/gdacsapi/api/polygons/ge...       THA   \n",
       "\n",
       "  haz_spat_covcode haz_spat_resunits haz_spat_crs haz_spat_srcdb  \\\n",
       "0     spat_polygon      spatresother    EPSG:4326          GDACS   \n",
       "1     spat_polygon      spatresother    EPSG:4326          GDACS   \n",
       "2     spat_polygon      spatresother    EPSG:4326          GDACS   \n",
       "3     spat_polygon      spatresother    EPSG:4326          GDACS   \n",
       "4     spat_polygon      spatresother    EPSG:4326          GDACS   \n",
       "\n",
       "                                        haz_spat_URL haz_spat_srcorg  \n",
       "0  https://www.gdacs.org/gdacsapi/api/polygons/ge...          EC-JRC  \n",
       "1  https://www.gdacs.org/gdacsapi/api/polygons/ge...          EC-JRC  \n",
       "2  https://www.gdacs.org/gdacsapi/api/polygons/ge...          EC-JRC  \n",
       "3  https://www.gdacs.org/gdacsapi/api/polygons/ge...          EC-JRC  \n",
       "4  https://www.gdacs.org/gdacsapi/api/polygons/ge...          EC-JRC  \n",
       "\n",
       "[5 rows x 26 columns]"
      ]
     },
     "execution_count": 25,
     "metadata": {},
     "output_type": "execute_result"
    }
   ],
   "source": [
    "df_monty.head()"
   ]
  },
  {
   "cell_type": "code",
   "execution_count": 33,
   "metadata": {},
   "outputs": [
    {
     "name": "stdout",
     "output_type": "stream",
     "text": [
      "Empty DataFrame\n",
      "Columns: [event_ID, haz_sub_ID, ext_ID, ext_ID_db, ext_ID_org, haz_src_db, haz_src_URL, haz_src_org, haz_maxvalue, haz_maxunits, haz_est_type, all_hazs_Ab, all_hazs_spec, haz_sdate, haz_fdate, haz_credate, haz_moddate, haz_spat_ID, haz_spat_fileloc, haz_ISO3s, haz_spat_covcode, haz_spat_resunits, haz_spat_crs, haz_spat_srcdb, haz_spat_URL, haz_spat_srcorg]\n",
      "Index: []\n",
      "\n",
      "[0 rows x 26 columns]\n"
     ]
    }
   ],
   "source": [
    "\n",
    "if 'ext_ID' in df_monty.columns:\n",
    "    df_monty['ext_ID'] = df_monty['ext_ID'].astype(str)\n",
    "    df_monty_filtered = df_monty[df_monty['ext_ID'].str.contains('AC-2000-000871-BGD|AC-2000-000536-BGD|TC-2008-000261-KHM|TC-2010-000236-KHM|TC-2006-000215-KHM|TC-2017-000125-MSR')]\n",
    "    print(df_monty_filtered)\n",
    "else:\n",
    "    print(\"Column 'ext_ID' does not exist in the dataframe.\")"
   ]
  },
  {
   "cell_type": "markdown",
   "metadata": {},
   "source": [
    "Exploring monty data\n"
   ]
  },
  {
   "cell_type": "code",
   "execution_count": 34,
   "metadata": {},
   "outputs": [
    {
     "name": "stdout",
     "output_type": "stream",
     "text": [
      "Empty DataFrame\n",
      "Columns: [event_ID, haz_sub_ID, ext_ID, ext_ID_db, ext_ID_org, haz_src_db, haz_src_URL, haz_src_org, haz_maxvalue, haz_maxunits, haz_est_type, all_hazs_Ab, all_hazs_spec, haz_sdate, haz_fdate, haz_credate, haz_moddate, haz_spat_ID, haz_spat_fileloc, haz_ISO3s, haz_spat_covcode, haz_spat_resunits, haz_spat_crs, haz_spat_srcdb, haz_spat_URL, haz_spat_srcorg]\n",
      "Index: []\n",
      "\n",
      "[0 rows x 26 columns]\n"
     ]
    }
   ],
   "source": [
    "\n",
    "if 'ext_ID' in df_monty.columns:\n",
    "    df_monty['ext_ID'] = df_monty['ext_ID'].astype(str)\n",
    "    df_monty_filtered = df_monty[df_monty['ext_ID'].str.contains('TC-2017-000125-MSR')]\n",
    "    print(df_monty_filtered)\n",
    "else:\n",
    "    print(\"Column 'ext_ID' does not exist in the dataframe.\")"
   ]
  },
  {
   "cell_type": "code",
   "execution_count": 3,
   "metadata": {},
   "outputs": [],
   "source": [
    "import pandas as pd"
   ]
  },
  {
   "cell_type": "code",
   "execution_count": 3,
   "metadata": {},
   "outputs": [],
   "source": [
    "df_glide = pd.read_csv('/home/evangelos/src/disaster-impact/data/glide/glide_data_combined_all.csv')"
   ]
  },
  {
   "cell_type": "code",
   "execution_count": 4,
   "metadata": {},
   "outputs": [
    {
     "data": {
      "text/plain": [
       "Index(['GLIDE_number', 'Event', 'Country', 'Date_', 'Event_Code',\n",
       "       'Glide_Serial', 'Country_Code', 'Year', 'Month', 'Day', 'Time',\n",
       "       'Location', 'Duration', 'Magnitude', 'Source', 'Comments', 'Latitude',\n",
       "       'Longitude', 'Id', 'Id_Source', 'Created', 'Updated'],\n",
       "      dtype='object')"
      ]
     },
     "execution_count": 4,
     "metadata": {},
     "output_type": "execute_result"
    }
   ],
   "source": [
    "df_glide.columns"
   ]
  },
  {
   "cell_type": "code",
   "execution_count": 6,
   "metadata": {},
   "outputs": [
    {
     "data": {
      "text/plain": [
       "GLIDE_number                                   FL-2024-000218-MYS\n",
       "Event                                                       Flood\n",
       "Country                                                  Malaysia\n",
       "Date_                                                  2024/11/25\n",
       "Event_Code                                                     FL\n",
       "Glide_Serial                                          2024-000218\n",
       "Country_Code                                                  MYS\n",
       "Year                                                         2024\n",
       "Month                                                          11\n",
       "Day                                                            25\n",
       "Time                                                          NaN\n",
       "Location        Kelantan, Terengganu, Kedah, Perlis, Johor, an...\n",
       "Duration                                                    120.0\n",
       "Magnitude                                                     NaN\n",
       "Source          Malaysian Red Crescent Society, Official Stati...\n",
       "Comments        The Northeast Monsoon (MTL) began in early Nov...\n",
       "Latitude                                                 5.093634\n",
       "Longitude                                              102.989615\n",
       "Id                                                            NaN\n",
       "Id_Source                                                     NaN\n",
       "Created                                                2024-12-01\n",
       "Updated                                                2024-12-01\n",
       "Name: 1, dtype: object"
      ]
     },
     "execution_count": 6,
     "metadata": {},
     "output_type": "execute_result"
    }
   ],
   "source": [
    "df_glide.head().iloc[1]"
   ]
  },
  {
   "cell_type": "code",
   "execution_count": 11,
   "metadata": {},
   "outputs": [
    {
     "data": {
      "text/plain": [
       "GLIDE_number                                   TC-2024-000200-CHN\n",
       "Event                                            Tropical Cyclone\n",
       "Country                                  China, People's Republic\n",
       "Date_                                                  2024/10/25\n",
       "Event_Code                                                     TC\n",
       "Glide_Serial                                          2024-000200\n",
       "Country_Code                                                  CHN\n",
       "Year                                                         2024\n",
       "Month                                                          10\n",
       "Day                                                            25\n",
       "Time                                                          NaN\n",
       "Location                               Philippines, Taiwan, China\n",
       "Duration                                                      8.0\n",
       "Magnitude                                                       0\n",
       "Source                                                      GDACS\n",
       "Comments        GDACS - Tropical Cyclone KONG-REY-24 Medium hu...\n",
       "Latitude                                                     32.2\n",
       "Longitude                                                   126.1\n",
       "Id                                                            NaN\n",
       "Id_Source                                                     NaN\n",
       "Created                                                2024-10-30\n",
       "Updated                                                2024-11-05\n",
       "Name: 21, dtype: object"
      ]
     },
     "execution_count": 11,
     "metadata": {},
     "output_type": "execute_result"
    }
   ],
   "source": [
    "df_glide.iloc[21]"
   ]
  },
  {
   "cell_type": "code",
   "execution_count": 13,
   "metadata": {},
   "outputs": [
    {
     "data": {
      "text/plain": [
       "GLIDE_number              <class 'str'>\n",
       "Event                     <class 'str'>\n",
       "Country                   <class 'str'>\n",
       "Date_                     <class 'str'>\n",
       "Event_Code                <class 'str'>\n",
       "Glide_Serial              <class 'str'>\n",
       "Country_Code              <class 'str'>\n",
       "Year              <class 'numpy.int64'>\n",
       "Month             <class 'numpy.int64'>\n",
       "Day               <class 'numpy.int64'>\n",
       "Time                    <class 'float'>\n",
       "Location                  <class 'str'>\n",
       "Duration        <class 'numpy.float64'>\n",
       "Magnitude                 <class 'str'>\n",
       "Source                    <class 'str'>\n",
       "Comments                  <class 'str'>\n",
       "Latitude        <class 'numpy.float64'>\n",
       "Longitude       <class 'numpy.float64'>\n",
       "Id              <class 'numpy.float64'>\n",
       "Id_Source       <class 'numpy.float64'>\n",
       "Created                   <class 'str'>\n",
       "Updated                   <class 'str'>\n",
       "Name: 21, dtype: object"
      ]
     },
     "execution_count": 13,
     "metadata": {},
     "output_type": "execute_result"
    }
   ],
   "source": [
    "df_glide.iloc[21].apply(type)\n",
    "\n",
    "\n"
   ]
  },
  {
   "cell_type": "code",
   "execution_count": 16,
   "metadata": {},
   "outputs": [],
   "source": [
    "df_glide_standard = pd.read_csv('/home/evangelos/src/disaster-impact/data_mid/glide/glide_standardized_phase1.csv')"
   ]
  },
  {
   "cell_type": "code",
   "execution_count": 17,
   "metadata": {},
   "outputs": [
    {
     "data": {
      "text/plain": [
       "Index(['Event_ID', 'Source_Event_IDs', 'Event_Name', 'Event_Type', 'Country',\n",
       "       'Country_Code', 'Location', 'Latitude', 'Longitude', 'Date', 'Year',\n",
       "       'Month', 'Day', 'Time', 'Severity', 'Population_Affected', 'Fatalities',\n",
       "       'People_Displaced', 'Financial_Loss', 'Alert_Level', 'Source',\n",
       "       'Comments', 'External_Links'],\n",
       "      dtype='object')"
      ]
     },
     "execution_count": 17,
     "metadata": {},
     "output_type": "execute_result"
    }
   ],
   "source": [
    "df_glide_standard.columns"
   ]
  },
  {
   "cell_type": "code",
   "execution_count": 18,
   "metadata": {},
   "outputs": [
    {
     "data": {
      "text/plain": [
       "Event_ID                                                             NaN\n",
       "Source_Event_IDs                                  ['FL-2024-000218-MYS']\n",
       "Event_Name                                                         Flood\n",
       "Event_Type                                                            FL\n",
       "Country                                                         Malaysia\n",
       "Country_Code                                                         MYS\n",
       "Location               ['Kelantan, Terengganu, Kedah, Perlis, Johor, ...\n",
       "Latitude                                                     [5.0936342]\n",
       "Longitude                                                   [102.989615]\n",
       "Date                                                          2024/11/25\n",
       "Year                                                                2024\n",
       "Month                                                                 11\n",
       "Day                                                                   25\n",
       "Time                                                                 NaN\n",
       "Severity                                                             NaN\n",
       "Population_Affected                                                  NaN\n",
       "Fatalities                                                           NaN\n",
       "People_Displaced                                                     NaN\n",
       "Financial_Loss                                                       NaN\n",
       "Alert_Level                                                          NaN\n",
       "Source                 ['Malaysian Red Crescent Society, Official Sta...\n",
       "Comments               ['The Northeast Monsoon (MTL) began in early N...\n",
       "External_Links                                                        []\n",
       "Name: 1, dtype: object"
      ]
     },
     "execution_count": 18,
     "metadata": {},
     "output_type": "execute_result"
    }
   ],
   "source": [
    "df_glide_standard.head().iloc[1]"
   ]
  },
  {
   "cell_type": "code",
   "execution_count": 19,
   "metadata": {},
   "outputs": [],
   "source": [
    "df_glide_consolidation = pd.read_csv('/home/evangelos/src/disaster-impact/data_out/glide/glide_consolidated.csv')"
   ]
  },
  {
   "cell_type": "code",
   "execution_count": 20,
   "metadata": {},
   "outputs": [
    {
     "data": {
      "text/plain": [
       "Event_ID                 354612eaf018a14d2e53c6b92eef2d13\n",
       "Source_Event_IDs                   ['AC-2001-000666-AFG']\n",
       "Event_Name                                 Tech. Disaster\n",
       "Event_Type                                             AC\n",
       "Country                                       Afghanistan\n",
       "Country_Code                                          AFG\n",
       "Location               ['Near Talogan (Takhar province)']\n",
       "Latitude                                     [36.7704489]\n",
       "Longitude                                    [69.5302203]\n",
       "Date                                            2001/12/8\n",
       "Year                                                 2001\n",
       "Month                                                  12\n",
       "Day                                                     8\n",
       "Time                                                  NaN\n",
       "Severity                                              NaN\n",
       "Population_Affected                                   NaN\n",
       "Fatalities                                            NaN\n",
       "People_Displaced                                      NaN\n",
       "Financial_Loss                                        NaN\n",
       "Alert_Level                                           NaN\n",
       "Source                                                 []\n",
       "Comments                           ['{Helicopter} (Air)']\n",
       "External_Links                                         []\n",
       "Name: 1, dtype: object"
      ]
     },
     "execution_count": 20,
     "metadata": {},
     "output_type": "execute_result"
    }
   ],
   "source": [
    "df_glide_consolidation.head().iloc[1]"
   ]
  },
  {
   "cell_type": "code",
   "execution_count": 22,
   "metadata": {},
   "outputs": [
    {
     "data": {
      "text/plain": [
       "Event_ID                                ebe326b0b5c5b763e6a7192f9feaccba\n",
       "Source_Event_IDs            ['TC-2017-000125-KNA', 'TC-2017-000132-KNA']\n",
       "Event_Name                                              Tropical Cyclone\n",
       "Event_Type                                                            TC\n",
       "Country                                                 St Kitts & Nevis\n",
       "Country_Code                                                         KNA\n",
       "Location                                                              []\n",
       "Latitude                                                     [17.357822]\n",
       "Longitude                                                   [-62.782998]\n",
       "Date                                                            2017/9/7\n",
       "Year                                                                2017\n",
       "Month                                                                  9\n",
       "Day                                                                    7\n",
       "Time                                                                 NaN\n",
       "Severity                                                             NaN\n",
       "Population_Affected                                                  NaN\n",
       "Fatalities                                                           NaN\n",
       "People_Displaced                                                     NaN\n",
       "Financial_Loss                                                       NaN\n",
       "Alert_Level                                                          NaN\n",
       "Source                                                         ['CDEMA']\n",
       "Comments               ['With maximum sustained winds near 185 mph, I...\n",
       "External_Links                                                        []\n",
       "Name: 7558, dtype: object"
      ]
     },
     "execution_count": 22,
     "metadata": {},
     "output_type": "execute_result"
    }
   ],
   "source": [
    "df_glide_consolidation.iloc[7558]"
   ]
  },
  {
   "cell_type": "code",
   "execution_count": 23,
   "metadata": {},
   "outputs": [],
   "source": [
    "df_gdacs = pd.read_csv('/home/evangelos/src/disaster-impact/data/gdacs_all_types_yearly_v2_fast/combined_gdacs_data.csv')"
   ]
  },
  {
   "cell_type": "code",
   "execution_count": 24,
   "metadata": {},
   "outputs": [
    {
     "data": {
      "text/plain": [
       "Index(['event_id', 'event_type', 'event_name', 'from_date', 'to_date',\n",
       "       'alert_level', 'countries', 'population', 'severity', 'alert_score',\n",
       "       'year'],\n",
       "      dtype='object')"
      ]
     },
     "execution_count": 24,
     "metadata": {},
     "output_type": "execute_result"
    }
   ],
   "source": [
    "df_gdacs.columns"
   ]
  },
  {
   "cell_type": "code",
   "execution_count": 28,
   "metadata": {},
   "outputs": [
    {
     "data": {
      "text/plain": [
       "event_id                      34686\n",
       "event_type                       EQ\n",
       "event_name     Earthquake in Mexico\n",
       "from_date       2008-02-13T22:23:37\n",
       "to_date         2008-02-13T22:23:37\n",
       "alert_level                   Green\n",
       "countries              Mexico (MEX)\n",
       "population                      NaN\n",
       "severity                        4.8\n",
       "alert_score                       1\n",
       "year                           2008\n",
       "Name: 150, dtype: object"
      ]
     },
     "execution_count": 28,
     "metadata": {},
     "output_type": "execute_result"
    }
   ],
   "source": [
    "df_gdacs.iloc[150]"
   ]
  },
  {
   "cell_type": "code",
   "execution_count": 26,
   "metadata": {},
   "outputs": [
    {
     "data": {
      "text/plain": [
       "event_id         <class 'numpy.int64'>\n",
       "event_type               <class 'str'>\n",
       "event_name               <class 'str'>\n",
       "from_date                <class 'str'>\n",
       "to_date                  <class 'str'>\n",
       "alert_level              <class 'str'>\n",
       "countries              <class 'float'>\n",
       "population     <class 'numpy.float64'>\n",
       "severity       <class 'numpy.float64'>\n",
       "alert_score      <class 'numpy.int64'>\n",
       "year             <class 'numpy.int64'>\n",
       "Name: 1, dtype: object"
      ]
     },
     "execution_count": 26,
     "metadata": {},
     "output_type": "execute_result"
    }
   ],
   "source": [
    "df_gdacs.head().iloc[1].apply(type)\n"
   ]
  },
  {
   "cell_type": "code",
   "execution_count": 43,
   "metadata": {},
   "outputs": [],
   "source": [
    "df_gdacs_standard = pd.read_csv('/home/evangelos/src/disaster-impact/data_mid/gdacs/gdacs_standardized_phase1.csv')"
   ]
  },
  {
   "cell_type": "code",
   "execution_count": 44,
   "metadata": {},
   "outputs": [
    {
     "data": {
      "text/plain": [
       "Index(['Event_ID', 'Source_Event_IDs', 'Event_Name', 'Event_Type', 'Country',\n",
       "       'Country_Code', 'Location', 'Latitude', 'Longitude', 'Date', 'Year',\n",
       "       'Month', 'Day', 'Time', 'Severity', 'Population_Affected', 'Fatalities',\n",
       "       'People_Displaced', 'Financial_Loss', 'Alert_Level', 'Source',\n",
       "       'Comments', 'External_Links'],\n",
       "      dtype='object')"
      ]
     },
     "execution_count": 44,
     "metadata": {},
     "output_type": "execute_result"
    }
   ],
   "source": [
    "df_gdacs_standard.columns"
   ]
  },
  {
   "cell_type": "code",
   "execution_count": 45,
   "metadata": {},
   "outputs": [
    {
     "data": {
      "text/plain": [
       "Event_ID                                       NaN\n",
       "Source_Event_IDs                         [\"33722\"]\n",
       "Event_Name             Earthquake in United States\n",
       "Event_Type                                      EQ\n",
       "Country                              United States\n",
       "Country_Code                                   USA\n",
       "Location                                        []\n",
       "Latitude                                        []\n",
       "Longitude                                       []\n",
       "Date                                    2008-01-19\n",
       "Year                                          2008\n",
       "Month                                            1\n",
       "Day                                             19\n",
       "Time                                      17:18:46\n",
       "Severity                                       4.4\n",
       "Population_Affected                            NaN\n",
       "Fatalities                                     NaN\n",
       "People_Displaced                               NaN\n",
       "Financial_Loss                                 NaN\n",
       "Alert_Level                                  Green\n",
       "Source                                          []\n",
       "Comments                                        []\n",
       "External_Links                                  []\n",
       "Name: 4, dtype: object"
      ]
     },
     "execution_count": 45,
     "metadata": {},
     "output_type": "execute_result"
    }
   ],
   "source": [
    "df_gdacs_standard.head().iloc[4]"
   ]
  },
  {
   "cell_type": "code",
   "execution_count": 46,
   "metadata": {},
   "outputs": [
    {
     "data": {
      "text/plain": [
       "Event_ID               <class 'numpy.float64'>\n",
       "Source_Event_IDs                 <class 'str'>\n",
       "Event_Name                       <class 'str'>\n",
       "Event_Type                       <class 'str'>\n",
       "Country                          <class 'str'>\n",
       "Country_Code                     <class 'str'>\n",
       "Location                         <class 'str'>\n",
       "Latitude                         <class 'str'>\n",
       "Longitude                        <class 'str'>\n",
       "Date                             <class 'str'>\n",
       "Year                     <class 'numpy.int64'>\n",
       "Month                    <class 'numpy.int64'>\n",
       "Day                      <class 'numpy.int64'>\n",
       "Time                             <class 'str'>\n",
       "Severity               <class 'numpy.float64'>\n",
       "Population_Affected    <class 'numpy.float64'>\n",
       "Fatalities             <class 'numpy.float64'>\n",
       "People_Displaced       <class 'numpy.float64'>\n",
       "Financial_Loss         <class 'numpy.float64'>\n",
       "Alert_Level                      <class 'str'>\n",
       "Source                           <class 'str'>\n",
       "Comments                         <class 'str'>\n",
       "External_Links                   <class 'str'>\n",
       "Name: 150, dtype: object"
      ]
     },
     "execution_count": 46,
     "metadata": {},
     "output_type": "execute_result"
    }
   ],
   "source": [
    "df_gdacs_standard.iloc[150].apply(type)"
   ]
  },
  {
   "cell_type": "code",
   "execution_count": null,
   "metadata": {},
   "outputs": [
    {
     "data": {
      "text/plain": [
       "Event_ID                              NaN\n",
       "Source_Event_IDs                [\"33725\"]\n",
       "Event_Name             Earthquake in Iran\n",
       "Event_Type                             EQ\n",
       "Country                               NaN\n",
       "Country_Code                          NaN\n",
       "Location                               []\n",
       "Latitude                               []\n",
       "Longitude                              []\n",
       "Date                           2008-01-19\n",
       "Year                                 2008\n",
       "Month                                   1\n",
       "Day                                    19\n",
       "Time                             21:41:33\n",
       "Severity                              4.4\n",
       "Population_Affected                   NaN\n",
       "Fatalities                            NaN\n",
       "People_Displaced                      NaN\n",
       "Financial_Loss                        NaN\n",
       "Alert_Level                         Green\n",
       "Source                                 []\n",
       "Comments                               []\n",
       "External_Links                         []\n",
       "Name: 1, dtype: object"
      ]
     },
     "execution_count": 47,
     "metadata": {},
     "output_type": "execute_result"
    }
   ],
   "source": [
    "df_gdacs_standard.head().iloc[1]"
   ]
  },
  {
   "cell_type": "code",
   "execution_count": 55,
   "metadata": {},
   "outputs": [],
   "source": [
    "df_gdacs_standard = pd.read_csv('/home/evangelos/src/disaster-impact/data_mid/gdacs/gdacs_standardized_phase1.csv')"
   ]
  },
  {
   "cell_type": "code",
   "execution_count": 56,
   "metadata": {},
   "outputs": [
    {
     "data": {
      "text/plain": [
       "Event_ID                              NaN\n",
       "Source_Event_IDs                [\"33725\"]\n",
       "Event_Name             Earthquake in Iran\n",
       "Event_Type                             EQ\n",
       "Country                              Iran\n",
       "Country_Code                          NaN\n",
       "Location                               []\n",
       "Latitude                               []\n",
       "Longitude                              []\n",
       "Date                           2008-01-19\n",
       "Year                                 2008\n",
       "Month                                   1\n",
       "Day                                    19\n",
       "Time                             21:41:33\n",
       "Severity                              4.4\n",
       "Population_Affected                   NaN\n",
       "Fatalities                            NaN\n",
       "People_Displaced                      NaN\n",
       "Financial_Loss                        NaN\n",
       "Alert_Level                         Green\n",
       "Source                                 []\n",
       "Comments                               []\n",
       "External_Links                         []\n",
       "Name: 1, dtype: object"
      ]
     },
     "execution_count": 56,
     "metadata": {},
     "output_type": "execute_result"
    }
   ],
   "source": [
    "df_gdacs_standard.head().iloc[1]"
   ]
  },
  {
   "cell_type": "code",
   "execution_count": 57,
   "metadata": {},
   "outputs": [
    {
     "data": {
      "text/plain": [
       "Event_ID               <class 'numpy.float64'>\n",
       "Source_Event_IDs                 <class 'str'>\n",
       "Event_Name                       <class 'str'>\n",
       "Event_Type                       <class 'str'>\n",
       "Country                          <class 'str'>\n",
       "Country_Code                     <class 'str'>\n",
       "Location                         <class 'str'>\n",
       "Latitude                         <class 'str'>\n",
       "Longitude                        <class 'str'>\n",
       "Date                             <class 'str'>\n",
       "Year                     <class 'numpy.int64'>\n",
       "Month                    <class 'numpy.int64'>\n",
       "Day                      <class 'numpy.int64'>\n",
       "Time                             <class 'str'>\n",
       "Severity               <class 'numpy.float64'>\n",
       "Population_Affected    <class 'numpy.float64'>\n",
       "Fatalities             <class 'numpy.float64'>\n",
       "People_Displaced       <class 'numpy.float64'>\n",
       "Financial_Loss         <class 'numpy.float64'>\n",
       "Alert_Level                      <class 'str'>\n",
       "Source                           <class 'str'>\n",
       "Comments                         <class 'str'>\n",
       "External_Links                   <class 'str'>\n",
       "Name: 150, dtype: object"
      ]
     },
     "execution_count": 57,
     "metadata": {},
     "output_type": "execute_result"
    }
   ],
   "source": [
    "df_gdacs_standard.iloc[150].apply(type)"
   ]
  },
  {
   "cell_type": "code",
   "execution_count": 58,
   "metadata": {},
   "outputs": [],
   "source": [
    "df_disaster_charter = pd.read_csv('/home/evangelos/src/disaster-impact/data/disaster-charter/charter_activations_web_scrape_2000_2024.csv')"
   ]
  },
  {
   "cell_type": "code",
   "execution_count": 59,
   "metadata": {},
   "outputs": [
    {
     "data": {
      "text/plain": [
       "Index(['Year', 'Month', 'Date', 'Disaster', 'Formatted Date', 'Details Link',\n",
       "       'Type of Event', 'Location of Event', 'Date of Activation',\n",
       "       'Time of Activation', 'Timezone', 'Charter Requestor', 'Activation ID',\n",
       "       'Project Management', 'Value Adding'],\n",
       "      dtype='object')"
      ]
     },
     "execution_count": 59,
     "metadata": {},
     "output_type": "execute_result"
    }
   ],
   "source": [
    "df_disaster_charter.columns"
   ]
  },
  {
   "cell_type": "code",
   "execution_count": 60,
   "metadata": {},
   "outputs": [
    {
     "data": {
      "text/plain": [
       "Year                                                               2024\n",
       "Month                                                           October\n",
       "Date                                                         2024-10-14\n",
       "Disaster                                             Flood in Sri Lanka\n",
       "Formatted Date                                                14 Monday\n",
       "Details Link          https://disasterscharter.org/web/guest/activat...\n",
       "Type of Event                                                     Flood\n",
       "Location of Event                                             Sri Lanka\n",
       "Date of Activation                                           2024-10-12\n",
       "Time of Activation                                                12:20\n",
       "Timezone                                                      UTC+05:30\n",
       "Charter Requestor     Disaster Management Centre on behalf of Disast...\n",
       "Activation ID                                                     921.0\n",
       "Project Management    Samanmali Matharaarachchi (Disaster Management...\n",
       "Value Adding          INPECamila Gonçalves dos Santos (UFRRJ)SERTIT ...\n",
       "Name: 1, dtype: object"
      ]
     },
     "execution_count": 60,
     "metadata": {},
     "output_type": "execute_result"
    }
   ],
   "source": [
    "df_disaster_charter.head().iloc[1]"
   ]
  },
  {
   "cell_type": "code",
   "execution_count": 61,
   "metadata": {},
   "outputs": [
    {
     "data": {
      "text/plain": [
       "Year                    <class 'numpy.int64'>\n",
       "Month                           <class 'str'>\n",
       "Date                            <class 'str'>\n",
       "Disaster                        <class 'str'>\n",
       "Formatted Date                  <class 'str'>\n",
       "Details Link                    <class 'str'>\n",
       "Type of Event                   <class 'str'>\n",
       "Location of Event               <class 'str'>\n",
       "Date of Activation              <class 'str'>\n",
       "Time of Activation              <class 'str'>\n",
       "Timezone                        <class 'str'>\n",
       "Charter Requestor               <class 'str'>\n",
       "Activation ID         <class 'numpy.float64'>\n",
       "Project Management              <class 'str'>\n",
       "Value Adding                  <class 'float'>\n",
       "Name: 150, dtype: object"
      ]
     },
     "execution_count": 61,
     "metadata": {},
     "output_type": "execute_result"
    }
   ],
   "source": [
    "df_disaster_charter.iloc[150].apply(type)"
   ]
  },
  {
   "cell_type": "code",
   "execution_count": 62,
   "metadata": {},
   "outputs": [],
   "source": [
    "df_disaster_charter2 = pd.read_csv('/home/evangelos/src/disaster-impact/data/disaster-charter/disaster_activations_boosted_dec.csv')"
   ]
  },
  {
   "cell_type": "code",
   "execution_count": 63,
   "metadata": {},
   "outputs": [
    {
     "data": {
      "text/plain": [
       "Index(['Year', 'Month', 'Date', 'Disaster', 'Formatted Date', 'Details Link',\n",
       "       'Type of Event', 'Location of Event', 'Date of Activation',\n",
       "       'Time of Activation', 'Timezone', 'Charter Requestor', 'Activation ID',\n",
       "       'Project Management', 'Value Adding'],\n",
       "      dtype='object')"
      ]
     },
     "execution_count": 63,
     "metadata": {},
     "output_type": "execute_result"
    }
   ],
   "source": [
    "df_disaster_charter2.columns"
   ]
  },
  {
   "cell_type": "code",
   "execution_count": 64,
   "metadata": {},
   "outputs": [
    {
     "data": {
      "text/plain": [
       "Year                                                               2024\n",
       "Month                                                          December\n",
       "Date                                                         2024-12-02\n",
       "Disaster                                             Flood in Sri Lanka\n",
       "Formatted Date                                                02 Monday\n",
       "Details Link          https://disasterscharter.org/web/guest/activat...\n",
       "Type of Event                                                     Flood\n",
       "Location of Event                                             Sri Lanka\n",
       "Date of Activation                                           2024-12-02\n",
       "Time of Activation                                                10:39\n",
       "Timezone                                                      UTC+07:00\n",
       "Charter Requestor     UNOSAT on behalf of United Nations Population ...\n",
       "Activation ID                                                     933.0\n",
       "Project Management                            Jakrapong Tawala (UNITAR)\n",
       "Value Adding          SERTIT Rapid Mapping Service (SERTIT Rapid Map...\n",
       "Name: 1, dtype: object"
      ]
     },
     "execution_count": 64,
     "metadata": {},
     "output_type": "execute_result"
    }
   ],
   "source": [
    "df_disaster_charter2.head().iloc[1]"
   ]
  },
  {
   "cell_type": "code",
   "execution_count": 65,
   "metadata": {},
   "outputs": [
    {
     "data": {
      "text/plain": [
       "Year                    <class 'numpy.int64'>\n",
       "Month                           <class 'str'>\n",
       "Date                            <class 'str'>\n",
       "Disaster                        <class 'str'>\n",
       "Formatted Date                  <class 'str'>\n",
       "Details Link                    <class 'str'>\n",
       "Type of Event                 <class 'float'>\n",
       "Location of Event               <class 'str'>\n",
       "Date of Activation              <class 'str'>\n",
       "Time of Activation              <class 'str'>\n",
       "Timezone                        <class 'str'>\n",
       "Charter Requestor               <class 'str'>\n",
       "Activation ID         <class 'numpy.float64'>\n",
       "Project Management              <class 'str'>\n",
       "Value Adding                    <class 'str'>\n",
       "Name: 150, dtype: object"
      ]
     },
     "execution_count": 65,
     "metadata": {},
     "output_type": "execute_result"
    }
   ],
   "source": [
    "df_disaster_charter2.iloc[150].apply(type)"
   ]
  },
  {
   "cell_type": "code",
   "execution_count": 67,
   "metadata": {},
   "outputs": [],
   "source": [
    "df_disaster_charter_standard = pd.read_csv('/home/evangelos/src/disaster-impact/data_mid/disaster_charter/disaster_charter_standardized_phase1.csv')"
   ]
  },
  {
   "cell_type": "code",
   "execution_count": 68,
   "metadata": {},
   "outputs": [
    {
     "data": {
      "text/plain": [
       "Index(['Event_ID', 'Source_Event_IDs', 'Event_Name', 'Event_Type', 'Country',\n",
       "       'Country_Code', 'Location', 'Latitude', 'Longitude', 'Date', 'Year',\n",
       "       'Month', 'Day', 'Time', 'Severity', 'Population_Affected', 'Fatalities',\n",
       "       'People_Displaced', 'Financial_Loss', 'Alert_Level', 'Source',\n",
       "       'Comments', 'External_Links'],\n",
       "      dtype='object')"
      ]
     },
     "execution_count": 68,
     "metadata": {},
     "output_type": "execute_result"
    }
   ],
   "source": [
    "df_disaster_charter_standard.columns"
   ]
  },
  {
   "cell_type": "code",
   "execution_count": 6,
   "metadata": {},
   "outputs": [],
   "source": [
    "df_disaster_charter_consolidated = pd.read_csv('/home/evangelos/src/disaster-impact/data_out/disaster_charter/disaster_charter_consolidated.csv')"
   ]
  },
  {
   "cell_type": "code",
   "execution_count": 73,
   "metadata": {},
   "outputs": [
    {
     "name": "stdout",
     "output_type": "stream",
     "text": [
      "['Accident' 'Cyclone' 'Dam Failure' 'Earthquake' 'Epidemic' 'Eruption'\n",
      " 'Fire' 'Flash Flood' 'Flood' 'Ice Jam' 'Landslide' 'Maritime Accident'\n",
      " 'Ocean storm' 'Ocean storm, Flood' 'Oil Spill' 'Other' 'Snow Event'\n",
      " 'Technological Disaster' 'Tornado' 'Tropical' 'Tsunami'\n",
      " 'Volcanic Eruption' 'Wildfire' 'earthquakes' 'landslide']\n"
     ]
    }
   ],
   "source": [
    "unique_event_types = df_disaster_charter_consolidated['Event_Type'].unique()\n",
    "print(unique_event_types)"
   ]
  },
  {
   "cell_type": "code",
   "execution_count": 77,
   "metadata": {},
   "outputs": [
    {
     "data": {
      "text/plain": [
       "Event_ID                                c4e21fd54682549774f08c2f2e78be88\n",
       "Source_Event_IDs                                               ['636.0']\n",
       "Event_Name                           Lost Chilean aircraft in Antarctica\n",
       "Event_Type                                                      Accident\n",
       "Country                                                            Chile\n",
       "Country_Code                                                         CHL\n",
       "Location                                                       ['Chile']\n",
       "Latitude                                                              []\n",
       "Longitude                                                             []\n",
       "Date                                                          2019-10-12\n",
       "Year                                                              2019.0\n",
       "Month                                                               10.0\n",
       "Day                                                                 12.0\n",
       "Time                                                               08:30\n",
       "Severity                                                              []\n",
       "Population_Affected                                                  NaN\n",
       "Fatalities                                                           NaN\n",
       "People_Displaced                                                     NaN\n",
       "Financial_Loss                                                       NaN\n",
       "Alert_Level                                                           []\n",
       "Source                                                                []\n",
       "Comments                                                              []\n",
       "External_Links         ['https://disasterscharter.org/web/guest/activ...\n",
       "Name: 1, dtype: object"
      ]
     },
     "execution_count": 77,
     "metadata": {},
     "output_type": "execute_result"
    }
   ],
   "source": [
    "df_disaster_charter_consolidated.head().iloc[1]"
   ]
  },
  {
   "cell_type": "code",
   "execution_count": 9,
   "metadata": {},
   "outputs": [
    {
     "data": {
      "text/plain": [
       "Event_ID                     e3a47a70ba67c289eb667c3a7b54e986\n",
       "Source_Event_IDs                                  ['1012810']\n",
       "Event_Name             Drought in Afghanistan, Iran, Pakistan\n",
       "Event_Type                                                 DR\n",
       "Country                           Afghanistan (AFG), Pakistan\n",
       "Country_Code                                              AFG\n",
       "Location                                                   []\n",
       "Latitude                                                   []\n",
       "Longitude                                                  []\n",
       "Date                                               2018-11-21\n",
       "Year                                                     2018\n",
       "Month                                                      11\n",
       "Day                                                        21\n",
       "Time                                                 00:00:00\n",
       "Severity                                         ['116622.0']\n",
       "Population_Affected                                       NaN\n",
       "Fatalities                                                NaN\n",
       "People_Displaced                                          NaN\n",
       "Financial_Loss                                            NaN\n",
       "Alert_Level                                        ['Orange']\n",
       "Source                                                     []\n",
       "Comments                                                   []\n",
       "External_Links                                             []\n",
       "Name: 1, dtype: object"
      ]
     },
     "execution_count": 9,
     "metadata": {},
     "output_type": "execute_result"
    }
   ],
   "source": [
    "df_gdacs_consolidated = pd.read_csv('/home/evangelos/src/disaster-impact/data_out/gdacs/gdacs_consolidated.csv')\n",
    "df_gdacs_consolidated.head().iloc[1]"
   ]
  },
  {
   "cell_type": "code",
   "execution_count": 10,
   "metadata": {},
   "outputs": [
    {
     "data": {
      "text/plain": [
       "Event_ID                 354612eaf018a14d2e53c6b92eef2d13\n",
       "Source_Event_IDs                   ['AC-2001-000666-AFG']\n",
       "Event_Name                                 Tech. Disaster\n",
       "Event_Type                                             AC\n",
       "Country                                       Afghanistan\n",
       "Country_Code                                          AFG\n",
       "Location               ['Near Talogan (Takhar province)']\n",
       "Latitude                                     [36.7704489]\n",
       "Longitude                                    [69.5302203]\n",
       "Date                                            2001/12/8\n",
       "Year                                                 2001\n",
       "Month                                                  12\n",
       "Day                                                     8\n",
       "Time                                                  NaN\n",
       "Severity                                              NaN\n",
       "Population_Affected                                   NaN\n",
       "Fatalities                                            NaN\n",
       "People_Displaced                                      NaN\n",
       "Financial_Loss                                        NaN\n",
       "Alert_Level                                           NaN\n",
       "Source                                                 []\n",
       "Comments                           ['{Helicopter} (Air)']\n",
       "External_Links                                         []\n",
       "Name: 1, dtype: object"
      ]
     },
     "execution_count": 10,
     "metadata": {},
     "output_type": "execute_result"
    }
   ],
   "source": [
    "df_glide_consolidation = pd.read_csv('/home/evangelos/src/disaster-impact/data_out/glide/glide_consolidated.csv')\n",
    "df_glide_consolidation.head().iloc[1]"
   ]
  },
  {
   "cell_type": "code",
   "execution_count": 11,
   "metadata": {},
   "outputs": [
    {
     "data": {
      "text/plain": [
       "array(['Accident', 'Cyclone', 'Dam Failure', 'Earthquake', 'Epidemic',\n",
       "       'Eruption', 'Fire', 'Flash Flood', 'Flood', 'Ice Jam', 'Landslide',\n",
       "       'Maritime Accident', 'Ocean storm', 'Ocean storm, Flood',\n",
       "       'Oil Spill', 'Other', 'Snow Event', 'Technological Disaster',\n",
       "       'Tornado', 'Tropical', 'Tsunami', 'Volcanic Eruption', 'Wildfire',\n",
       "       'earthquakes', 'landslide'], dtype=object)"
      ]
     },
     "execution_count": 11,
     "metadata": {},
     "output_type": "execute_result"
    }
   ],
   "source": [
    "df_disaster_charter_consolidated['Event_Type'].unique()"
   ]
  },
  {
   "cell_type": "code",
   "execution_count": 12,
   "metadata": {},
   "outputs": [
    {
     "data": {
      "text/plain": [
       "array(['DR', 'EQ', 'FL', 'TC', 'VO', 'WF'], dtype=object)"
      ]
     },
     "execution_count": 12,
     "metadata": {},
     "output_type": "execute_result"
    }
   ],
   "source": [
    "df_gdacs_consolidated['Event_Type'].unique()"
   ]
  },
  {
   "cell_type": "code",
   "execution_count": 13,
   "metadata": {},
   "outputs": [
    {
     "data": {
      "text/plain": [
       "array(['AC', 'AV', 'CE', 'CW', 'DR', 'EC', 'EP', 'EQ', 'ET', 'FA', 'FF',\n",
       "       'FL', 'FR', 'HT', 'IN', 'LS', 'MS', 'OT', 'SL', 'SS', 'ST', 'TC',\n",
       "       'TO', 'TS', 'VO', 'VW', 'WF', 'WV'], dtype=object)"
      ]
     },
     "execution_count": 13,
     "metadata": {},
     "output_type": "execute_result"
    }
   ],
   "source": [
    "df_glide_consolidation['Event_Type'].unique()"
   ]
  },
  {
   "cell_type": "code",
   "execution_count": 16,
   "metadata": {},
   "outputs": [
    {
     "data": {
      "text/plain": [
       "array(['Afghanistan', 'Albania', 'Algeria', 'Angola', 'Argentina',\n",
       "       'Australia', 'Austria', 'Azerbaijan', 'Bahrain', 'Bangladesh',\n",
       "       'Benin', 'Bermuda', 'Bolivia', 'Bosnia-Herzegovina', 'Brazil',\n",
       "       'Brunei Darussalam', 'Burundi', 'Cambodia', 'Cameroon', 'Canada',\n",
       "       'Canary Islands', 'Central African Republic', 'Chad', 'Chile',\n",
       "       \"China, People's Republic\", 'Colombia', 'Comoros',\n",
       "       'Congo Democratic Republic', 'Congo, Republic', 'Costa Rica',\n",
       "       \"Cote d'Ivoire\", 'Croatia', 'Cuba', 'Denmark', 'Djibouti',\n",
       "       'Dominican Republic', 'Ecuador', 'Egypt', 'El Salvador',\n",
       "       'Equatorial Guinea', 'Estonia', 'Eswatini', 'Ethiopia', 'France',\n",
       "       'Gabon', 'Gambia', 'Germany', 'Ghana', 'Greece', 'Guadeloupe',\n",
       "       'Guatemala', 'Guinea', 'Haiti', 'Hong Kong (China)', 'Hungary',\n",
       "       'India', 'Indonesia', 'Iran, Islamic Republic', 'Iraq', 'Israel',\n",
       "       'Italy', 'Japan', 'Jordan', 'Kazakhstan', 'Kenya',\n",
       "       'Korea Republic', \"Korea, Democratic People's Republic\",\n",
       "       'Kyrgyzstan', \"Lao People's Democratic Republic\", 'Lebanon',\n",
       "       'Liberia', 'Libyan Arab Jamah', 'Luxembourg', 'Macedonia',\n",
       "       'Madagascar', 'Malawi', 'Malaysia', 'Maldives', 'Mali',\n",
       "       'Mauritania', 'Mauritius', 'Mexico', 'Mongolia', 'Morocco',\n",
       "       'Mozambique', 'Myanmar', 'Namibia', 'Nepal', 'Netherlands',\n",
       "       'Netherlands Antilles', 'New Zealand', 'Niger', 'Nigeria',\n",
       "       'Norway', 'Oman', 'Pakistan', 'Palestine (West Bank, Gaza)',\n",
       "       'Panama', 'Papua New Guinea', 'Paraguay', 'Peru', 'Philippines',\n",
       "       'Poland', 'Portugal', 'Puerto Rico', 'Romania', 'Russia', 'Rwanda',\n",
       "       'Saudi Arabia', 'Senegal', 'Serbia', 'Sierra Leone', 'Singapore',\n",
       "       'Somalia', 'South Africa', 'Spain', 'Sri Lanka', 'Sudan',\n",
       "       'Suriname', 'Switzerland', 'Syrian Arab Rep', 'Taiwan (China)',\n",
       "       'Tanzania', 'Thailand', 'Tonga', 'Tunisia', 'Turkey', 'Tuvalu',\n",
       "       'Uganda', 'Ukraine', 'United Arab Emirates', 'United Kingdom',\n",
       "       'United States', 'Uzbekistan', 'Venezuela', 'Viet Nam', 'Yemen',\n",
       "       'Zaire/Congo, Dem Rep (PREVIOUS)', 'Zambia', 'Zimbabwe',\n",
       "       'Tajikistan', 'Armenia', 'Burkina Faso', 'Cape Verde',\n",
       "       'South Sudan', 'Togo', 'Barbados', 'Belarus', 'Bulgaria',\n",
       "       'Moldova', 'Montenegro', 'Slovenia', 'Belize', 'Botswana',\n",
       "       'Cyprus', 'Eritrea', 'Fiji', 'Georgia', 'Grenada', 'Guinea Bissau',\n",
       "       'Guyana', 'Honduras', 'Jamaica', 'Kiribati', 'Lesotho',\n",
       "       'Marshall Islands', 'Micronesia, Federated States', 'Nicaragua',\n",
       "       'Solomon Islands', 'Timor Leste', 'Trinidad & Tobago', 'Uruguay',\n",
       "       '(Non-Localized)', 'Vanuatu', 'Anguilla', 'Antigua & Barbuda',\n",
       "       'Bahamas', 'Belgium', 'Bhutan', 'Cayman Islands', 'Cook Islands',\n",
       "       'Czech Rep', 'Dominica', 'Finland', 'French Guiana',\n",
       "       'French Polynesia', 'Iceland', 'Ireland', 'Kuwait', 'Latvia',\n",
       "       'Lithuania', 'Macau', 'Malta', 'Martinique', 'Montserrat',\n",
       "       'New Caledonia', 'Palau', 'Qatar', 'Reunion', 'Saint Lucia',\n",
       "       'Saint Vincent & The Grenadines', 'Samoa', 'Sao Tome et Principe',\n",
       "       'Seychelles', 'Slovakia', 'St Kitts & Nevis', 'Sweden',\n",
       "       'Turks & Caicos', 'Virgin Islands (UK)', 'Turkmenistan',\n",
       "       'American Samoa', 'Guam', 'Niue', 'St Helena',\n",
       "       'Virgin Islands (US)'], dtype=object)"
      ]
     },
     "execution_count": 16,
     "metadata": {},
     "output_type": "execute_result"
    }
   ],
   "source": [
    "df_glide_consolidation['Country'].unique()"
   ]
  },
  {
   "cell_type": "code",
   "execution_count": 17,
   "metadata": {},
   "outputs": [
    {
     "data": {
      "text/plain": [
       "array(['Afghanistan (AFG), Kazakhstan (KAZ), Tajikistan (TJK), Turkmenistan',\n",
       "       'Afghanistan (AFG), Pakistan',\n",
       "       'Afghanistan (AFG), Pakistan (PAK), Tajikistan',\n",
       "       'Albania (ALB), Austria (AUT), Bosnia & Herzegovina (BIH), Bulgaria (BGR), Belarus (BLR), Greece (GRC), Croatia (HRV), Hungary (HUN), Kazakhstan (KAZ), Moldova (MDA), Montenegro (MNE), Romania (ROU), Serbia (SRB), Russia (RUS), Slovenia (SVN), Slovakia (SVK), Türkiye (TUR), Ukraine',\n",
       "       'Algeria (DZA), Morocco', 'Algeria (DZA), Morocco (MAR), Tunisia',\n",
       "       'Algeria (DZA), Spain (ESP), Morocco',\n",
       "       'Algeria (DZA), Spain (ESP), Morocco (MAR), Tunisia', 'Angola',\n",
       "       'Angola (AGO), Botswana (BWA), Mozambique (MOZ), Namibia (NAM), Zambia (ZMB), Zimbabwe',\n",
       "       'Angola (AGO), Democratic Republic of Congo (COD), Republic of Congo',\n",
       "       'Argentina', 'Argentina (ARG), Brazil (BRA), Paraguay',\n",
       "       'Argentina (ARG), Chile', 'Armenia (ARM), Azerbaijan', 'Australia',\n",
       "       'Austria (AUT), Belgium (BEL), Switzerland (CHE), Germany (DEU), France (FRA), Liechtenstein (LIE), Luxembourg',\n",
       "       'Azerbaijan (AZE), Russia',\n",
       "       'Bangladesh (BGD), India (IND), Myanmar',\n",
       "       'Bangladesh (BGD), India (IND), Myanmar (MMR), Nepal',\n",
       "       'Belarus (BLR), Estonia (EST), Lithuania (LTU), Latvia (LVA), Poland (POL), Russia (RUS), Ukraine',\n",
       "       'Belarus (BLR), Georgia (GEO), Russia (RUS), Ukraine',\n",
       "       'Belgium (BEL), Czech Republic (CZE), Germany (DEU), France (FRA), Luxembourg (LUX), Poland (POL), Sweden',\n",
       "       'Belgium (BEL), Switzerland (CHE), Czech Republic (CZE), Germany (DEU), France (FRA), Luxembourg (LUX), Netherlands (NLD), Poland',\n",
       "       'Belgium (BEL), Switzerland (CHE), Germany (DEU), France (FRA), Luxembourg (LUX), Netherlands',\n",
       "       'Belize (BLZ), Guatemala (GTM), Honduras (HND), Mexico',\n",
       "       'Belize (BLZ), Guatemala (GTM), Honduras (HND), Mexico (MEX), Nicaragua',\n",
       "       'Belize (BLZ), Guatemala (GTM), Mexico',\n",
       "       'Bhutan (BTN), China (CHN), India (IND), Myanmar',\n",
       "       'Bhutan (BTN), China (CHN), India (IND), Nepal',\n",
       "       'Bolivia (BOL), Brazil',\n",
       "       'Bolivia (BOL), Brazil (BRA), Colombia (COL), Ecuador (ECU), Peru (PER), Venezuela',\n",
       "       'Bolivia (BOL), Brazil (BRA), Peru (PER), Paraguay',\n",
       "       'Botswana (BWA), Lesotho (LSO), Mozambique (MOZ), South Africa',\n",
       "       'Botswana (BWA), Mozambique (MOZ), South Africa (ZAF), Zimbabwe',\n",
       "       'Brazil',\n",
       "       'Bulgaria (BGR), Cyprus (CYP), Spain (ESP), Greece (GRC), Italy (ITA), The Republic of North Macedonia (MKD), Malta (MLT), Türkiye',\n",
       "       'Bulgaria (BGR), Iraq (IRQ), Türkiye',\n",
       "       'Bulgaria (BGR), Lithuania (LTU), Poland (POL), Romania (ROU), Serbia (SRB), Russia',\n",
       "       'Bulgaria (BGR), Moldova (MDA), Romania (ROU), Türkiye (TUR), Ukraine',\n",
       "       'Burundi (BDI), Democratic Republic of Congo (COD), Rwanda',\n",
       "       'Cambodia (KHM), Laos (LAO), Myanmar (MMR), Thailand (THA), Vietnam',\n",
       "       'Cambodia (KHM), Laos (LAO), Thailand (THA), Vietnam',\n",
       "       'Cameroon (CMR), Equatorial Guinea', 'Cameroon (CMR), Nigeria',\n",
       "       'Canada', 'Canada (CAN), United States',\n",
       "       'Central African Republic (CAF), Chad',\n",
       "       'Central African Republic (CAF), Kenya (KEN), South Sudan (SSD), Uganda',\n",
       "       'Chad', 'Chile', 'China',\n",
       "       'China (CHN), India (IND), Myanmar (MMR), Nepal',\n",
       "       'China (CHN), India (IND), Nepal',\n",
       "       'China (CHN), Laos (LAO), Myanmar (MMR), Thailand',\n",
       "       'China (CHN), Malaysia (MYS), Philippines (PHL), Thailand',\n",
       "       'China (CHN), Mongolia',\n",
       "       'China (CHN), North Korea (PRK), South Korea', 'Colombia',\n",
       "       'Colombia (COL), Venezuela', \"Cote d'Ivoire (CIV), Ghana\",\n",
       "       'Croatia (HRV), Hungary (HUN), Romania (ROU), Serbia',\n",
       "       'Democratic Republic of Congo (COD), Central African Republic (CAF), Republic of Congo (COG), Cameroon (CMR), Gabon (GAB), Equatorial Guinea',\n",
       "       'Democratic Republic of Congo (COD), Central African Republic (CAF), Republic of Congo (COG), Cameroon (CMR), Gabon (GAB), Equatorial Guinea (GNQ), Nigeria',\n",
       "       'Democratic Republic of Congo (COD), Zambia',\n",
       "       'Dominican Republic (DOM), Haiti', 'Ecuador',\n",
       "       'Ethiopia (ETH), Sudan (SDN), South Sudan', 'France',\n",
       "       'France (FRA), Italy (ITA), Monaco',\n",
       "       'Germany (DEU), Denmark (DNK), France (FRA), Latvia (LVA), Poland (POL), Sweden',\n",
       "       'Greece (GRC), Türkiye', 'Guatemala (GTM), Mexico', 'Haiti',\n",
       "       'India', 'India (IND), Myanmar', 'India (IND), Pakistan',\n",
       "       'India (IND), Sri Lanka', 'Indonesia', 'Indonesia (IDN), Malaysia',\n",
       "       'Ireland',\n",
       "       'Islamic Republic of Iran (IRN), Kazakhstan (KAZ), Turkmenistan (TKM), Uzbekistan',\n",
       "       'Islamic Republic of Iran (IRN), Kyrgyzstan (KGZ), Kazakhstan (KAZ), Tajikistan (TJK), Turkmenistan (TKM), Uzbekistan',\n",
       "       'Italy', 'Japan', 'Kazakhstan (KAZ), Russia',\n",
       "       'Kazakhstan (KAZ), Russia (RUS), Uzbekistan', 'Kenya',\n",
       "       'Kenya (KEN), Somalia',\n",
       "       'Kyrgyzstan (KGZ), Kazakhstan (KAZ), Tajikistan (TJK), Uzbekistan',\n",
       "       'Lesotho (LSO), South Africa', 'Libya', 'Madagascar',\n",
       "       'Mauritania (MRT), Senegal', 'Mexico',\n",
       "       'Mexico (MEX), United States', 'Mongolia',\n",
       "       'Mongolia (MNG), Russia', 'Morocco', 'Mozambique',\n",
       "       'Mozambique (MOZ), Zimbabwe', 'Namibia', 'New Zealand', 'Nigeria',\n",
       "       'Peru', 'Philippines', 'Russia', 'Russia (RUS), Ukraine',\n",
       "       'Somalia', 'South Africa', 'South Sudan', 'Spain (ESP), Portugal',\n",
       "       'Sri Lanka', 'Tanzania (TZA), Mozambique',\n",
       "       'The Gambia (GMB), Guinea (GIN), Guinea-Bissau (GNB), Senegal',\n",
       "       'Trinidad & Tobago (TTO), Venezuela', 'Türkiye', 'Uganda',\n",
       "       'United States', 'Uzbekistan', 'Aegean Sea', 'Afghanistan',\n",
       "       'Albania', 'Algeria', 'American Samoa', 'Anguilla', 'Antarctica',\n",
       "       'Antigua & Barbuda', 'Antigua and Barbuda', 'Armenia', 'Aruba',\n",
       "       'Ascension Island Region', 'Austria', 'Azerbaijan',\n",
       "       'Azores Islands Region', 'Balleny Islands Region', 'Banda Sea',\n",
       "       'Bangladesh', 'Barbados', 'Belgium', 'Bhutan', 'Bismarck Sea',\n",
       "       'Bolivia', 'Bosnia & Herzegovina', 'Bosnia and Herzegovina',\n",
       "       'Bouvet I.', 'Bouvet Island', 'Bouvet Island Region',\n",
       "       'British Indian Ocean Territory', 'British Virgin Is.',\n",
       "       'British Virgin Islands', 'Broken Ridge', 'Bulgaria', 'Burundi',\n",
       "       'California-Nevada Border Region', 'Cape Verde', 'Carlsberg Ridge',\n",
       "       'Cayman Is.', 'Cayman Islands', 'Celebes Sea',\n",
       "       'Central East Pacific Rise', 'Central Mediterranean Sea',\n",
       "       'Central Mid-Atlantic Ridge', 'Central Peru', 'Ceram Sea',\n",
       "       'Chagos Archipelago Region', 'Chile-Argentina Border Region',\n",
       "       'Chile-Bolivia Border Region', 'Christmas I.', 'Christmas Island',\n",
       "       'Cocos (Keeling) Islands', 'Cocos Is.', 'Comoros', 'Costa Rica',\n",
       "       'Croatia', 'Cuba', 'Cyprus', 'Cyprus Region', 'Czech Republic',\n",
       "       'Democratic Republic of the Congo', 'Djibouti', 'Dominica',\n",
       "       'Dominican Republic', 'East Of Kuril Islands',\n",
       "       'East Of South Sandwich Islands', 'Easter Island Region',\n",
       "       'Eastern Caucasus', 'Egypt', 'El Salvador', 'Eritrea', 'Ethiopia',\n",
       "       'Falkland Islands', 'Falkland Islands Region', 'Faroe Is.',\n",
       "       'Federated States of Micronesia', 'Fiji', 'Fiji Islands',\n",
       "       'Fiji Islands Region', 'Flores Sea',\n",
       "       'Former Yugoslav Republic of Macedonia', 'French Polynesia',\n",
       "       'French Southern Territories',\n",
       "       'French Southern and Antarctic Lands', 'Gabon',\n",
       "       'Galapagos Islands Region', 'Galapagos Triple Jungtion Region',\n",
       "       'Georgia', 'Germany', 'Glorioso Is.', 'Greece', 'Greenland',\n",
       "       'Greenland Sea', 'Grenada', 'Guadeloupe', 'Guam', 'Guatemala',\n",
       "       'Guinea', 'Gulf Of California', 'Hawaii', 'Honduras',\n",
       "       'Howland Island', 'Hungary', 'Iceland', 'Iceland Region',\n",
       "       'Indian Ocean Triple Junction', 'Iran', 'Iran-Iraq Border Region',\n",
       "       'Iraq', 'Islamic Republic of Iran', 'Jamaica', 'Jan Mayen',\n",
       "       'Jan Mayen Island Region', 'Jordan', 'Juan De Nova I.',\n",
       "       'Kashmir-Xinjiang Border Region', 'Kashmir-Xizang Border Region',\n",
       "       'Kazakhstan', 'Kermadec Islands Region', 'Kiribati',\n",
       "       'Komandorsky Islands Region', 'Kuril Islands', 'Kuwait',\n",
       "       'Kyrgyzstan', 'Lake Issyk-Kul Region', 'Lake Tanganyika Region',\n",
       "       'Laos', 'Lebanon', 'Leeward Islands', 'Loyalty Islands',\n",
       "       'Macedonia', 'Macquarie Island Region', 'Malawi', 'Malaysia',\n",
       "       'Maldives', 'Malta', 'Mariana Islands', 'Mariana Islands Region',\n",
       "       'Martinique', 'Mauritius', 'Mauritius - Reunion Region', 'Mayotte',\n",
       "       'Mexico-Guatemala Border Region', 'Micronesia', 'Mid-Indian Ridge',\n",
       "       'Miscellaneous (French) Indian Ocean Islands', 'Montenegro',\n",
       "       'Mozambique Channel', 'Myanmar', 'Myanmar-India Border Region',\n",
       "       'Near Coast Of Central Chile', 'Near Coast Of Ecuador',\n",
       "       'Near Coast Of Guatemala', 'Near Coast Of Nicaragua',\n",
       "       'Near Coast Of Northern Chile', 'Near Coast Of Peru',\n",
       "       'Near East Coast Of Kamchatka', 'Near North Coast Of Irian Jaya',\n",
       "       'Nepal', 'Nepal-India Border Region', 'Netherlands', 'Nevada',\n",
       "       'New Caledonia', 'Nicaragua', 'Niue', 'No Mans Land', 'Norfolk I.',\n",
       "       'Norfolk Island', 'North Atlantic Ocean', 'North Indian Ocean',\n",
       "       'North Korea', 'North Of Ascension Island',\n",
       "       'North Of Franz Josef Land', 'North Of Honduras',\n",
       "       'North Of Macquarie Island', 'North Of Severnaya Zemlya',\n",
       "       'North Of Solomon Islands', 'North Of Svalbard',\n",
       "       'North Pacific Ocean', 'Northeast Of Taiwan', 'Northeastern China',\n",
       "       'Northern Alaska', 'Northern And Central Iran', 'Northern Chile',\n",
       "       'Northern East Pacfic Rise', 'Northern Mariana Is.',\n",
       "       'Northern Mariana Islands', 'Northern Mid-Atlantic Ridge',\n",
       "       'Northern Molucca Sea', 'Northern Peru', 'Northwest Of Madagascar',\n",
       "       'Norway', 'Null', 'Off Coast Of Central America',\n",
       "       'Off Coast Of Central Chile', 'Off Coast Of Costa Rica',\n",
       "       'Off Coast Of Northern California', 'Off Coast Of Oregon',\n",
       "       'Off Coast Of Peru', 'Off Coast Of Southern Chile',\n",
       "       'Off East Coast Of Kamchatka', 'Off W Coast Of Northern Sumatera',\n",
       "       'Oman', 'Owen Fracture Zone Region', 'Pacific-Antarctic Ridge',\n",
       "       'Pakistan', 'Palau', 'Panama', 'Panama-Costa Rica Border Region',\n",
       "       'Papua New Guinea', 'Peru-Ecuador Border Region',\n",
       "       'Philippine Islands Region', 'Poland', 'Portugal',\n",
       "       'Prince Edward Islands Region', 'Puerto Rico',\n",
       "       'Puerto Rico Region', 'Red Sea', 'Republic of Korea',\n",
       "       'Revilla Gigedo Islands Region', 'Reykjanes Ridge', 'Romania',\n",
       "       'Russian Federation', 'Rwanda', 'Saint Kitts and Nevis', 'Samoa',\n",
       "       'Samoa Islands Region', 'Santa Cruz Islands', 'Saudi Arabia',\n",
       "       'Scotia Sea', 'Serbia', 'Serbia  and  Montenegro', 'Seychelles',\n",
       "       'Slovenia', 'Solomon Is.', 'Solomon Islands',\n",
       "       'South Atlantic Ocean', 'South Georgia & the South Sandwich Is.',\n",
       "       'South Georgia Island Region',\n",
       "       'South Georgia and the South Sandwich Islands',\n",
       "       'South Indian Ocean', 'South Korea', 'South Of Africa',\n",
       "       'South Of Alaska', 'South Of Fiji Islands',\n",
       "       'South Of Kermadec Islands', 'South Of Mariana Islands',\n",
       "       'South Of Panama', 'South Of Tonga Islands', 'South Pacific Ocean',\n",
       "       'South Sandwich Islands Region', 'South Shetland Islands',\n",
       "       'Southeast Central Pacific Ocean', 'Southeast Indian Ridge',\n",
       "       'Southeast Of Easter Island', 'Southeast Of Loyalty Islands',\n",
       "       'Southern Alaska', 'Southern Bolivia', 'Southern California',\n",
       "       'Southern East Pacific Rise', 'Southern India', 'Southern Iran',\n",
       "       'Southern Italy', 'Southern Mid-Atlantic Ridge',\n",
       "       'Southern Molucca Sea', 'Southern Peru', 'Southwest Indian Ridge',\n",
       "       'Southwest Of Africa', 'Southwestern Pakistan', 'Spain',\n",
       "       'St. Helena', 'St. Kitts & Nevis', 'St. Vincent & the Grenadines',\n",
       "       'Strait Of Gibraltar', 'Svalbard', 'Svalbard Region',\n",
       "       'Svalbard and Jan Mayen', 'Sweden', 'Syrian Arab Republic',\n",
       "       'Taiwan', 'Taiwan Region', 'Tajikistan', 'Tanzania', 'Thailand',\n",
       "       'The Bahamas', 'The Democratic Republic of Congo',\n",
       "       'The Republic of North Macedonia', 'Timor Leste', 'Timor Region',\n",
       "       'Timor-Leste', 'Tonga', 'Tonga Islands', 'Tonga Islands Region',\n",
       "       'Trinidad & Tobago', 'Trinidad and Tobago',\n",
       "       'Tristan Da Cunha Region', 'Tunisia', 'Turkey', 'Turkmenistan',\n",
       "       'Turks and Caicos Islands', 'Tuvalu', 'Ukraine',\n",
       "       'United Arab Emirates', 'United Kingdom', 'Vanuatu',\n",
       "       'Vanuatu Islands', 'Venezuela', 'Viet Nam', 'Vietnam',\n",
       "       'Virgin Is.', 'Virgin Islands', 'Virgin Islands  British',\n",
       "       'Wallis & Futuna', 'Wallis and Futuna', 'West Bank',\n",
       "       'West Chile Rise', 'West Of Galapagos Islands',\n",
       "       'West Of Macquarie Island', 'Western Indian-Antarctic Ridge',\n",
       "       'Western Iran', 'Windward Islands', 'Xizang', 'Yemen',\n",
       "       'Yugoslavia', 'Zambia', 'Zimbabwe',\n",
       "       'Afghanistan (AFG), Tajikistan', 'Africa', 'Alaska',\n",
       "       'Albania (ALB), Bulgaria (BGR), Greece (GRC), Kosovo (XXK), Montenegro (MNE), Serbia',\n",
       "       'Albania (ALB), Kosovo (XXK), Montenegro (MNE), Serbia',\n",
       "       'Albania (ALB), Montenegro', 'Albania (ALB), Serbia',\n",
       "       'Albania (ALB), The Republic of North Macedonia',\n",
       "       'Algeria (DZA), Italy (ITA), Tunisia', 'Algeria (DZA), Tunisia',\n",
       "       'Austria (AUT), Czech Republic (CZE), Germany (DEU), Poland (POL), Romania (ROU), Slovakia',\n",
       "       'Austria (AUT), Germany', 'Bahamas',\n",
       "       'Bahrain (BHR), United Arab Emirates', 'Bangladesh (BGD), India',\n",
       "       'Barbados (BRB), Dominican Republic (DOM), France (FRA), St. Lucia (LCA), St. Vincent & the Grenadines',\n",
       "       'Barbados (BRB), Grenada (GRD), St. Lucia', 'Belarus',\n",
       "       'Belgium (BEL), France', 'Belgium (BEL), Netherlands', 'Belize',\n",
       "       'Belize (BLZ), Guatemala', 'Benin', 'Benin (BEN), Togo', 'Boliva',\n",
       "       'Bosnia & Herzegovina (BIH), Croatia', 'Bosnia and Herzogovina',\n",
       "       'Bosnia-Hercegovenia', 'Bosnia-Herzegovina', 'Botswana',\n",
       "       'British Virgin Is. (VGB), France (FRA), United States',\n",
       "       'Buldaria', 'Bulgaria (BGR), Romania', 'Burkina Faso',\n",
       "       'Burkino Faso', 'Burma', 'Camaroun', 'Cambodia',\n",
       "       'Cambodia (KHM), Vietnam', 'Cameroon', 'Canada and USA',\n",
       "       'Canary Islands', 'Central African Republic',\n",
       "       'China (CHN), Philippines (PHL), Taiwan', 'China (CHN), Taiwan',\n",
       "       'China (CHN), Vietnam',\n",
       "       'Colombia (COL), Costa Rica (CRI), El Salvador (SLV), Guatemala (GTM), Honduras (HND), Nicaragua (NIC), Panama',\n",
       "       'Columbia', 'Comoros Islands', 'Congo', 'Congo Republic',\n",
       "       'Congo and Zaire', 'Congo-Brazzaville',\n",
       "       'Costa Rica (CRI), El Salvador (SLV), Nicaragua',\n",
       "       'Costa Rica (CRI), Guatemala (GTM), Honduras (HND), Jamaica (JAM), Mexico (MEX), Nicaragua (NIC), Panama (PAN), United States',\n",
       "       'Cote d Ivoire', \"Cote d'Ivoire\", 'Croatia (HRV), Serbia',\n",
       "       'Croatia (HRV), Slovakia', 'Croatia (HRV), Slovenia',\n",
       "       'Cuba (CUB), Dominican Republic (DOM), United States',\n",
       "       'Cuba (CUB), Jamaica', 'Cuba (CUB), United States',\n",
       "       'Cyprus (CYP), Egypt (EGY), Israel (ISR), Syria', 'Czechia',\n",
       "       'DR Congo', 'Democratic Republic of Congo', 'Denmark',\n",
       "       'Denmark (DNK), Germany',\n",
       "       'Dominican Republic (DOM), France (FRA), Netherlands',\n",
       "       'Dominican Republic (DOM), Haiti (HTI), Jamaica',\n",
       "       'Dominican Republic (DOM), United States', 'Domnican Republic',\n",
       "       'East Timor', 'Eastern India', 'Eastern Russia',\n",
       "       'Egypt (EGY), Israel', 'El Salvador (SLV), Honduras',\n",
       "       'El Salvador (SLV), Honduras (HND), Mexico', 'Estonia',\n",
       "       'Estonia (EST), Latvia (LVA), Lithuania',\n",
       "       'Eswatini (SWZ), Madagascar (MDG), Mozambique (MOZ), South Africa (ZAF), Zimbabwe',\n",
       "       'Ethiopia (ETH), Kenya', 'Europe', 'Fiji (FJI), Vanuatu',\n",
       "       'Finland', 'France (FRA), Italy', 'France (FRA), Luxembourg',\n",
       "       'France (FRA), Madagascar (MDG), Mauritius',\n",
       "       'France (FRA), Mauritius', 'France (FRA), Spain',\n",
       "       'France (FRA), United Kingdom', 'Gaza',\n",
       "       'Germany (DEU), Switzerland', 'Ghana',\n",
       "       'Grenada (GRD), Spain (ESP), Trinidad & Tobago', 'Guatamala',\n",
       "       'Guinea-Bissau', 'Guyana', 'Hungary (HUN), Romania', 'Inda',\n",
       "       'India (IND), Nepal', 'Iraq (IRQ), Kuwait',\n",
       "       'Ireland (IRL), United Kingdom',\n",
       "       'Islamic Republic of Iran (IRN), Pakistan',\n",
       "       'Isle of Man (IMY), United Kingdom', 'Israel',\n",
       "       'Israel (ISR), Jordan', 'Israel (ISR), Lebanon',\n",
       "       'Italy (ITA), Malta', 'Ivory Coast', 'Jordan (JOR), Saudi Arabia',\n",
       "       'Kazahkstan', 'Kazakhstan (KAZ), Uzbekistan', 'Kosovo',\n",
       "       'Kosovo (XXK), Serbia',\n",
       "       'Kuwait (KWT), Oman (OMN), United Arab Emirates',\n",
       "       'Kyrgyzstan (KGZ), Uzbekistan', 'Laos (LAO), Vietnam', 'Latvia',\n",
       "       'Lesotho', 'Liberia', 'Lithuania', 'Luxembourg',\n",
       "       'Madagascar (MDG), Malawi (MWI), Mozambique', 'Malayasia',\n",
       "       'Malaysia (MYS), Thailand', 'Mali', 'Marshall Is.', 'Mauritania',\n",
       "       'Moldova', 'Moldovo', 'Morocco (MAR), Spain', 'Niger',\n",
       "       'North Korea (PRK), South Korea', 'North Macedonia',\n",
       "       'Northern Bangladesh\\xa0and Eastern India',\n",
       "       'Northwestern D R Congo', 'Norway (NOR), Sweden',\n",
       "       'Oman (OMN), United Arab Emirates', 'Oman (OMN), Yemen',\n",
       "       'Palestine', 'Papua New Gunea', 'Paraguay', 'Phillipines',\n",
       "       'Phillippines', 'Portugal (PRT), Spain', 'Qatar',\n",
       "       'Qatar (QAT), United Arab Emirates', 'Republic of Congo', 'Russa',\n",
       "       'Saint Vincent', 'Scotland', 'Senegal', 'Serbia and Montenegro',\n",
       "       'Serbia-Montenegro', 'Sierra Leone', 'Singapore', 'Slovakia',\n",
       "       'South Africa (ZAF), Zimbabwe', 'Southern Somalia', 'Sudan',\n",
       "       'Sudan and Eritrea', 'Suriname', 'Switzerland', 'Syria',\n",
       "       'Tajikstan', 'Tasmania', 'Texas', 'Thailand (THA), Vietnam',\n",
       "       'The Bahamas (BHS), United States', 'The Gambia', 'Timor', 'Togo',\n",
       "       'Trinidad', 'UK', 'UK and Ireland', 'US', 'USA', 'USAS',\n",
       "       'United States of America', 'Uruguay', 'Venezulea',\n",
       "       'Western Europe', 'Western India', 'Western Sahara', 'Zimbawe',\n",
       "       'Australia (AUS), Indonesia', 'Australia (AUS), Papua New Guinea',\n",
       "       'Bangladesh (BGD), India (IND), Bhutan',\n",
       "       'Bangladesh (BGD), India (IND), Myanmar (MMR), Bhutan',\n",
       "       'Bangladesh (BGD), India (IND), Myanmar (MMR), Thailand (THA), Cambodia (KHM), Laos',\n",
       "       'Bangladesh (BGD), Myanmar (MMR), India',\n",
       "       'Barbados (BRB), Martinique (MTQ), Grenada (GRD), Dominica (DMA), Dominican Republic (DOM), Haiti (HTI), Cuba (CUB), United States (USA), Jamaica (JAM), Guadeloupe',\n",
       "       'Belize (BLZ), Mexico', 'Belize (BLZ), Mexico (MEX), Honduras',\n",
       "       'Bermuda', 'Bermuda (BMU), Anguilla (AIA), Anguilla',\n",
       "       'Bermuda (BMU), Anguilla (AIA), Canada',\n",
       "       'Bermuda (BMU), Canada (CAN), Dominican Republic (DOM), Montserrat (MSR), Dominica',\n",
       "       'Bermuda (BMU), Dominica (DMA), Guadeloupe (GLP), Anguilla (AIA), Antigua & Barbuda (ATG), St. Kitts & Nevis (KNA), Montserrat (MSR), Canada (CAN), St. Pierre & Miquelon',\n",
       "       'Bermuda (BMU), Dominica (DMA), Guadeloupe (GLP), Martinique (MTQ), Anguilla (AIA), Montserrat (MSR), Puerto Rico (PRI), Canada',\n",
       "       'Bermuda (BMU), Dominican Republic (DOM), Haiti',\n",
       "       'Bermuda (BMU), Montserrat (MSR), Puerto Rico (PRI), United States (USA), Anguilla (AIA), Canada (CAN), Guadeloupe (GLP), Dominica (DMA), Martinique',\n",
       "       'Bermuda (BMU), United States (USA), Bermuda',\n",
       "       'Bermuda (BMU), United States (USA), Cuba (CUB), Mexico',\n",
       "       'Cambodia (KHM), Laos', 'Cambodia (KHM), Laos (LAO), Thailand',\n",
       "       'Cambodia (KHM), Malaysia (MYS), Philippines',\n",
       "       'Cambodia (KHM), Philippines (PHL), Laos (LAO), Thailand',\n",
       "       'Canada (CAN), Bermuda',\n",
       "       'Canada (CAN), Bermuda (BMU), Anguilla (AIA), Puerto Rico (PRI), Montserrat (MSR), Guadeloupe',\n",
       "       'Canada (CAN), Dominican Republic (DOM), Puerto Rico',\n",
       "       'Canada (CAN), Iceland (ISL), Bermuda (BMU), Ireland (IRL), United Kingdom',\n",
       "       'Canada (CAN), St. Pierre & Miquelon (SPM), Faroe Is. (FRO), United Kingdom (GBR), Ireland (IRL), Isle of Man',\n",
       "       'Canada (CAN), United States (USA), Puerto Rico (PRI), Martinique (MTQ), Barbados (BRB), Dominican Republic (DOM), Haiti (HTI), Dominica (DMA), Guadeloupe',\n",
       "       'China (CHN), Japan', 'China (CHN), Japan (JPN), Guam',\n",
       "       'China (CHN), Japan (JPN), Philippines', 'China (CHN), Laos',\n",
       "       'China (CHN), Laos (LAO), Cambodia (KHM), Philippines',\n",
       "       'China (CHN), Laos (LAO), Myanmar',\n",
       "       'China (CHN), Laos (LAO), Philippines',\n",
       "       'China (CHN), Laos (LAO), Thailand', 'China (CHN), Philippines',\n",
       "       'China (CHN), Philippines (PHL), Cambodia (KHM), Laos',\n",
       "       'China (CHN), Philippines (PHL), Cambodia (KHM), Laos (LAO), Taiwan',\n",
       "       'China (CHN), Philippines (PHL), Guam (GUM), Laos (LAO), Myanmar',\n",
       "       'China (CHN), Philippines (PHL), Laos (LAO), Thailand',\n",
       "       'China (CHN), Philippines (PHL), Palau',\n",
       "       'Colombia (COL), Venezuela (VEN), Aruba (ABW), Netherlands Antilles (ANT), Grenada (GRD), Martinique (MTQ), Barbados',\n",
       "       'Cuba (CUB), Haiti (HTI), Puerto Rico (PRI), Dominican Republic (DOM), United States (USA), Jamaica (JAM), Guadeloupe (GLP), Montserrat (MSR), Anguilla',\n",
       "       'Cuba (CUB), Jamaica (JAM), United States',\n",
       "       'Dominica (DMA), Martinique (MTQ), Guadeloupe (GLP), Montserrat',\n",
       "       'Dominican Republic (DOM), The Bahamas (BHS), United States (USA), Puerto Rico',\n",
       "       'Fiji (FJI), Samoa', 'Fiji (FJI), Tonga',\n",
       "       'Fiji (FJI), Tonga (TON), Niue', 'Greenland (GRL), Iceland',\n",
       "       'Greenland (GRL), Ireland (IRL), United Kingdom',\n",
       "       'Guadeloupe (GLP), Dominica (DMA), Martinique',\n",
       "       'Guadeloupe (GLP), Dominica (DMA), Martinique (MTQ), Grenada (GRD), Barbados',\n",
       "       'Guam (GUM), Philippines (PHL), Japan (JPN), China',\n",
       "       'Guatemala (GTM), Belize',\n",
       "       'Guatemala (GTM), Mexico (MEX), Belize (BLZ), Honduras (HND), Nicaragua',\n",
       "       'Guatemala (GTM), Mexico (MEX), El Salvador',\n",
       "       'Guatemala (GTM), Mexico (MEX), United States (USA), Belize',\n",
       "       'Haiti (HTI), Cuba (CUB), Jamaica (JAM), Dominican Republic (DOM), Barbados (BRB), Martinique',\n",
       "       'Haiti (HTI), Dominican Republic (DOM), Guadeloupe (GLP), Martinique (MTQ), Puerto Rico',\n",
       "       'Haiti (HTI), Grenada (GRD), Jamaica (JAM), Mexico (MEX), Belize (BLZ), United States',\n",
       "       'Honduras (HND), Guatemala (GTM), Nicaragua (NIC), Mexico (MEX), Belize',\n",
       "       'Honduras (HND), Nicaragua',\n",
       "       'Iceland (ISL), Ireland (IRL), United Kingdom (GBR), Norway (NOR), Sweden',\n",
       "       'India (IND), Bangladesh', 'India (IND), Bangladesh (BGD), Bhutan',\n",
       "       'India (IND), Bangladesh (BGD), Myanmar',\n",
       "       'India (IND), Maldives (MDV), Sri Lanka',\n",
       "       'India (IND), Myanmar (MMR), Bangladesh',\n",
       "       'India (IND), Yemen (YEM), Somalia (SOM), India (IND), Yemen',\n",
       "       'Japan (JPN), China', 'Japan (JPN), China (CHN), Guam',\n",
       "       'Japan (JPN), China (CHN), Philippines', 'Japan (JPN), Guam',\n",
       "       'Japan (JPN), Japan (JPN), Guam', 'Japan (JPN), Philippines',\n",
       "       'Japan (JPN), Philippines (PHL), China',\n",
       "       'Japan (JPN), Philippines (PHL), Palau',\n",
       "       'Japan (JPN), Taiwan (TWN), China (CHN), Philippines',\n",
       "       'Japan (JPN), United States',\n",
       "       'Juan De Nova I. (None), Mozambique (MOZ), South Africa (ZAF), Madagascar',\n",
       "       'Laos (LAO), Cambodia', 'Laos (LAO), Cambodia (KHM), Thailand',\n",
       "       'Laos (LAO), China', 'Laos (LAO), China (CHN), Philippines',\n",
       "       'Laos (LAO), China (CHN), Thailand', 'Laos (LAO), Philippines',\n",
       "       'Laos (LAO), Philippines (PHL), Cambodia (KHM), Thailand',\n",
       "       'Laos (LAO), Thailand',\n",
       "       'Laos (LAO), Thailand (THA), Cambodia (KHM), China',\n",
       "       'Laos (LAO), Thailand (THA), China',\n",
       "       'Laos (LAO), Thailand (THA), China (CHN), Myanmar',\n",
       "       'Laos (LAO), Thailand (THA), China (CHN), Philippines (PHL), Myanmar (MMR), Cambodia',\n",
       "       'Madagascar (MDG), Mauritius',\n",
       "       'Malaysia (MYS), Indonesia (IDN), Philippines',\n",
       "       'Mauritius (MUS), Madagascar', 'Mexico (MEX), Cuba',\n",
       "       'Mexico (MEX), Guatemala (GTM), Belize (BLZ), Honduras',\n",
       "       'Montserrat (MSR), Guadeloupe (GLP), Bermuda (BMU), Barbados (BRB), Dominica',\n",
       "       'Montserrat (MSR), Guadeloupe (GLP), Dominica (DMA), Martinique (MTQ), Barbados',\n",
       "       'Mozambique (MOZ), Comoros', 'Mozambique (MOZ), Madagascar',\n",
       "       'Mozambique (MOZ), Malawi (MWI), Madagascar',\n",
       "       'Mozambique (MOZ), Malawi (MWI), Madagascar (MDG), Zimbabwe',\n",
       "       'Mozambique (MOZ), South Africa (ZAF), Eswatini (SWZ), Zimbabwe (ZWE), Malawi',\n",
       "       'Mozambique (MOZ), Zimbabwe (ZWE), Madagascar',\n",
       "       'Mozambique (MOZ), Zimbabwe (ZWE), Madagascar (MDG), Botswana',\n",
       "       'Myanmar (MMR), Thailand (THA), Malaysia (MYS), Indonesia',\n",
       "       'New Caledonia (NCL), Australia',\n",
       "       'New Caledonia (NCL), Australia (AUS), Vanuatu',\n",
       "       'New Caledonia (NCL), New Zealand', 'New Caledonia (NCL), Vanuatu',\n",
       "       'New Zealand (NZL), New Caledonia (NCL), Vanuatu',\n",
       "       'Nicaragua (NIC), Costa Rica',\n",
       "       'Nicaragua (NIC), Costa Rica (CRI), Panama (PAN), Colombia (COL), Venezuela (VEN), Aruba (ABW), Netherlands Antilles',\n",
       "       'Nicaragua (NIC), Honduras',\n",
       "       'Nicaragua (NIC), United States (USA), Honduras',\n",
       "       'Niue (NIU), American Samoa (ASM), Samoa', 'Niue (NIU), Tonga',\n",
       "       'Niue (NIU), Tonga (TON), Samoa (WSM), Fiji (FJI), Tuvalu',\n",
       "       'Oman (OMN), Saudi Arabia', 'Pakistan (PAK), India',\n",
       "       'Papua New Guinea (PNG), Australia', 'Philippines (PHL), China',\n",
       "       'Philippines (PHL), China (CHN), Guam',\n",
       "       'Philippines (PHL), China (CHN), Vietnam',\n",
       "       'Philippines (PHL), Guam', 'Philippines (PHL), Japan',\n",
       "       'Philippines (PHL), Malaysia', 'Philippines (PHL), Palau',\n",
       "       'Philippines (PHL), Taiwan',\n",
       "       'Philippines (PHL), Taiwan (TWN), China (CHN), Japan',\n",
       "       'Portugal (PRT), Ireland (IRL), United Kingdom',\n",
       "       'Portugal (PRT), Ireland (IRL), United Kingdom (GBR), United States (USA), Bermuda',\n",
       "       'Portugal (PRT), Spain (ESP), France (FRA), United Kingdom (GBR), Belgium (BEL), Luxembourg (LUX), Germany',\n",
       "       'Puerto Rico (PRI), Anguilla',\n",
       "       'Puerto Rico (PRI), Barbados (BRB), Grenada (GRD), Puerto Rico (PRI), Grenada (GRD), Venezuela',\n",
       "       'Puerto Rico (PRI), Bermuda (BMU), Canada', 'Samoa (WSM), Niue',\n",
       "       'Somalia (SOM), Ethiopia', 'Somalia (SOM), Ethiopia (ETH), Yemen',\n",
       "       'Somalia (SOM), Kenya (KEN), Tanzania', 'Sri Lanka (LKA), India',\n",
       "       'Tanzania (TZA), Seychelles',\n",
       "       'Tanzania (TZA), Seychelles (SYC), Comoros',\n",
       "       'Timor-Leste (TLS), Indonesia', 'Tonga (TON), Fiji (FJI), Vanuatu',\n",
       "       'United States (USA), Anguilla (AIA), Montserrat (MSR), Guadeloupe',\n",
       "       'United States (USA), Bermuda', 'United States (USA), Canada',\n",
       "       'United States (USA), Cuba',\n",
       "       'United States (USA), Cuba (CUB), Dominican Republic (DOM), Puerto Rico (PRI), Anguilla (AIA), Guadeloupe (GLP), Montserrat',\n",
       "       'United States (USA), Cuba (CUB), Haiti',\n",
       "       'United States (USA), Cuba (CUB), Haiti (HTI), Jamaica (JAM), Dominican Republic (DOM), Puerto Rico (PRI), Anguilla (AIA), Montserrat (MSR), Guadeloupe (GLP), Dominica',\n",
       "       'United States (USA), Cuba (CUB), Mexico (MEX), Belize',\n",
       "       'United States (USA), Dominican Republic (DOM), Puerto Rico (PRI), Haiti (HTI), Cuba (CUB), Anguilla (AIA), Aruba (ABW), Netherlands Antilles (ANT), Venezuela (VEN), Colombia (COL), Montserrat (MSR), Guadeloupe (GLP), Martinique (MTQ), Grenada (GRD), Barbados (BRB), Dominica (DMA), Jamaica',\n",
       "       'United States (USA), Haiti (HTI), Dominican Republic (DOM), Puerto Rico',\n",
       "       'United States (USA), Mexico',\n",
       "       'United States (USA), Mexico (MEX), Belize',\n",
       "       'United States (USA), Mexico (MEX), Canada (CAN), Belize (BLZ), Guatemala',\n",
       "       'United States (USA), Mexico (MEX), Cuba',\n",
       "       'United States (USA), Mexico (MEX), Cuba (CUB), Honduras (HND), Nicaragua',\n",
       "       'Vanuatu (VUT), New Caledonia',\n",
       "       'Venezuela (VEN), Grenada (GRD), Barbados',\n",
       "       'Venezuela (VEN), Grenada (GRD), Netherlands Antilles (ANT), Guyana (GUY), Aruba (ABW), Colombia',\n",
       "       'Argentina (ARG), Paraguay', 'Bangladesh (BGD), Myanmar',\n",
       "       'Benin (BEN), Burkina Faso', 'Benin (BEN), Niger',\n",
       "       'Brazil (BRA), Bolivia', 'Burkina Faso (BFA), Benin',\n",
       "       'Burkina Faso (BFA), Mali', 'Burkina Faso (BFA), Niger',\n",
       "       'Cameroon (CMR), Chad', 'Central African Republic (CAF), Sudan',\n",
       "       'Chad (TCD), Cameroon', 'Chad (TCD), Central African Republic',\n",
       "       'Ethiopia (ETH), Sudan', 'Ghana (GHA), Burkina Faso',\n",
       "       \"Guinea (GIN), Cote d'Ivoire\", 'Guinea (GIN), Sierra Leone',\n",
       "       'Guinea-Bissau (GNB), Senegal', \"Liberia (LBR), Cote d'Ivoire\",\n",
       "       'Mozambique (MOZ), South Africa', 'Myanmar (MMR), Thailand',\n",
       "       'Namibia (NAM), Botswana', 'Niger (NER), Benin',\n",
       "       'Nigeria (NGA), Cameroon', 'Nigeria (NGA), Chad',\n",
       "       'South Africa (ZAF), Mozambique',\n",
       "       'Sudan (SDN), Central African Republic', 'Sudan (SDN), Ethiopia',\n",
       "       'Thailand (THA), Laos', 'Venezuela (VEN), Colombia'], dtype=object)"
      ]
     },
     "execution_count": 17,
     "metadata": {},
     "output_type": "execute_result"
    }
   ],
   "source": [
    "df_gdacs_consolidated['Country'].unique()"
   ]
  },
  {
   "cell_type": "code",
   "execution_count": 18,
   "metadata": {},
   "outputs": [
    {
     "data": {
      "text/plain": [
       "array(['Argentina', 'Chile', 'Egypt', 'English Channel', 'Iran',\n",
       "       'Lebanon', 'Ryongchon, North Korea', 'South China Sea', 'Thailand',\n",
       "       'Antilles Islands', 'Bahamas', 'Bangladesh',\n",
       "       'Bangladesh and Myanmar', 'Bermuda', 'Caribbean', 'Cayman Islands',\n",
       "       'Central America: Nicaragua, El Salvador, Guatemala, Mexico',\n",
       "       'China', 'Colombia', 'Dominican Republic', 'Ecuador', 'Eswatini',\n",
       "       'Farquhar, Seychelles', 'Fiji', 'Fiji islands',\n",
       "       'Grenada Island - Caribbean',\n",
       "       'Guadeloupe, Saint Martin and Saint-Barthélemy',\n",
       "       'Guam, Northern Mariana Islands', 'Guatemala',\n",
       "       'Hainan Province, China', 'Haiti', 'Haiti, USA', 'Honduras',\n",
       "       'India', 'Indonesia', 'Islands of the country of Palau', 'Jamaica',\n",
       "       'Japan', 'Kingdom of Tonga', 'La Réunion',\n",
       "       'Louisiana, Mississippi, Alabama (United States)',\n",
       "       'Louisiana, USA', 'Madagascar', 'Madagascar (Morombe, Taolagnaro)',\n",
       "       'Madagascar, Toamasina (Tamatave)', 'Malawi', 'Mexico',\n",
       "       'Mozambique', 'New Caledonia',\n",
       "       'New Orleans, Louisiana, Mississippi (United States)', 'Nicaragua',\n",
       "       'North-East India', 'Odisha and Andhra Pradesh states, India',\n",
       "       'Oman', 'Pacific Islands (Kingdom of Tonga)', 'Pakistan', 'Peru',\n",
       "       'Philippines', 'Philippines - Mindanao, Davao',\n",
       "       'Philippines, Mindanao', 'Puerto Rico and U.S. Virgin Islands',\n",
       "       'Queensland, Australia', 'Quezon, Philippines',\n",
       "       'Rarotonga Island - Cook Islands', 'Russian Federation', 'Samoa',\n",
       "       'Solomon Islands', 'South Korea', 'South West France',\n",
       "       'Southern Florida, Gulf of Mexico, Gulf Coast of North America',\n",
       "       'Southern Sweden', 'Southern Texas, USA', 'Sri Lanka', 'Taiwan',\n",
       "       'Texas, United States', 'The Philippines', 'Tonga',\n",
       "       'United Arab Emirates', 'United States',\n",
       "       'United States of America', 'United States of America (USA)',\n",
       "       'United States of America - States of New York and New Jersey',\n",
       "       'Vanuatu', 'Vietnam', 'Vietnam (Dak Lak and Lam Dong provinces)',\n",
       "       'Wallis and Futuna Islands', 'Wallis and Futuna, French Polynesia',\n",
       "       'Yangon, Myanmar', 'Yemen', 'Yucatan Peninsula, Mexico',\n",
       "       'Zimbabwe', 'Bento Rodrigues, Brazil', 'Afghanistan',\n",
       "       'Al Eis, Saudi Arabia', 'Al Hoceima, Morocco', 'Algeria',\n",
       "       'Balochistan, Pakistan', 'Bam, Iran', 'Bhuj, Gujarat, India',\n",
       "       'Bingöl, Türkiye', 'Bohol Island, the Philippines',\n",
       "       'Canary Islands',\n",
       "       'China - Yiliang County, Yunnan Province and Weining County, Guizhou Province',\n",
       "       'Costa Rica', 'Dalbandin, Pakistan', 'El Salvador',\n",
       "       'Gansu Province, China', 'Hindu Kush Mountains, Afghanistan',\n",
       "       'Hindu Kush region, Afghanistan',\n",
       "       'Hirono, Iwate prefecture, Japan', 'India-Pakistan border',\n",
       "       'India; Sri Lanka, Thailand, Indonesia, Maldives, Malaysia, Myanmar (Burma)',\n",
       "       'Iraq', 'Java, Indonesia', 'Malawi, Karango', 'Morocco', 'Nepal',\n",
       "       'Nepal and India', 'New Zealand', 'North-West Iran',\n",
       "       'Papua province (Irian Jaya), Indonesia', 'Pisco city, Peru',\n",
       "       'Rwanda, Democratic Republic of the Congo, Burundi',\n",
       "       'Sichuan Province, China', 'Sikkim, North East India',\n",
       "       'Syrian Arab Republic', 'Taiwan, Province of China', 'Tajikistan',\n",
       "       'The Solomon Islands', 'Türkiye', 'Yunnan Province, China',\n",
       "       'West Africa - Guinea, Liberia and Sierra Leone',\n",
       "       'Alberta, Canada', 'Australia', 'Bolivia',\n",
       "       'Bolivia, Plurinational State', 'Bolivia, Plurinational State Of',\n",
       "       'Canada', 'Canary Islands, Spain (La Palma)', 'Coimbra, Portugal',\n",
       "       'Cordoba, Argentina', 'France', 'Greece', 'Israel',\n",
       "       'La Vega Province, Dominican Republic', 'Lebanon and Syria',\n",
       "       'Montenegro', 'New South Wales, Australia', 'Panama', 'Paraguay',\n",
       "       'San Pedro, Paraguay', 'Torres del Paine, Chile', 'Tunisia',\n",
       "       'United States: Southern California',\n",
       "       'Valparaiso and Vina del Mar, Chile', 'Valparaiso, Chile',\n",
       "       'Congo, The Democratic Republic Of The', 'Acre, Brazil', 'Albania',\n",
       "       'Angola', 'Argentina, Simoca and Concepcion, Tucuman',\n",
       "       'Arles, France', 'Armenia', 'Assam State, India', 'Austria',\n",
       "       'Bay of Bengal, Bangladesh', 'Benin, Western Africa',\n",
       "       'Bolivia-Paraguay-Argentina', 'Brazil',\n",
       "       'Brazil - Belo Horizonte e Campos dos Goitacazes',\n",
       "       'Brazil, Rio de Janeiro', 'British Columbia (Vancouver), Canada',\n",
       "       'British Columbia, Canada', 'British Virgin Islands',\n",
       "       'Bujumbura, Burundi', 'Bulgaria',\n",
       "       'Cagayan de Oro, Mindanao Island,  Philippines', 'Cambodia',\n",
       "       'Cameroon', 'Central African Republic', 'Central Argentina',\n",
       "       'Central Europe', 'Central Midwest, USA', 'Chad',\n",
       "       'Chanthaburi Province, Thailand',\n",
       "       'China Fuyang, Huainan, Anhui Province; Hubei Province; Henan Province.',\n",
       "       'China; Chongqing, Hechuan, Mingliang in Sichuan Province',\n",
       "       'Chiriqui Province, Republic of Panama',\n",
       "       'Choele-Choel City and Neuquen City, Argentina',\n",
       "       'City of Krymsk, Krasnodar, Russia',\n",
       "       'Colorado, United States of America', 'Cotonou, Benin Republic',\n",
       "       'Cuvelai, Northern Namibia', 'Czech Republic',\n",
       "       'Czech Republic, Znojmo (South Moravia)', 'Dadaab, Northern Kenya',\n",
       "       'Dakar, Senegal', \"Democratic People's Republic of Korea\",\n",
       "       'Djibouti', 'East coast of England, United Kingdom',\n",
       "       'Eastern Namibia, Zambezi river, Caprivi region',\n",
       "       'El Tarf, Algeria', 'Elbe region of Germany',\n",
       "       'England (Gloucestershire, Herefordshire)', 'England and Wales',\n",
       "       'England, United Kingdom', 'Ethiopia',\n",
       "       'Far Eastern Federal District, Russian Federation',\n",
       "       'France - Departments 34 and 30', 'France and Luxembourg',\n",
       "       'Fraser River, BC (Hope B.C. - Vancouver B.C.)', 'Gambia',\n",
       "       'Gard department, France, near Alès and Nîmes', 'Gaza',\n",
       "       'Georgetown, Guyana', 'Georgia, USA', 'Germany (South and East)',\n",
       "       'Ghana', 'Gojyo-shi, Nara-pref, Japan', 'Guinea',\n",
       "       'Gulf Coast of USA', 'Guyana', 'Haiti and Dominican Republic',\n",
       "       'Honiara - Solomon Islands', 'Huancavelica, Peru', 'Hungary',\n",
       "       'India, states of Uttar Pradesh and Bihar', 'Indiana, USA', 'Iowa',\n",
       "       'Iran, Islamic Republic Of', 'Islamic Republic of Iran',\n",
       "       'Jakarta, Indonesia', 'Jammu and Kashmir State, India', 'Kenya',\n",
       "       'Kenya; Mandera, Garissa and Kwale', 'Korea, Republic Of',\n",
       "       'Krasnodar Region, Russia - Tuapse municipal district',\n",
       "       'Kyrgyzstan',\n",
       "       'La Paz City, Trinidad City and Titicaca Lake (Bolivia)',\n",
       "       \"Lao People's Democratic Republic\",\n",
       "       \"Laos People's Democratic Republic\",\n",
       "       'Lena River, Yakutia region, Eastern Siberia', 'Libya',\n",
       "       'Littoral, Argentina', 'Luxembourg', 'Maga, Mayo-Danay',\n",
       "       'Magdalena Medio and Mojana, Colombia', 'Mahe, Seychelles',\n",
       "       'Manila, Philippines', 'Manila, the Philippines',\n",
       "       'Manitoba, Canada', 'Marshall Islands',\n",
       "       'Meuse and Moselle Rivers, France',\n",
       "       'Micronesia, Federated States Of',\n",
       "       'Minxiang county, Gansu Province, China', 'Mongolia',\n",
       "       'Mozambique - Gaza / Maputo provinces',\n",
       "       'Municipalities of Guaranda, S.Pablo, Gamarra, Colombia',\n",
       "       'Myanmar', 'Namibia', 'Namibia, southern Angola',\n",
       "       'New Brunswick, Canada', 'Nias Island, Indonesia', 'Niger',\n",
       "       'Niger - Niamey, Dosso, Agadez', 'Nigeria', 'North Dakota, USA',\n",
       "       'North Korea', 'North region of Brazil', 'North western Slovenia',\n",
       "       'Northern / North-Eastern Romania and Ukraine', 'Northern India',\n",
       "       'Obrenovac, Serbia', 'Ouagadougou, Burkina Faso',\n",
       "       'Pakistan, Arabian Sea', 'Palestinian Territory of Gaza',\n",
       "       'Pasni, Pakistan', 'Punjab and Sindh Provinces, Pakistan',\n",
       "       'Puno, Peru', 'Quang Nam and Binh Dinh provinces in Vietnam',\n",
       "       'Queensland, Australie', 'Rio Grande do Sul - Brazil', 'Romania',\n",
       "       'Russia', 'Rwanda', 'Santa Catarina, Brazil',\n",
       "       'Sao Tome And Principe', 'Saône River, France', 'Senegal',\n",
       "       'Senegal and Mauritania',\n",
       "       'Senegal: Dakar, Touba, Darou Mousty, Fatick, Kaolack',\n",
       "       'Sierra Leone', 'Slovenia', 'Somalia', 'Somalia and Ethiopia',\n",
       "       'South Africa', 'South Sudan', 'South of France: Gard, Hérault',\n",
       "       'Southern England, United Kingdom',\n",
       "       'Southern part of Russian Federation between Black and Caspian sea (Caucasia)',\n",
       "       'Spain', 'Sudan', 'Sudan (Khartoum State)', 'Sumatra', 'Surinam',\n",
       "       'Sutley River, Himachal Pradesh, India', 'Switzerland',\n",
       "       'Tartagal, Argentina', 'The Danube River, Austria',\n",
       "       'The Elbe River, Germany', 'Timor-leste', 'Togo',\n",
       "       'Turks And Caicos Islands', 'USA', 'United Kingdom',\n",
       "       'Upper Nile state, South Sudan', 'Uruguay', 'Uttarakhand, India',\n",
       "       'Uttarkhand, India', 'Venezuela',\n",
       "       'Venezuela, Bolivarian Republic Of', 'Viet Nam', 'West Africa',\n",
       "       'West Africa / Nigeria (Adamawa and Taraba States)',\n",
       "       'West Africa / Nigeria (Bayelsa State)',\n",
       "       'West Africa / Nigeria (Lokoja)', 'Western Washington, USA',\n",
       "       'Wisconsin, USA', 'Yamaguchi and Shimane Prefecture, Japan',\n",
       "       'Zambia', 'Zambia, Zimbabwe, Mozambique', 'el-Bayadh, Algeria',\n",
       "       '毛里塔尼亚', 'Georgia', 'Italy', 'Izu Oshima, Japan',\n",
       "       'Khatlon Province, Tajikistan', 'Log pod Mangartom, Slovenia',\n",
       "       'North Ossetia', 'Plurinational State of Bolivia',\n",
       "       'Republic of Tajikistan', 'Sindhupalchowk district, Nepal',\n",
       "       'St Bernard, the Philippines', 'Uganda',\n",
       "       'Wenchuan County, Sichuan Province, China',\n",
       "       'Atlantic Ocean off the coast of Brazil', 'Baltic Sea, Denmark',\n",
       "       'England', 'Galicia, Spain', 'Gulf of Aden',\n",
       "       'Gulf of Mexico - USA', 'Mauritius', 'Norway (North Sea)',\n",
       "       'San Cristobal, Galapagos Islands, Ecuador', 'Trinidad And Tobago',\n",
       "       'Vung Tau, Vietnam', 'Ivano-Frankisvk region, Ukraine',\n",
       "       'Lac-Mégantic, Quebec, Canada',\n",
       "       'South-eastern United States (states of Kentucky, Tennessee, Alabama, Mississippi, Arkansas)',\n",
       "       'Indonesia and Thailand', 'Samoa Islands', 'Alotenango, Guatemala',\n",
       "       'Chile and Argentina', 'Comoros', 'Grenada', 'Iceland', 'Java',\n",
       "       'Los Lagos, Chile', 'Michimahuida volcano, southern Chile',\n",
       "       'Montserrat', 'Moquegua, Peru', 'Mount Etna, Sicily, Italy',\n",
       "       'Mount Kelud - Java, Indonesia',\n",
       "       'Mount Nyiragongo, Democratic Republic of Congo (DRC)',\n",
       "       'Mount Sinabung - Sumatra, Indonesia', 'Papua New Guinea',\n",
       "       'Pasto City, Colombia', 'Saint Vincent And The Grenadines',\n",
       "       'Soufriere Hills, Montserrat', 'Stromboli, Italy',\n",
       "       'The Democratic Republic of the Congo',\n",
       "       'Turrialba Volcano, Costa Rica', 'Villarica, Chile',\n",
       "       'Volcano Chaitén, Chile',\n",
       "       'Canary Islands, Spain (Gran Canaria and Tenerife)',\n",
       "       'Mount Japfu, India', 'Portugal', 'Var Region of France',\n",
       "       'Var region of Southern France'], dtype=object)"
      ]
     },
     "execution_count": 18,
     "metadata": {},
     "output_type": "execute_result"
    }
   ],
   "source": [
    "df_disaster_charter_consolidated['Country'].unique()"
   ]
  },
  {
   "cell_type": "code",
   "execution_count": 19,
   "metadata": {},
   "outputs": [
    {
     "data": {
      "text/plain": [
       "array(['2000/10/1', '2001/12/8', '2002/6/8', ..., '2023/8/9', '2000/8/30',\n",
       "       '2000/1/22'], dtype=object)"
      ]
     },
     "execution_count": 19,
     "metadata": {},
     "output_type": "execute_result"
    }
   ],
   "source": [
    "df_glide_consolidation['Date'].unique()"
   ]
  },
  {
   "cell_type": "code",
   "execution_count": 20,
   "metadata": {},
   "outputs": [
    {
     "data": {
      "text/plain": [
       "array(['2020-10-21', '2018-11-21', '2021-01-21', ..., '2022-05-22',\n",
       "       '2023-07-19', '2024-04-07'], dtype=object)"
      ]
     },
     "execution_count": 20,
     "metadata": {},
     "output_type": "execute_result"
    }
   ],
   "source": [
    "df_gdacs_consolidated['Date'].unique()"
   ]
  },
  {
   "cell_type": "code",
   "execution_count": 21,
   "metadata": {},
   "outputs": [
    {
     "data": {
      "text/plain": [
       "array(['2017-11-17', '2019-10-12', '2015-10-31', '2006-02-03',\n",
       "       '2018-02-18', '2020-05-08', '2004-04-23', '2014-03-11',\n",
       "       '2021-06-07', '2017-09-18', '2015-10-06', '2019-04-09',\n",
       "       '2009-05-27', '2019-10-11', '2020-05-18', '2023-11-05',\n",
       "       '2013-05-15', '2010-09-20', '2014-10-15', '2017-09-05',\n",
       "       '2017-09-19', '2024-04-11', '2005-10-05', '2023-07-31',\n",
       "       '2020-11-17', '2023-11-03', '2021-01-27', '2023-12-27',\n",
       "       '2016-04-19', '2012-12-18', '2016-02-19', '2019-12-31',\n",
       "       '2020-08-04', '2020-12-15', '2009-12-14', '2004-09-11',\n",
       "       '2008-10-15', '2015-05-15', '2010-05-30', '2014-07-19',\n",
       "       '2004-09-21', '2010-11-05', '2012-10-29', '2017-09-07',\n",
       "       '2023-11-19', '2008-08-30', '2022-12-10', '2014-10-12',\n",
       "       '2018-12-17', '2019-03-05', '2020-05-19', '2020-11-24',\n",
       "       '2023-06-13', '2021-06-04', '2012-12-03', '2008-08-29',\n",
       "       '2019-11-10', '2020-04-09', '2010-02-15', '2014-01-01',\n",
       "       '2005-09-02', '2008-09-01', '2007-03-23', '2010-03-18',\n",
       "       '2022-02-25', '2022-04-02', '2023-01-24', '2023-02-21',\n",
       "       '2023-10-03', '2024-03-29', '2013-02-23', '2012-02-13',\n",
       "       '2015-01-04', '2010-09-22', '2023-10-25', '2019-03-14',\n",
       "       '2019-04-25', '2021-01-22', '2022-01-25', '2022-03-13',\n",
       "       '2023-02-24', '2024-03-14', '2018-08-03', '2005-08-31',\n",
       "       '2007-09-04', '2003-04-24', '2013-10-12', '2021-03-10',\n",
       "       '2010-02-11', '2010-06-07', '2023-03-13', '2006-12-01',\n",
       "       '2009-09-28', '2009-10-02', '2010-10-20', '2018-09-18',\n",
       "       '2019-02-12', '2021-12-16', '2022-04-13', '2022-09-25',\n",
       "       '2022-10-29', '2024-11-17', '2012-12-05', '2011-02-02',\n",
       "       '2014-04-11', '2004-12-01', '2005-02-05', '2022-04-09',\n",
       "       '2012-12-15', '2023-02-27', '2023-10-23', '2020-08-25',\n",
       "       '2020-08-31', '2023-08-08', '2009-01-24', '2005-08-27',\n",
       "       '2005-01-14', '2008-07-23', '2020-02-12', '2009-08-10',\n",
       "       '2008-09-12', '2022-02-10', '2013-11-08', '2018-12-02',\n",
       "       '2020-09-04', '2024-08-03', '2017-08-24', '2017-09-06',\n",
       "       '2018-10-10', '2018-11-09', '2003-09-25', '2011-08-27',\n",
       "       '2012-11-01', '2015-03-12', '2020-03-04', '2023-03-03',\n",
       "       '2009-09-29', '2013-10-18', '2013-11-10', '2017-06-11',\n",
       "       '2020-10-28', '2007-10-03', '2012-12-16', '2010-03-17',\n",
       "       '2008-05-04', '2015-11-03', '2018-02-06', '2002-10-04',\n",
       "       '2007-08-21', '2019-03-16', '2015-11-05', '2007-04-03',\n",
       "       '2015-10-26', '2022-06-22', '2023-08-10', '2009-06-08',\n",
       "       '2004-02-24', '2003-05-22', '2006-03-21', '2008-11-03',\n",
       "       '2013-09-24', '2003-12-26', '2001-01-29', '2003-05-07',\n",
       "       '2013-10-15', '2004-05-18', '2007-04-26', '2007-11-22',\n",
       "       '2010-02-27', '2015-09-17', '2008-05-12', '2010-04-14',\n",
       "       '2015-04-25', '2017-08-09', '2021-05-22', '2021-09-16',\n",
       "       '2022-06-09', '2023-12-19', '2012-09-07', '2009-01-08',\n",
       "       '2011-01-19', '2016-04-17', '2001-01-15', '2001-02-14',\n",
       "       '2013-07-22', '2012-11-08', '2010-01-13', '2021-08-14',\n",
       "       '2002-03-27', '2002-03-28', '2004-04-07', '2005-10-08',\n",
       "       '2004-12-26', '2007-03-06', '2009-09-30', '2018-06-08',\n",
       "       '2018-09-29', '2019-09-30', '2021-01-15', '2022-11-22',\n",
       "       '2004-01-28', '2004-05-28', '2005-02-22', '2017-11-13',\n",
       "       '2017-12-11', '2011-03-11', '2016-04-14', '2024-02-01',\n",
       "       '2006-05-27', '2009-09-16', '2009-12-28', '2017-09-20',\n",
       "       '2023-09-09', '2023-04-11', '2011-02-22', '2012-08-15',\n",
       "       '2019-09-26', '2004-02-06', '2019-05-26', '2017-02-13',\n",
       "       '2019-01-11', '2020-08-19', '2022-07-27', '2023-11-18',\n",
       "       '2007-08-16', '2008-02-05', '2013-04-20', '2011-09-18',\n",
       "       '2010-01-05', '2017-11-15', '2023-06-02', '2016-02-06',\n",
       "       '2015-12-07', '2013-02-06', '2010-03-08', '2011-10-24',\n",
       "       '2014-08-03', '2014-10-09', '2021-07-12', '2022-06-06',\n",
       "       '2011-05-15', '2016-05-04', '2012-08-13', '2008-04-17',\n",
       "       '2009-08-30', '2020-09-28', '2024-09-21', '2009-02-12',\n",
       "       '2019-11-13', '2019-02-09', '2020-09-15', '2019-08-21',\n",
       "       '2024-07-09', '2003-08-07', '2009-08-05', '2023-10-02',\n",
       "       '2018-04-06', '2005-08-23', '2013-09-10', '2012-09-16',\n",
       "       '2003-09-02', '2007-08-29', '2009-08-23', '2018-07-24',\n",
       "       '2020-04-30', '2024-02-22', '2010-12-02', '2014-07-30',\n",
       "       '2019-10-16', '2011-04-12', '2017-07-25', '2013-10-17',\n",
       "       '2019-09-20', '2024-09-16', '2017-05-25', '2021-07-20',\n",
       "       '2022-08-23', '2024-02-07', '2007-08-27', '2019-05-04',\n",
       "       '2011-12-30', '2021-07-28', '2018-11-14', '2007-10-23',\n",
       "       '2015-03-14', '2014-04-14', '2021-04-01', '2023-08-05',\n",
       "       '2021-12-01', '2008-08-06', '2015-02-27', '2009-05-19',\n",
       "       '2014-04-29', '2024-05-13', '2010-01-07', '2008-10-04',\n",
       "       '2009-05-11', '2004-07-02', '2007-03-30', '2014-06-12',\n",
       "       '2015-08-12', '2015-12-28', '2016-04-07', '2018-03-02',\n",
       "       '2007-01-17', '2003-12-04', '2024-05-29', '2012-06-29',\n",
       "       '2011-01-03', '2016-09-26', '2006-04-07', '2014-08-22',\n",
       "       '2015-09-07', '2017-05-30', '2017-08-15', '2020-07-13',\n",
       "       '2022-06-17', '2024-05-28', '2024-06-25', '2024-08-27',\n",
       "       '2007-11-16', '2009-07-10', '2007-02-23', '2008-01-25',\n",
       "       '2010-01-26', '2014-02-12', '2015-02-25', '2018-08-02',\n",
       "       '2020-02-25', '2024-06-03', '2007-01-19', '2014-06-14',\n",
       "       '2015-06-11', '2019-01-13', '2020-01-23', '2021-12-30',\n",
       "       '2022-02-16', '2022-05-04', '2023-03-28', '2023-06-09',\n",
       "       '2024-02-29', '2024-04-30', '2012-01-07', '2011-01-14',\n",
       "       '2003-10-21', '2002-06-18', '2009-11-16', '2014-02-11',\n",
       "       '2005-06-09', '2011-12-19', '2011-10-12', '2013-10-21',\n",
       "       '2019-10-17', '2020-08-24', '2010-06-22', '2010-09-24',\n",
       "       '2017-05-06', '2019-04-19', '2022-09-23', '2024-09-24',\n",
       "       '2019-11-16', '2003-04-30', '2006-04-01', '2011-04-28',\n",
       "       '2012-10-10', '2022-10-20', '2024-08-26', '2013-07-25',\n",
       "       '2008-05-23', '2015-03-25', '2015-08-09', '2017-05-13',\n",
       "       '2021-06-02', '2023-06-28', '2005-06-22', '2010-06-21',\n",
       "       '2010-07-19', '2013-08-16', '2007-07-13', '2007-07-19',\n",
       "       '2014-08-18', '2006-07-27', '2012-07-10', '2010-11-19',\n",
       "       '2010-12-06', '2011-05-21', '2017-04-01', '2024-05-23',\n",
       "       '2024-11-14', '2013-09-13', '2010-10-12', '2009-02-27',\n",
       "       '2010-08-09', '2002-08-17', '2005-05-04', '2013-08-25',\n",
       "       '2007-08-17', '2018-05-20', '2003-11-27', '2007-10-30',\n",
       "       '2022-09-20', '2024-05-07', '2024-05-11', '2024-08-05',\n",
       "       '2013-12-04', '2004-03-31', '2008-02-26', '2012-03-10',\n",
       "       '2022-01-31', '2023-05-06', '2024-02-20', '2009-11-10',\n",
       "       '2011-10-19', '2020-02-06', '2012-02-26', '2007-07-24',\n",
       "       '2007-06-28', '2012-11-27', '2012-12-21', '2014-01-06',\n",
       "       '2023-11-02', '2005-05-06', '2006-08-16', '2006-11-03',\n",
       "       '2023-06-20', '2013-08-19', '2012-03-31', '2014-09-18',\n",
       "       '2006-10-04', '2012-06-24', '2022-09-08', '2002-09-09',\n",
       "       '2013-12-17', '2024-11-26', '2005-02-01', '2009-09-22',\n",
       "       '2013-06-02', '2011-10-28', '2023-10-14', '2011-09-04',\n",
       "       '2024-08-25', '2012-08-31', '2021-07-06', '2021-08-17',\n",
       "       '2004-05-26', '2008-10-27', '2022-09-19', '2014-04-05',\n",
       "       '2014-01-21', '2006-04-14', '2010-09-17', '2015-12-02',\n",
       "       '2018-08-16', '2019-07-17', '2020-07-15', '2020-07-22',\n",
       "       '2020-08-08', '2021-05-16', '2021-07-02', '2021-07-26',\n",
       "       '2022-07-14', '2023-07-10', '2023-07-13', '2024-03-09',\n",
       "       '2007-08-06', '2008-06-10', '2009-03-11', '2006-12-27',\n",
       "       '2019-03-19', '2020-07-01', '2020-07-16', '2024-10-12',\n",
       "       '2024-12-05', '2008-06-12', '2019-03-31', '2018-11-25',\n",
       "       '2019-04-15', '2016-04-15', '2013-01-10', '2013-01-30',\n",
       "       '2015-03-30', '2011-07-30', '2018-07-07', '2019-08-29',\n",
       "       '2020-06-07', '2008-11-15', '2010-05-01', '2019-10-31',\n",
       "       '2006-11-17', '2024-07-18', '2012-08-22', '2024-07-25',\n",
       "       '2024-08-20', '2004-01-26', '2022-09-28', '2001-05-22',\n",
       "       '2023-12-09', '2024-06-02', '2013-06-28', '2021-07-15',\n",
       "       '2012-03-01', '2015-01-18', '2020-01-27', '2022-01-24',\n",
       "       '2012-09-06', '2008-12-11', '2013-02-01', '2015-01-08',\n",
       "       '2012-08-08', '2002-06-13', '2024-01-22', '2001-12-31',\n",
       "       '2007-11-02', '2020-06-11', '2024-09-28', '2021-08-12',\n",
       "       '2012-05-12', '2024-03-15', '2002-11-28', '2009-02-09',\n",
       "       '2024-09-13', '2007-02-08', '2011-01-29', '2023-02-16',\n",
       "       '2013-01-21', '2004-12-03', '2010-06-17', '2010-10-22',\n",
       "       '2013-08-02', '2015-08-05', '2024-12-09', '2009-03-20',\n",
       "       '2011-04-01', '2008-03-14', '2020-08-07', '2024-08-07',\n",
       "       '2024-08-17', '2024-09-29', '2008-04-30', '2001-08-01',\n",
       "       '2020-09-21', '2012-08-28', '2010-09-09', '2011-08-29',\n",
       "       '2022-09-15', '2024-11-09', '2009-03-25', '2007-09-21',\n",
       "       '2014-03-21', '2007-09-19', '2008-07-28', '2014-05-21',\n",
       "       '2013-11-22', '2009-09-03', '2006-08-11', '2010-05-12',\n",
       "       '2010-08-01', '2012-09-18', '2014-09-12', '2022-08-30',\n",
       "       '2007-07-02', '2010-01-21', '2010-12-09', '2020-09-11',\n",
       "       '2012-04-30', '2019-05-17', '2005-02-11', '2009-03-26',\n",
       "       '2010-01-28', '2020-02-11', '2020-11-15', '2024-10-23',\n",
       "       '2013-08-22', '2012-02-21', '2007-11-15', '2015-02-20',\n",
       "       '2014-07-04', '2005-05-31', '2005-07-15', '2006-04-18',\n",
       "       '2019-06-27', '2018-04-04', '2018-10-25', '2019-07-24',\n",
       "       '2019-08-15', '2021-04-08', '2021-04-14', '2021-05-21',\n",
       "       '2021-06-21', '2021-07-05', '2021-08-13', '2021-12-04',\n",
       "       '2021-12-05', '2022-08-08', '2023-08-14', '2024-04-04',\n",
       "       '2024-05-17', '2023-04-05', '2008-11-27', '2022-01-20',\n",
       "       '2001-03-22', '2009-09-02', '2012-08-27', '2006-11-13',\n",
       "       '2018-07-05', '2020-04-28', '2021-03-05', '2023-05-24',\n",
       "       '2023-10-11', '2023-03-27', '2022-05-24', '2022-12-09',\n",
       "       '2023-09-27', '2020-08-14', '2022-02-09', '2023-07-16',\n",
       "       '2010-09-14', '2005-09-06', '2014-02-06', '2002-06-28',\n",
       "       '2024-01-11', '2006-11-02', '2008-11-26', '2014-12-29',\n",
       "       '2018-05-21', '2021-05-06', '2021-12-11', '2024-02-12',\n",
       "       '2024-03-06', '2024-11-27', '2024-12-10', '2004-08-11',\n",
       "       '2006-08-25', '2014-08-05', '2019-08-26', '2020-07-09',\n",
       "       '2020-08-13', '2021-09-09', '2022-08-21', '2024-08-28',\n",
       "       '2013-08-06', '2024-05-14', '2006-05-10', '2005-06-27',\n",
       "       '2005-08-25', '2009-02-10', '2010-10-30', '2011-10-17',\n",
       "       '2021-09-28', '2022-10-19', '2002-08-20', '2002-08-22',\n",
       "       '2014-12-04', '2021-07-04', '2008-07-31', '2020-12-10',\n",
       "       '2021-06-09', '2009-09-10', '2015-08-26', '2022-11-18',\n",
       "       '2023-06-10', '2007-04-17', '2008-03-20', '2016-08-13',\n",
       "       '2024-09-10', '2016-01-03', '2016-03-11', '2012-09-24',\n",
       "       '2007-05-08', '2009-11-26', '2013-06-19', '2012-09-15',\n",
       "       '2010-12-01', '2018-08-15', '2022-10-10', '2024-10-09',\n",
       "       '2008-08-15', '2008-11-05', '2009-07-06', '2010-10-07',\n",
       "       '2013-10-19', '2014-07-18', '2015-07-30', '2017-08-07',\n",
       "       '2020-10-15', '2007-08-07', '2007-09-14', '2012-08-29',\n",
       "       '2012-09-25', '2009-01-09', '2013-07-29', '2008-10-28',\n",
       "       '2020-01-22', '2020-06-03', '2023-01-30', '2008-01-10',\n",
       "       '2014-02-07', '2011-10-05', '2009-09-07', '2007-04-19',\n",
       "       '2019-01-05', '2019-01-25', '2022-05-30', '2023-02-20',\n",
       "       '2010-08-18', '2017-06-24', '2015-05-20', '2023-01-16',\n",
       "       '2024-07-29', '2023-04-08', '2015-10-07', '2018-08-21',\n",
       "       '2014-12-15', '2023-07-03', '2002-05-06', '2013-10-16',\n",
       "       '2019-11-25', '2014-04-15', '2000-11-27', '2020-01-12',\n",
       "       '2020-03-07', '2002-09-27', '2003-12-21', '2019-08-02',\n",
       "       '2009-05-14', '2011-07-28', '2023-07-20', '2014-10-30',\n",
       "       '2006-02-17', '2011-02-14', '2010-03-03', '2018-12-10',\n",
       "       '2023-08-16', '2010-08-14', '2017-04-26', '2020-12-28',\n",
       "       '2009-10-05', '2001-03-30', '2006-10-05', '2007-06-01',\n",
       "       '2007-01-22', '2002-11-14', '2022-04-06', '2023-12-18',\n",
       "       '2002-10-08', '2010-04-22', '2006-07-30', '2022-12-20',\n",
       "       '2007-12-12', '2006-08-22', '2023-02-03', '2020-04-06',\n",
       "       '2024-10-16', '2001-01-26', '2021-04-06', '2024-10-02',\n",
       "       '2020-02-03', '2024-02-28', '2023-05-17', '2010-02-25',\n",
       "       '2021-11-24', '2024-07-04', '2010-01-04', '2014-02-10',\n",
       "       '2013-07-08', '2008-02-08', '2021-05-25', '2021-02-22',\n",
       "       '2014-04-02', '2010-10-28', '2018-12-23', '2004-12-27',\n",
       "       '2012-05-21', '2009-04-07', '2011-10-27', '2011-06-07',\n",
       "       '2013-05-27', '2007-02-19', '2007-04-20', '2009-10-23',\n",
       "       '2005-12-01', '2008-01-22', '2022-07-01', '2015-07-24',\n",
       "       '2018-05-06', '2010-04-20', '2010-11-03', '2020-10-11',\n",
       "       '2022-05-12', '2023-05-12', '2024-04-19', '2024-07-11',\n",
       "       '2006-04-25', '2015-04-23', '2008-05-02', '2008-07-29',\n",
       "       '2013-09-19', '2001-07-26', '2014-02-13', '2002-01-21',\n",
       "       '2013-11-05', '2014-01-07', '2018-01-22', '2004-08-25',\n",
       "       '2019-07-20', '2018-01-16', '2020-01-13', '2022-06-13',\n",
       "       '2021-09-04', '2003-07-18', '2003-04-09', '2021-05-23',\n",
       "       '2022-01-15', '2015-03-03', '2009-02-24', '2023-07-24',\n",
       "       '2017-01-05', '2004-09-16', '2007-08-02', '2008-03-06',\n",
       "       '2017-01-24', '2024-03-02', '2014-02-05', '2003-08-04',\n",
       "       '2015-08-13', '2017-06-12', '2003-07-19', '2005-07-05',\n",
       "       '2023-02-17', '2023-07-21', '2024-07-30', '2024-05-30'],\n",
       "      dtype=object)"
      ]
     },
     "execution_count": 21,
     "metadata": {},
     "output_type": "execute_result"
    }
   ],
   "source": [
    "df_disaster_charter_consolidated['Date'].unique()"
   ]
  },
  {
   "cell_type": "code",
   "execution_count": 14,
   "metadata": {},
   "outputs": [
    {
     "data": {
      "text/plain": [
       "Index(['event_id', 'event_type', 'event_name', 'from_date', 'to_date',\n",
       "       'alert_level', 'countries', 'iso3', 'location', 'population',\n",
       "       'severity', 'alert_score', 'bbox', 'coordinates', 'year'],\n",
       "      dtype='object')"
      ]
     },
     "execution_count": 14,
     "metadata": {},
     "output_type": "execute_result"
    }
   ],
   "source": [
    "import pandas as pd\n",
    "df_gdacs = pd.read_csv('/home/evangelos/src/disaster-impact/data/gdacs_all_types_yearly_v3_fast/combined_gdacs_data.csv')\n",
    "df_gdacs.columns\n"
   ]
  },
  {
   "cell_type": "code",
   "execution_count": 19,
   "metadata": {},
   "outputs": [
    {
     "data": {
      "text/plain": [
       "event_id                                      33725\n",
       "event_type                                       EQ\n",
       "event_name                       Earthquake in Iran\n",
       "from_date                       2008-01-19T21:41:33\n",
       "to_date                         2008-01-19T21:41:33\n",
       "alert_level                                   Green\n",
       "countries                                       NaN\n",
       "iso3                                            NaN\n",
       "location                                         []\n",
       "population                                      NaN\n",
       "severity                                        4.4\n",
       "alert_score                                       1\n",
       "bbox           [57.3757, 33.3356, 57.3757, 33.3356]\n",
       "coordinates                      [57.3757, 33.3356]\n",
       "year                                           2008\n",
       "Name: 1, dtype: object"
      ]
     },
     "execution_count": 19,
     "metadata": {},
     "output_type": "execute_result"
    }
   ],
   "source": [
    "df_gdacs.head().iloc[1]"
   ]
  },
  {
   "cell_type": "code",
   "execution_count": 26,
   "metadata": {},
   "outputs": [
    {
     "data": {
      "text/plain": [
       "Event_ID                                                        NaN\n",
       "Source_Event_IDs                                        ['1012536']\n",
       "Event_Name             Drought in Afghanistan, Pakistan, Tajikistan\n",
       "Event_Type                                                       DR\n",
       "Country                           Afghanistan, Pakistan, Tajikistan\n",
       "Country_Code                                          AFG, PAK, TJK\n",
       "Location                  ['Afghanistan', 'Pakistan', 'Tajikistan']\n",
       "Latitude                                                   [36.251]\n",
       "Longitude                                                  [72.755]\n",
       "Date                                                     2018-08-21\n",
       "Year                                                           2018\n",
       "Month                                                             8\n",
       "Day                                                              21\n",
       "Time                                                       00:00:00\n",
       "Severity                                                ['39891.0']\n",
       "Population_Affected                                             NaN\n",
       "Fatalities                                                      NaN\n",
       "People_Displaced                                                NaN\n",
       "Financial_Loss                                                  NaN\n",
       "Alert_Level                                              ['Orange']\n",
       "Source                                                           []\n",
       "Comments                                                         []\n",
       "External_Links                                                   []\n",
       "Name: 9389, dtype: object"
      ]
     },
     "execution_count": 26,
     "metadata": {},
     "output_type": "execute_result"
    }
   ],
   "source": [
    "df_gdacs_standard = pd.read_csv('/home/evangelos/src/disaster-impact/data_mid/gdacs_v3/gdacs_standardized_phase1.csv')\n",
    "df_gdacs_standard.iloc[9389]"
   ]
  },
  {
   "cell_type": "code",
   "execution_count": 27,
   "metadata": {},
   "outputs": [
    {
     "data": {
      "text/plain": [
       "Event_ID                                                             NaN\n",
       "Source_Event_IDs                                             ['1012558']\n",
       "Event_Name             Drought in Afghanistan, Iran, Pakistan, Tajiki...\n",
       "Event_Type                                                            DR\n",
       "Country                                Afghanistan, Pakistan, Tajikistan\n",
       "Country_Code                                               AFG, PAK, TJK\n",
       "Location                       ['Afghanistan', 'Pakistan', 'Tajikistan']\n",
       "Latitude                                                          [34.5]\n",
       "Longitude                                                         [63.5]\n",
       "Date                                                          2018-08-21\n",
       "Year                                                                2018\n",
       "Month                                                                  8\n",
       "Day                                                                   21\n",
       "Time                                                            00:00:00\n",
       "Severity                                                    ['113210.0']\n",
       "Population_Affected                                                  NaN\n",
       "Fatalities                                                           NaN\n",
       "People_Displaced                                                     NaN\n",
       "Financial_Loss                                                       NaN\n",
       "Alert_Level                                                      ['Red']\n",
       "Source                                                                []\n",
       "Comments                                                              []\n",
       "External_Links                                                        []\n",
       "Name: 9392, dtype: object"
      ]
     },
     "execution_count": 27,
     "metadata": {},
     "output_type": "execute_result"
    }
   ],
   "source": [
    "df_gdacs_standard.iloc[9392]"
   ]
  },
  {
   "cell_type": "code",
   "execution_count": 34,
   "metadata": {},
   "outputs": [
    {
     "data": {
      "text/plain": [
       "Event_ID                           223a601ee5bdd144600257998e7af6ab\n",
       "Source_Event_IDs                             ['1012536', '1012558']\n",
       "Event_Name             Drought in Afghanistan, Pakistan, Tajikistan\n",
       "Event_Type                                                       DR\n",
       "Country                           Afghanistan, Pakistan, Tajikistan\n",
       "Country_Code                                          AFG, PAK, TJK\n",
       "Location                  ['Afghanistan', 'Pakistan', 'Tajikistan']\n",
       "Latitude                                             [36.251, 34.5]\n",
       "Longitude                                            [72.755, 63.5]\n",
       "Date                                                     2018-08-21\n",
       "Year                                                           2018\n",
       "Month                                                             8\n",
       "Day                                                              21\n",
       "Time                                                       00:00:00\n",
       "Severity                                    ['39891.0', '113210.0']\n",
       "Population_Affected                                             NaN\n",
       "Fatalities                                                      NaN\n",
       "People_Displaced                                                NaN\n",
       "Financial_Loss                                                  NaN\n",
       "Alert_Level                                       ['Orange', 'Red']\n",
       "Source                                                           []\n",
       "Comments                                                         []\n",
       "External_Links                                                   []\n",
       "Name: 3, dtype: object"
      ]
     },
     "execution_count": 34,
     "metadata": {},
     "output_type": "execute_result"
    }
   ],
   "source": [
    "df_gdacs_consolidated.head().iloc[3]"
   ]
  },
  {
   "cell_type": "code",
   "execution_count": 32,
   "metadata": {},
   "outputs": [],
   "source": [
    "df_gdacs_consolidated = pd.read_csv('/home/evangelos/src/disaster-impact/data_out/gdacs/gdacs_consolidated_extend.csv')"
   ]
  },
  {
   "cell_type": "code",
   "execution_count": 33,
   "metadata": {},
   "outputs": [
    {
     "data": {
      "text/plain": [
       "Event_ID                     e3a47a70ba67c289eb667c3a7b54e986\n",
       "Source_Event_IDs                                  ['1012810']\n",
       "Event_Name             Drought in Afghanistan, Iran, Pakistan\n",
       "Event_Type                                                 DR\n",
       "Country                                 Afghanistan, Pakistan\n",
       "Country_Code                                         AFG, PAK\n",
       "Location                          ['Afghanistan', 'Pakistan']\n",
       "Latitude                                             [30.864]\n",
       "Longitude                                            [62.876]\n",
       "Date                                               2018-11-21\n",
       "Year                                                     2018\n",
       "Month                                                      11\n",
       "Day                                                        21\n",
       "Time                                                 00:00:00\n",
       "Severity                                         ['116622.0']\n",
       "Population_Affected                                       NaN\n",
       "Fatalities                                                NaN\n",
       "People_Displaced                                          NaN\n",
       "Financial_Loss                                            NaN\n",
       "Alert_Level                                        ['Orange']\n",
       "Source                                                     []\n",
       "Comments                                                   []\n",
       "External_Links                                             []\n",
       "Name: 1, dtype: object"
      ]
     },
     "execution_count": 33,
     "metadata": {},
     "output_type": "execute_result"
    }
   ],
   "source": [
    "df_gdacs_consolidated.head().iloc[1]"
   ]
  },
  {
   "cell_type": "code",
   "execution_count": 24,
   "metadata": {},
   "outputs": [
    {
     "data": {
      "text/plain": [
       "Event_ID                           223a601ee5bdd144600257998e7af6ab\n",
       "Source_Event_IDs                             ['1012536', '1012558']\n",
       "Event_Name             Drought in Afghanistan, Pakistan, Tajikistan\n",
       "Event_Type                                                       DR\n",
       "Country                           Afghanistan, Pakistan, Tajikistan\n",
       "Country_Code                                          AFG, PAK, TJK\n",
       "Location                  ['Afghanistan', 'Pakistan', 'Tajikistan']\n",
       "Latitude                                             [34.5, 36.251]\n",
       "Longitude                                            [72.755, 63.5]\n",
       "Date                                                     2018-08-21\n",
       "Year                                                           2018\n",
       "Month                                                             8\n",
       "Day                                                              21\n",
       "Time                                                       00:00:00\n",
       "Severity                                    ['113210.0', '39891.0']\n",
       "Population_Affected                                             NaN\n",
       "Fatalities                                                      NaN\n",
       "People_Displaced                                                NaN\n",
       "Financial_Loss                                                  NaN\n",
       "Alert_Level                                       ['Orange', 'Red']\n",
       "Source                                                           []\n",
       "Comments                                                         []\n",
       "External_Links                                                   []\n",
       "Name: 3, dtype: object"
      ]
     },
     "execution_count": 24,
     "metadata": {},
     "output_type": "execute_result"
    }
   ],
   "source": [
    "df_gdacs_consolidated.head().iloc[3]"
   ]
  },
  {
   "cell_type": "code",
   "execution_count": 1,
   "metadata": {},
   "outputs": [
    {
     "name": "stdout",
     "output_type": "stream",
     "text": [
      "Excel file has been converted to CSV and saved at /home/evangelos/src/disaster-impact/data/emdat/emdat/public_emdat_custom_request_2024-11-28_cea79da6-3a0a-4ffe-aae1-8233b597b126.csv\n"
     ]
    }
   ],
   "source": [
    "import pandas as pd\n",
    "\n",
    "excel_file_path = '/home/evangelos/src/disaster-impact/data/emdat/emdat/public_emdat_custom_request_2024-11-28_cea79da6-3a0a-4ffe-aae1-8233b597b126.xlsx'\n",
    "df = pd.read_excel(excel_file_path)\n",
    "\n",
    "csv_file_path = excel_file_path.replace('.xlsx', '.csv')\n",
    "df.to_csv(csv_file_path, index=False)\n",
    "\n",
    "print(f\"Excel file has been converted to CSV and saved at {csv_file_path}\")"
   ]
  },
  {
   "cell_type": "code",
   "execution_count": 33,
   "metadata": {},
   "outputs": [
    {
     "name": "stdout",
     "output_type": "stream",
     "text": [
      "JSON data has been flattened and saved to CSV at /home/evangelos/src/disaster-impact/data/idmc_idu/idus_all_flattened.csv\n"
     ]
    }
   ],
   "source": [
    "import json\n",
    "import pandas as pd\n",
    "\n",
    "with open('/home/evangelos/src/disaster-impact/data/idmc_idu/idus_all.json', 'r') as file:\n",
    "    data = json.load(file)\n",
    "\n",
    "df = pd.json_normalize(data)\n",
    "\n",
    "csv_file_path = '/home/evangelos/src/disaster-impact/data/idmc_idu/idus_all_flattened.csv'\n",
    "df.to_csv(csv_file_path, index=False, quoting=1)\n",
    "\n",
    "print(f\"JSON data has been flattened and saved to CSV at {csv_file_path}\")\n"
   ]
  },
  {
   "cell_type": "code",
   "execution_count": 1,
   "metadata": {},
   "outputs": [
    {
     "name": "stdout",
     "output_type": "stream",
     "text": [
      "<class 'dict'>\n",
      "{'id': 169900, 'country': 'Sudan', 'iso3': 'SDN', 'latitude': 10.83265, 'longitude': 29.350719, 'centroid': '[10.83265, 29.350719]', 'role': 'Triangulation', 'displacement_type': 'Conflict', 'qualifier': 'approximately', 'figure': 6000, 'displacement_date': '2024-11-25', 'displacement_start_date': '2024-11-24', 'displacement_end_date': '2024-11-25', 'year': 2024, 'event_id': 20686, 'event_name': 'Sudan: Non-International armed conflict (NIAC) - Countrywide - 01/01/2024', 'event_codes': 'CE-2023-000066-SDN; MDRSD033', 'event_code_types': 'Glide Number; IFRC Appeal ID', 'event_start_date': '2024-01-01', 'event_end_date': '2024-12-31', 'category': None, 'subcategory': None, 'type': None, 'subtype': None, 'standard_popup_text': '<b> Sudan:            6,000 displacements, 24 November  - 25 November  </b> <br> According to IOM Displacement Tracking Matrix (IOM DTM), approximately 1200 households were displaced in Keilak due to non-international armed conflict (niac) on 24 November <br> <a href=\"https://mailchi.mp/iom/dtm-sudan-flash-alert-conflict-in-keilak-kharsana-west-kordofan-update-002?e=b699c75958\"target=\"_blank\">IOM Displacement Tracking Matrix (IOM DTM) - 26 November  2024</a>', 'standard_info_text': '<b> Sudan:            6,000 displacements, 24 November  - 25 November  </b>', 'old_id': None, 'sources': 'IOM Displacement Tracking Matrix (IOM DTM)', 'source_url': 'https://mailchi.mp/iom/dtm-sudan-flash-alert-conflict-in-keilak-kharsana-west-kordofan-update-002?e=b699c75958', 'locations_name': 'Keilak, Lagawa, West Kurdufan, Sudan', 'locations_coordinates': '10.83265, 29.350719', 'locations_accuracy': 'County/City/town/Village/Woreda (ADM3)', 'locations_type': 'Origin', 'displacement_occurred': 'Displacement without preventive evacuations reported', 'created_at': '2024-11-27T13:36:39.025390Z'}\n"
     ]
    }
   ],
   "source": [
    "import json\n",
    "import pandas as pd\n",
    "\n",
    "with open('/home/evangelos/src/disaster-impact/data/idmc_idu/idus_all.json', 'r') as file:\n",
    "    data = json.load(file)\n",
    "\n",
    "print(type(data[13]))\n",
    "print(data[13])"
   ]
  },
  {
   "cell_type": "code",
   "execution_count": 2,
   "metadata": {},
   "outputs": [
    {
     "name": "stdout",
     "output_type": "stream",
     "text": [
      "<class 'pandas.core.frame.DataFrame'>\n",
      "RangeIndex: 8314 entries, 0 to 8313\n",
      "Data columns (total 22 columns):\n",
      " #   Column        Non-Null Count  Dtype  \n",
      "---  ------        --------------  -----  \n",
      " 0   GLIDE_number  8314 non-null   object \n",
      " 1   Event         8314 non-null   object \n",
      " 2   Country       8314 non-null   object \n",
      " 3   Date_         8314 non-null   object \n",
      " 4   Event_Code    8314 non-null   object \n",
      " 5   Glide_Serial  8314 non-null   object \n",
      " 6   Country_Code  8314 non-null   object \n",
      " 7   Year          8314 non-null   int64  \n",
      " 8   Month         8314 non-null   int64  \n",
      " 9   Day           8314 non-null   int64  \n",
      " 10  Time          184 non-null    object \n",
      " 11  Location      4992 non-null   object \n",
      " 12  Duration      818 non-null    float64\n",
      " 13  Magnitude     1910 non-null   object \n",
      " 14  Source        5084 non-null   object \n",
      " 15  Comments      8020 non-null   object \n",
      " 16  Latitude      8313 non-null   float64\n",
      " 17  Longitude     8313 non-null   float64\n",
      " 18  Id            0 non-null      float64\n",
      " 19  Id_Source     0 non-null      float64\n",
      " 20  Created       6928 non-null   object \n",
      " 21  Updated       6627 non-null   object \n",
      "dtypes: float64(5), int64(3), object(14)\n",
      "memory usage: 1.4+ MB\n"
     ]
    }
   ],
   "source": [
    "import pandas as pd \n",
    "\n",
    "df_glide_raw = pd.read_csv('/home/evangelos/src/disaster-impact/data/glide/glide_data_combined_all.csv')\n",
    "\n",
    "df_glide_raw.info()"
   ]
  },
  {
   "cell_type": "code",
   "execution_count": 3,
   "metadata": {},
   "outputs": [
    {
     "data": {
      "text/plain": [
       "GLIDE_number                                   EP-2018-000040-COD\n",
       "Event                                                    Epidemic\n",
       "Country                                 Congo Democratic Republic\n",
       "Date_                                                   2018/2/13\n",
       "Event_Code                                                     EP\n",
       "Glide_Serial                                          2018-000040\n",
       "Country_Code                                                  COD\n",
       "Year                                                         2018\n",
       "Month                                                           2\n",
       "Day                                                            13\n",
       "Time                                                          NaN\n",
       "Location                                              Haut lomami\n",
       "Duration                                                      NaN\n",
       "Magnitude                                                     NaN\n",
       "Source                                                        NaN\n",
       "Comments        On 13 February 2018, the DRC Minister of Publi...\n",
       "Latitude                                                -7.705275\n",
       "Longitude                                               24.904221\n",
       "Id                                                            NaN\n",
       "Id_Source                                                     NaN\n",
       "Created                                                       NaN\n",
       "Updated                                                       NaN\n",
       "Name: 1700, dtype: object"
      ]
     },
     "execution_count": 3,
     "metadata": {},
     "output_type": "execute_result"
    }
   ],
   "source": [
    "df_glide_raw.iloc[1700]"
   ]
  },
  {
   "cell_type": "code",
   "execution_count": 4,
   "metadata": {},
   "outputs": [
    {
     "name": "stdout",
     "output_type": "stream",
     "text": [
      "<class 'pandas.core.frame.DataFrame'>\n",
      "RangeIndex: 42454 entries, 0 to 42453\n",
      "Data columns (total 15 columns):\n",
      " #   Column       Non-Null Count  Dtype  \n",
      "---  ------       --------------  -----  \n",
      " 0   event_id     42454 non-null  int64  \n",
      " 1   event_type   42454 non-null  object \n",
      " 2   event_name   42454 non-null  object \n",
      " 3   from_date    42454 non-null  object \n",
      " 4   to_date      42454 non-null  object \n",
      " 5   alert_level  42454 non-null  object \n",
      " 6   countries    34354 non-null  object \n",
      " 7   iso3         34354 non-null  object \n",
      " 8   location     42454 non-null  object \n",
      " 9   population   0 non-null      float64\n",
      " 10  severity     42454 non-null  float64\n",
      " 11  alert_score  42454 non-null  int64  \n",
      " 12  bbox         42454 non-null  object \n",
      " 13  coordinates  42454 non-null  object \n",
      " 14  year         42454 non-null  int64  \n",
      "dtypes: float64(2), int64(3), object(10)\n",
      "memory usage: 4.9+ MB\n"
     ]
    }
   ],
   "source": [
    "df_gdacs_raw = pd.read_csv('/home/evangelos/src/disaster-impact/data/gdacs_all_types_yearly_v3_fast/combined_gdacs_data.csv')\n",
    "\n",
    "df_gdacs_raw.info()"
   ]
  },
  {
   "cell_type": "code",
   "execution_count": 5,
   "metadata": {},
   "outputs": [
    {
     "data": {
      "text/plain": [
       "event_id                                      33726\n",
       "event_type                                       EQ\n",
       "event_name              Earthquake in United States\n",
       "from_date                       2008-01-19T23:13:05\n",
       "to_date                         2008-01-19T23:13:05\n",
       "alert_level                                   Green\n",
       "countries                             United States\n",
       "iso3                                            USA\n",
       "location                          ['United States']\n",
       "population                                      NaN\n",
       "severity                                        4.7\n",
       "alert_score                                       1\n",
       "bbox           [-122.759, 40.125, -122.759, 40.125]\n",
       "coordinates                      [-122.759, 40.125]\n",
       "year                                           2008\n",
       "Name: 0, dtype: object"
      ]
     },
     "execution_count": 5,
     "metadata": {},
     "output_type": "execute_result"
    }
   ],
   "source": [
    "df_gdacs_raw.iloc[0]"
   ]
  },
  {
   "cell_type": "code",
   "execution_count": 6,
   "metadata": {},
   "outputs": [
    {
     "name": "stdout",
     "output_type": "stream",
     "text": [
      "<class 'pandas.core.frame.DataFrame'>\n",
      "RangeIndex: 906 entries, 0 to 905\n",
      "Data columns (total 15 columns):\n",
      " #   Column              Non-Null Count  Dtype  \n",
      "---  ------              --------------  -----  \n",
      " 0   Year                906 non-null    int64  \n",
      " 1   Month               906 non-null    object \n",
      " 2   Date                906 non-null    object \n",
      " 3   Disaster            906 non-null    object \n",
      " 4   Formatted Date      906 non-null    object \n",
      " 5   Details Link        906 non-null    object \n",
      " 6   Type of Event       861 non-null    object \n",
      " 7   Location of Event   905 non-null    object \n",
      " 8   Date of Activation  905 non-null    object \n",
      " 9   Time of Activation  463 non-null    object \n",
      " 10  Timezone            463 non-null    object \n",
      " 11  Charter Requestor   905 non-null    object \n",
      " 12  Activation ID       405 non-null    float64\n",
      " 13  Project Management  881 non-null    object \n",
      " 14  Value Adding        122 non-null    object \n",
      "dtypes: float64(1), int64(1), object(13)\n",
      "memory usage: 106.3+ KB\n"
     ]
    }
   ],
   "source": [
    "df_disaster_charter_raw = pd.read_csv('/home/evangelos/src/disaster-impact/data/disaster-charter/disaster_activations_boosted_dec.csv')\n",
    "\n",
    "df_disaster_charter_raw.info()"
   ]
  },
  {
   "cell_type": "code",
   "execution_count": 7,
   "metadata": {},
   "outputs": [
    {
     "data": {
      "text/plain": [
       "Year                                                               2024\n",
       "Month                                                          December\n",
       "Date                                                         2024-12-10\n",
       "Disaster                                             Flood in Indonesia\n",
       "Formatted Date                                               10 Tuesday\n",
       "Details Link          https://disasterscharter.org/web/guest/activat...\n",
       "Type of Event                                                     Flood\n",
       "Location of Event                                             Indonesia\n",
       "Date of Activation                                           2024-12-10\n",
       "Time of Activation                                                17:46\n",
       "Timezone                                                      UTC+09:00\n",
       "Charter Requestor                                ADRC on behalf of BRIN\n",
       "Activation ID                                                     934.0\n",
       "Project Management    Agung Dwi Wijaya (National Research and Innova...\n",
       "Value Adding          Yenni Vetrita (National Research and Innovatio...\n",
       "Name: 0, dtype: object"
      ]
     },
     "execution_count": 7,
     "metadata": {},
     "output_type": "execute_result"
    }
   ],
   "source": [
    "df_disaster_charter_raw.iloc[0]"
   ]
  },
  {
   "cell_type": "code",
   "execution_count": 2,
   "metadata": {},
   "outputs": [
    {
     "name": "stdout",
     "output_type": "stream",
     "text": [
      "<class 'pandas.core.frame.DataFrame'>\n",
      "RangeIndex: 10200 entries, 0 to 10199\n",
      "Data columns (total 46 columns):\n",
      " #   Column                                     Non-Null Count  Dtype  \n",
      "---  ------                                     --------------  -----  \n",
      " 0   DisNo.                                     10200 non-null  object \n",
      " 1   Historic                                   10200 non-null  object \n",
      " 2   Classification Key                         10200 non-null  object \n",
      " 3   Disaster Group                             10200 non-null  object \n",
      " 4   Disaster Subgroup                          10200 non-null  object \n",
      " 5   Disaster Type                              10200 non-null  object \n",
      " 6   Disaster Subtype                           10200 non-null  object \n",
      " 7   External IDs                               2457 non-null   object \n",
      " 8   Event Name                                 2485 non-null   object \n",
      " 9   ISO                                        10200 non-null  object \n",
      " 10  Country                                    10200 non-null  object \n",
      " 11  Subregion                                  10200 non-null  object \n",
      " 12  Region                                     10200 non-null  object \n",
      " 13  Location                                   9809 non-null   object \n",
      " 14  Origin                                     3857 non-null   object \n",
      " 15  Associated Types                           3323 non-null   object \n",
      " 16  OFDA/BHA Response                          10200 non-null  object \n",
      " 17  Appeal                                     10200 non-null  object \n",
      " 18  Declaration                                10200 non-null  object \n",
      " 19  AID Contribution ('000 US$)                481 non-null    float64\n",
      " 20  Magnitude                                  3307 non-null   float64\n",
      " 21  Magnitude Scale                            9128 non-null   object \n",
      " 22  Latitude                                   1819 non-null   float64\n",
      " 23  Longitude                                  1819 non-null   float64\n",
      " 24  River Basin                                1201 non-null   object \n",
      " 25  Start Year                                 10200 non-null  int64  \n",
      " 26  Start Month                                10132 non-null  float64\n",
      " 27  Start Day                                  8698 non-null   float64\n",
      " 28  End Year                                   10200 non-null  int64  \n",
      " 29  End Month                                  10038 non-null  float64\n",
      " 30  End Day                                    8762 non-null   float64\n",
      " 31  Total Deaths                               7281 non-null   float64\n",
      " 32  No. Injured                                2870 non-null   float64\n",
      " 33  No. Affected                               6738 non-null   float64\n",
      " 34  No. Homeless                               1221 non-null   float64\n",
      " 35  Total Affected                             8247 non-null   float64\n",
      " 36  Reconstruction Costs ('000 US$)            31 non-null     float64\n",
      " 37  Reconstruction Costs, Adjusted ('000 US$)  31 non-null     float64\n",
      " 38  Insured Damage ('000 US$)                  705 non-null    float64\n",
      " 39  Insured Damage, Adjusted ('000 US$)        692 non-null    float64\n",
      " 40  Total Damage ('000 US$)                    3120 non-null   float64\n",
      " 41  Total Damage, Adjusted ('000 US$)          3076 non-null   float64\n",
      " 42  CPI                                        9889 non-null   float64\n",
      " 43  Admin Units                                8437 non-null   object \n",
      " 44  Entry Date                                 10200 non-null  object \n",
      " 45  Last Update                                10200 non-null  object \n",
      "dtypes: float64(20), int64(2), object(24)\n",
      "memory usage: 3.6+ MB\n"
     ]
    }
   ],
   "source": [
    "import pandas as pd\n",
    "df_emdat_raw = pd.read_csv('/home/evangelos/src/disaster-impact/data/emdat/emdat/public_emdat_custom_request_2024-11-28_cea79da6-3a0a-4ffe-aae1-8233b597b126.csv')\n",
    "\n",
    "df_emdat_raw.info()"
   ]
  },
  {
   "cell_type": "code",
   "execution_count": 3,
   "metadata": {},
   "outputs": [
    {
     "data": {
      "text/plain": [
       "DisNo.                                                                           1999-9388-DJI\n",
       "Historic                                                                                    No\n",
       "Classification Key                                                             nat-cli-dro-dro\n",
       "Disaster Group                                                                         Natural\n",
       "Disaster Subgroup                                                               Climatological\n",
       "Disaster Type                                                                          Drought\n",
       "Disaster Subtype                                                                       Drought\n",
       "External IDs                                                                               NaN\n",
       "Event Name                                                                                 NaN\n",
       "ISO                                                                                        DJI\n",
       "Country                                                                               Djibouti\n",
       "Subregion                                                                   Sub-Saharan Africa\n",
       "Region                                                                                  Africa\n",
       "Location                                     Ali Sabieh, Dikhil, Djibouti, Obock, Tadjourah...\n",
       "Origin                                                                                     NaN\n",
       "Associated Types                                                                           NaN\n",
       "OFDA/BHA Response                                                                          Yes\n",
       "Appeal                                                                                      No\n",
       "Declaration                                                                                 No\n",
       "AID Contribution ('000 US$)                                                             1556.0\n",
       "Magnitude                                                                                  NaN\n",
       "Magnitude Scale                                                                            Km2\n",
       "Latitude                                                                                   NaN\n",
       "Longitude                                                                                  NaN\n",
       "River Basin                                                                                NaN\n",
       "Start Year                                                                                2001\n",
       "Start Month                                                                                6.0\n",
       "Start Day                                                                                  NaN\n",
       "End Year                                                                                  2001\n",
       "End Month                                                                                  NaN\n",
       "End Day                                                                                    NaN\n",
       "Total Deaths                                                                               NaN\n",
       "No. Injured                                                                                NaN\n",
       "No. Affected                                                                          100000.0\n",
       "No. Homeless                                                                               NaN\n",
       "Total Affected                                                                        100000.0\n",
       "Reconstruction Costs ('000 US$)                                                            NaN\n",
       "Reconstruction Costs, Adjusted ('000 US$)                                                  NaN\n",
       "Insured Damage ('000 US$)                                                                  NaN\n",
       "Insured Damage, Adjusted ('000 US$)                                                        NaN\n",
       "Total Damage ('000 US$)                                                                    NaN\n",
       "Total Damage, Adjusted ('000 US$)                                                          NaN\n",
       "CPI                                                                                  58.111474\n",
       "Admin Units                                  [{\"adm1_code\":1093,\"adm1_name\":\"Ali Sabieh\"},{...\n",
       "Entry Date                                                                          2006-03-01\n",
       "Last Update                                                                         2023-09-25\n",
       "Name: 0, dtype: object"
      ]
     },
     "execution_count": 3,
     "metadata": {},
     "output_type": "execute_result"
    }
   ],
   "source": [
    "df_emdat_raw.iloc[0]"
   ]
  },
  {
   "cell_type": "code",
   "execution_count": 4,
   "metadata": {},
   "outputs": [
    {
     "data": {
      "text/plain": [
       "Source_Event_IDs                                       ['1999-9388-DJI']\n",
       "Event_Name                                                            []\n",
       "Event_Type                                                   ['Drought']\n",
       "Country                                                     ['Djibouti']\n",
       "Country_Code                                                     ['DJI']\n",
       "Location               ['Ali Sabieh, Dikhil, Djibouti, Obock, Tadjour...\n",
       "Latitude                                                              []\n",
       "Longitude                                                             []\n",
       "Date                                                                2001\n",
       "Year                                                                 NaN\n",
       "Month                                                                6.0\n",
       "Day                                                                  NaN\n",
       "Severity                                                              []\n",
       "Population_Affected                                             100000.0\n",
       "Fatalities                                                           NaN\n",
       "People_Displaced                                                     NaN\n",
       "Financial_Loss                                                       NaN\n",
       "AID_Contribution                                                  1556.0\n",
       "Admin_Units            ['[{\"adm1_code\":1093,\"adm1_name\":\"Ali Sabieh\"}...\n",
       "External_IDs                                                          []\n",
       "Name: 0, dtype: object"
      ]
     },
     "execution_count": 4,
     "metadata": {},
     "output_type": "execute_result"
    }
   ],
   "source": [
    "df_emdat_mid = pd.read_csv('/home/evangelos/src/disaster-impact/data_mid/emdat/cleaned_inspection/emdat_cleaned.csv')\n",
    "df_emdat_mid.iloc[0]"
   ]
  },
  {
   "cell_type": "code",
   "execution_count": 10,
   "metadata": {},
   "outputs": [
    {
     "name": "stdout",
     "output_type": "stream",
     "text": [
      "<class 'pandas.core.frame.DataFrame'>\n",
      "RangeIndex: 35116 entries, 0 to 35115\n",
      "Data columns (total 35 columns):\n",
      " #   Column                   Non-Null Count  Dtype  \n",
      "---  ------                   --------------  -----  \n",
      " 0   id                       35116 non-null  int64  \n",
      " 1   country                  35116 non-null  object \n",
      " 2   iso3                     35116 non-null  object \n",
      " 3   latitude                 35066 non-null  float64\n",
      " 4   longitude                35066 non-null  float64\n",
      " 5   centroid                 35066 non-null  object \n",
      " 6   role                     35116 non-null  object \n",
      " 7   displacement_type        35116 non-null  object \n",
      " 8   qualifier                35116 non-null  object \n",
      " 9   figure                   35116 non-null  int64  \n",
      " 10  displacement_date        35116 non-null  object \n",
      " 11  displacement_start_date  35116 non-null  object \n",
      " 12  displacement_end_date    35116 non-null  object \n",
      " 13  year                     35116 non-null  int64  \n",
      " 14  event_id                 35116 non-null  int64  \n",
      " 15  event_name               35116 non-null  object \n",
      " 16  event_codes              4464 non-null   object \n",
      " 17  event_code_types         4464 non-null   object \n",
      " 18  event_start_date         35116 non-null  object \n",
      " 19  event_end_date           35116 non-null  object \n",
      " 20  category                 21158 non-null  object \n",
      " 21  subcategory              21158 non-null  object \n",
      " 22  type                     21158 non-null  object \n",
      " 23  subtype                  21158 non-null  object \n",
      " 24  standard_popup_text      35116 non-null  object \n",
      " 25  standard_info_text       35116 non-null  object \n",
      " 26  old_id                   13262 non-null  float64\n",
      " 27  sources                  35037 non-null  object \n",
      " 28  source_url               35116 non-null  object \n",
      " 29  locations_name           35066 non-null  object \n",
      " 30  locations_coordinates    35066 non-null  object \n",
      " 31  locations_accuracy       35066 non-null  object \n",
      " 32  locations_type           35066 non-null  object \n",
      " 33  displacement_occurred    26589 non-null  object \n",
      " 34  created_at               35116 non-null  object \n",
      "dtypes: float64(3), int64(4), object(28)\n",
      "memory usage: 9.4+ MB\n"
     ]
    }
   ],
   "source": [
    "df_idmc_raw = pd.read_csv('/home/evangelos/src/disaster-impact/data/idmc_idu/idus_all_flattened.csv')\n",
    "\n",
    "df_idmc_raw.info()"
   ]
  },
  {
   "cell_type": "code",
   "execution_count": 11,
   "metadata": {},
   "outputs": [
    {
     "data": {
      "text/plain": [
       "id                                                                    169899\n",
       "country                                                              Ukraine\n",
       "iso3                                                                     UKR\n",
       "latitude                                                            47.96067\n",
       "longitude                                                          37.834438\n",
       "centroid                                               [47.96067, 37.834438]\n",
       "role                                                      Recommended figure\n",
       "displacement_type                                                   Conflict\n",
       "qualifier                                                              total\n",
       "figure                                                                   313\n",
       "displacement_date                                                 2024-11-27\n",
       "displacement_start_date                                           2024-11-27\n",
       "displacement_end_date                                             2024-11-27\n",
       "year                                                                    2024\n",
       "event_id                                                               22790\n",
       "event_name                 Ukraine: International armed conflict (IAC) - ...\n",
       "event_codes                                                              NaN\n",
       "event_code_types                                                         NaN\n",
       "event_start_date                                                  2024-01-01\n",
       "event_end_date                                                    2024-12-31\n",
       "category                                                                 NaN\n",
       "subcategory                                                              NaN\n",
       "type                                                                     NaN\n",
       "subtype                                                                  NaN\n",
       "standard_popup_text        <b> Ukraine:              313 displacements (e...\n",
       "standard_info_text         <b> Ukraine:              313 displacements (e...\n",
       "old_id                                                                   NaN\n",
       "sources                                           National Police of Ukraine\n",
       "source_url                 https://www.npu.gov.ua/news/rosiiany-poranyly-...\n",
       "locations_name                                       Donetsk Oblast, Ukraine\n",
       "locations_coordinates                                    47.96067, 37.834438\n",
       "locations_accuracy                              State/Region/Province (ADM1)\n",
       "locations_type                                                        Origin\n",
       "displacement_occurred      Displacement without preventive evacuations re...\n",
       "created_at                                       2024-11-27T13:29:41.965583Z\n",
       "Name: 0, dtype: object"
      ]
     },
     "execution_count": 11,
     "metadata": {},
     "output_type": "execute_result"
    }
   ],
   "source": [
    "df_idmc_raw.iloc[0]"
   ]
  },
  {
   "cell_type": "code",
   "execution_count": 12,
   "metadata": {},
   "outputs": [
    {
     "name": "stdout",
     "output_type": "stream",
     "text": [
      "<class 'pandas.core.frame.DataFrame'>\n",
      "RangeIndex: 8012 entries, 0 to 8011\n",
      "Data columns (total 16 columns):\n",
      " #   Column                     Non-Null Count  Dtype  \n",
      "---  ------                     --------------  -----  \n",
      " 0   link_id                    8012 non-null   int64  \n",
      " 1   allocation_code            8012 non-null   object \n",
      " 2   allocation                 8012 non-null   object \n",
      " 3   emergency_type             8012 non-null   object \n",
      " 4   agency                     8012 non-null   object \n",
      " 5   country                    8012 non-null   object \n",
      " 6   project_code               8012 non-null   object \n",
      " 7   project_description        8012 non-null   object \n",
      " 8   window                     8012 non-null   object \n",
      " 9   sector                     8012 non-null   object \n",
      " 10  approved_amount            8012 non-null   int64  \n",
      " 11  approval_date              8011 non-null   object \n",
      " 12  disbursement_date          8005 non-null   object \n",
      " 13  groups_targeted            0 non-null      float64\n",
      " 14  number_of_people_targeted  0 non-null      float64\n",
      " 15  implementation_dates       0 non-null      float64\n",
      "dtypes: float64(3), int64(2), object(11)\n",
      "memory usage: 1001.6+ KB\n"
     ]
    }
   ],
   "source": [
    "df_cerf_raw = pd.read_csv('/home/evangelos/src/disaster-impact/data/cerf/cerf_emergency_data_dynamic_web_scrape.csv')\n",
    "\n",
    "df_cerf_raw.info()"
   ]
  },
  {
   "cell_type": "code",
   "execution_count": 13,
   "metadata": {},
   "outputs": [
    {
     "data": {
      "text/plain": [
       "link_id                                                                     16\n",
       "allocation_code                                                 06-RR-CAF-1057\n",
       "allocation                              06-RR-CAF-1057_CAR_Jun2016_Application\n",
       "emergency_type                                                    Displacement\n",
       "agency                           United Nations High Commissioner for Refugees\n",
       "country                                               Central African Republic\n",
       "project_code                                                        06-HCR-147\n",
       "project_description          Life-saving protection activities for the inte...\n",
       "window                                                          Rapid Response\n",
       "sector                                                            Multi-Sector\n",
       "approved_amount                                                         150000\n",
       "approval_date                                                       31/07/2006\n",
       "disbursement_date                                                   13/09/2006\n",
       "groups_targeted                                                            NaN\n",
       "number_of_people_targeted                                                  NaN\n",
       "implementation_dates                                                       NaN\n",
       "Name: 0, dtype: object"
      ]
     },
     "execution_count": 13,
     "metadata": {},
     "output_type": "execute_result"
    }
   ],
   "source": [
    "df_cerf_raw.iloc[0]"
   ]
  },
  {
   "cell_type": "code",
   "execution_count": 15,
   "metadata": {},
   "outputs": [
    {
     "name": "stdout",
     "output_type": "stream",
     "text": [
      "<class 'pandas.core.frame.DataFrame'>\n",
      "RangeIndex: 4225 entries, 0 to 4224\n",
      "Data columns (total 26 columns):\n",
      " #   Column                                      Non-Null Count  Dtype  \n",
      "---  ------                                      --------------  -----  \n",
      " 0   appeals.id                                  3379 non-null   object \n",
      " 1   auto_generated                              4225 non-null   bool   \n",
      " 2   countries.id                                3875 non-null   object \n",
      " 3   countries.iso                               3854 non-null   object \n",
      " 4   countries.iso3                              3870 non-null   object \n",
      " 5   countries.name                              3875 non-null   object \n",
      " 6   countries.society_name                      3874 non-null   object \n",
      " 7   created_at                                  4225 non-null   object \n",
      " 8   disaster_start_date                         4225 non-null   object \n",
      " 9   dtype.id                                    4225 non-null   int64  \n",
      " 10  dtype.name                                  4225 non-null   object \n",
      " 11  dtype.summary                               0 non-null      float64\n",
      " 12  dtype.translation_module_original_language  4225 non-null   object \n",
      " 13  field_reports.id                            1119 non-null   object \n",
      " 14  glide                                       68 non-null     object \n",
      " 15  id                                          4225 non-null   int64  \n",
      " 16  ifrc_severity_level                         4225 non-null   int64  \n",
      " 17  ifrc_severity_level_display                 4225 non-null   object \n",
      " 18  is_featured                                 4225 non-null   bool   \n",
      " 19  is_featured_region                          4225 non-null   bool   \n",
      " 20  name                                        4225 non-null   object \n",
      " 21  num_affected                                55 non-null     float64\n",
      " 22  parent_event                                0 non-null      float64\n",
      " 23  slug                                        3 non-null      object \n",
      " 24  summary                                     818 non-null    object \n",
      " 25  updated_at                                  4225 non-null   object \n",
      "dtypes: bool(3), float64(3), int64(3), object(17)\n",
      "memory usage: 771.7+ KB\n"
     ]
    }
   ],
   "source": [
    "df_ifrc_raw = pd.read_csv('/home/evangelos/src/disaster-impact/data/IFRC_eme/IFRC_emergencies.csv', on_bad_lines='skip')\n",
    "\n",
    "df_ifrc_raw.info()"
   ]
  },
  {
   "cell_type": "code",
   "execution_count": 16,
   "metadata": {},
   "outputs": [
    {
     "data": {
      "text/plain": [
       "appeals.id                                                                                  NaN\n",
       "auto_generated                                                                             True\n",
       "countries.id                                                                                111\n",
       "countries.iso                                                                                MY\n",
       "countries.iso3                                                                              MYS\n",
       "countries.name                                                                         Malaysia\n",
       "countries.society_name                                           Malaysian Red Crescent Society\n",
       "created_at                                                          2024-11-28T00:22:37.230120Z\n",
       "disaster_start_date                                                        2024-11-27T00:00:00Z\n",
       "dtype.id                                                                                     12\n",
       "dtype.name                                                                                Flood\n",
       "dtype.summary                                                                               NaN\n",
       "dtype.translation_module_original_language                                                   en\n",
       "field_reports.id                                                                          17392\n",
       "glide                                                                                       NaN\n",
       "id                                                                                         7249\n",
       "ifrc_severity_level                                                                           0\n",
       "ifrc_severity_level_display                                                              Yellow\n",
       "is_featured                                                                               False\n",
       "is_featured_region                                                                        False\n",
       "name                                          MYS: Flood - 11-2024 - East Coast Monsoon Floo...\n",
       "num_affected                                                                                NaN\n",
       "parent_event                                                                                NaN\n",
       "slug                                                                                        NaN\n",
       "summary                                       <p>The <span style=\"font-size: 10.5pt; font-fa...\n",
       "updated_at                                                          2024-11-28T00:22:37.230126Z\n",
       "Name: 0, dtype: object"
      ]
     },
     "execution_count": 16,
     "metadata": {},
     "output_type": "execute_result"
    }
   ],
   "source": [
    "df_ifrc_raw.iloc[0]"
   ]
  }
 ],
 "metadata": {
  "kernelspec": {
   "display_name": ".venv",
   "language": "python",
   "name": "python3"
  },
  "language_info": {
   "codemirror_mode": {
    "name": "ipython",
    "version": 3
   },
   "file_extension": ".py",
   "mimetype": "text/x-python",
   "name": "python",
   "nbconvert_exporter": "python",
   "pygments_lexer": "ipython3",
   "version": "3.10.12"
  }
 },
 "nbformat": 4,
 "nbformat_minor": 2
}
