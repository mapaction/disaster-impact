{
 "cells": [
  {
   "cell_type": "code",
   "execution_count": null,
   "metadata": {},
   "outputs": [],
   "source": [
    "import pandas as pd\n"
   ]
  },
  {
   "cell_type": "code",
   "execution_count": 14,
   "metadata": {},
   "outputs": [
    {
     "name": "stdout",
     "output_type": "stream",
     "text": [
      "         GLIDE Number        Event Type             Country  \\\n",
      "0  FL-2024-000217-THA             Flood            Thailand   \n",
      "1  FL-2024-000216-DOM             Flood  Dominican Republic   \n",
      "2  FL-2024-000215-CRI             Flood          Costa Rica   \n",
      "3  FL-2024-000214-COL             Flood            Colombia   \n",
      "4  TC-2024-000213-PHL  Tropical Cyclone         Philippines   \n",
      "\n",
      "                                            Comments  \n",
      "0  Continuous heavy rains brought by the northeas...  \n",
      "1  As of 14 November, rainfall models predict 60-...  \n",
      "2  On 7 November 2024, the National Meteorologica...  \n",
      "3  On 7 November 2024, the Government of the muni...  \n",
      "4  Super Typhoon Man-Yi, known locally as Pepito ...  \n"
     ]
    }
   ],
   "source": [
    "glide_events_df = pd.read_csv('/home/evangelos/src/disaster-impact/data/glide/glide_events_cleaned3.csv')\n",
    "print(glide_events_df.head())"
   ]
  },
  {
   "cell_type": "code",
   "execution_count": 16,
   "metadata": {},
   "outputs": [
    {
     "name": "stdout",
     "output_type": "stream",
     "text": [
      "   event_id event_type                event_name            from_date  \\\n",
      "0   1412131         EQ  Earthquake in Costa Rica  2024-01-25T23:50:41   \n",
      "1   1412122         EQ            Earthquake in   2024-01-25T23:01:02   \n",
      "2   1412120         EQ       Earthquake in China  2024-01-25T22:38:10   \n",
      "3   1412110         EQ   Earthquake in Guatemala  2024-01-25T22:08:04   \n",
      "4   1412111         EQ            Earthquake in   2024-01-25T22:01:05   \n",
      "\n",
      "               to_date alert_level         countries  population  severity  \\\n",
      "0  2024-01-25T23:50:41       Green  Costa Rica (CRI)         NaN       4.5   \n",
      "1  2024-01-25T23:01:02       Green               NaN         NaN       5.5   \n",
      "2  2024-01-25T22:38:10       Green       China (CHN)         NaN       4.7   \n",
      "3  2024-01-25T22:08:04       Green   Guatemala (GTM)         NaN       4.7   \n",
      "4  2024-01-25T22:01:05       Green               NaN         NaN       4.7   \n",
      "\n",
      "   alert_score  year  \n",
      "0            1  2024  \n",
      "1            1  2024  \n",
      "2            1  2024  \n",
      "3            1  2024  \n",
      "4            1  2024  \n"
     ]
    }
   ],
   "source": [
    "gdacs_events_df = pd.read_csv('/home/evangelos/src/disaster-impact/data/gdacs_all_types_yearly_v2_fast/gdacs_events_2024.csv')\n",
    "print(gdacs_events_df.head())"
   ]
  },
  {
   "cell_type": "code",
   "execution_count": 17,
   "metadata": {},
   "outputs": [
    {
     "name": "stdout",
     "output_type": "stream",
     "text": [
      "    FID            uid  radius_km  population     created_at  Shape__Are  \\\n",
      "0  5203  eq_us7000nsaz         15           0  1731871016000         NaN   \n",
      "1  5204  eq_us7000nsaz         30           0  1731871016000         NaN   \n",
      "2  5205  eq_us7000nsaz         50        7287  1731871016000         NaN   \n",
      "3  5206  eq_us7000nscj         15        2685  1731903062000         NaN   \n",
      "4  5207  eq_us7000nscj         30          24  1731903062000         NaN   \n",
      "\n",
      "   Shape__Len  Shape__Area  Shape__Length   x   y  \n",
      "0         NaN     0.057528       0.850587 NaN NaN  \n",
      "1         NaN     0.230111       1.701175 NaN NaN  \n",
      "2         NaN     0.639198       2.835294 NaN NaN  \n",
      "3         NaN     0.061217       0.878052 NaN NaN  \n",
      "4         NaN     0.244867       1.756105 NaN NaN  \n"
     ]
    }
   ],
   "source": [
    "adam_events_df = pd.read_csv('/home/evangelos/src/disaster-impact/data/adam_data/adam_eq_buffers.csv')\n",
    "print(adam_events_df.head())"
   ]
  }
 ],
 "metadata": {
  "kernelspec": {
   "display_name": ".venv",
   "language": "python",
   "name": "python3"
  },
  "language_info": {
   "codemirror_mode": {
    "name": "ipython",
    "version": 3
   },
   "file_extension": ".py",
   "mimetype": "text/x-python",
   "name": "python",
   "nbconvert_exporter": "python",
   "pygments_lexer": "ipython3",
   "version": "3.10.12"
  }
 },
 "nbformat": 4,
 "nbformat_minor": 2
}
