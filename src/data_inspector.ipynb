{
 "cells": [
  {
   "cell_type": "code",
   "execution_count": 1,
   "metadata": {},
   "outputs": [],
   "source": [
    "import pandas as pd\n"
   ]
  },
  {
   "cell_type": "code",
   "execution_count": 8,
   "metadata": {},
   "outputs": [
    {
     "name": "stdout",
     "output_type": "stream",
     "text": [
      "         GLIDE_number             Event             Country       Date_  \\\n",
      "0  TC-2024-000219-LKA  Tropical Cyclone           Sri Lanka  2024/11/23   \n",
      "1  FL-2024-000218-MYS             Flood            Malaysia  2024/11/25   \n",
      "2  FL-2024-000217-THA             Flood            Thailand  2024/11/26   \n",
      "3  FL-2024-000216-DOM             Flood  Dominican Republic  2024/11/14   \n",
      "4  FL-2024-000215-CRI             Flood          Costa Rica   2024/11/7   \n",
      "\n",
      "  Event_Code Glide_Serial Country_Code  Year  Month  Day  ... Duration  \\\n",
      "0         TC  2024-000219          LKA  2024     11   23  ...      5.0   \n",
      "1         FL  2024-000218          MYS  2024     11   25  ...    120.0   \n",
      "2         FL  2024-000217          THA  2024     11   26  ...      NaN   \n",
      "3         FL  2024-000216          DOM  2024     11   14  ...      NaN   \n",
      "4         FL  2024-000215          CRI  2024     11    7  ...      NaN   \n",
      "\n",
      "  Magnitude                                             Source  \\\n",
      "0       NaN  Sri Lanka Red Cross Society and Sri Lanka's Di...   \n",
      "1       NaN  Malaysian Red Crescent Society, Official Stati...   \n",
      "2       NaN                                         AHA Centre   \n",
      "3       NaN                                               IFRC   \n",
      "4       NaN                                               IFRC   \n",
      "\n",
      "                                            Comments   Latitude   Longitude  \\\n",
      "0  The deep depression in the Bay of Bengal condi...   8.311352   80.403651   \n",
      "1  The Northeast Monsoon (MTL) began in early Nov...   5.093634  102.989615   \n",
      "2  Continuous heavy rains brought by the northeas...   6.202025  101.252379   \n",
      "3  As of 14 November, rainfall models predict 60-...  18.735693  -70.162651   \n",
      "4  On 7 November 2024, the National Meteorologica...   9.748917  -83.753428   \n",
      "\n",
      "   Id  Id_Source     Created     Updated  \n",
      "0 NaN        NaN  2024-12-04  2024-12-04  \n",
      "1 NaN        NaN  2024-12-01  2024-12-01  \n",
      "2 NaN        NaN  2024-11-29  2024-11-29  \n",
      "3 NaN        NaN  2024-11-25  2024-11-25  \n",
      "4 NaN        NaN  2024-11-22  2024-11-22  \n",
      "\n",
      "[5 rows x 22 columns]\n"
     ]
    }
   ],
   "source": [
    "glide_events_df = pd.read_csv('/home/evangelos/src/disaster-impact/data/glide/glide_data_combined_all.csv')\n",
    "print(glide_events_df.head())\n",
    "#print(glide_events_df.columns)"
   ]
  },
  {
   "cell_type": "code",
   "execution_count": 3,
   "metadata": {},
   "outputs": [
    {
     "name": "stdout",
     "output_type": "stream",
     "text": [
      "Index(['event_id', 'event_type', 'event_name', 'from_date', 'to_date',\n",
      "       'alert_level', 'countries', 'population', 'severity', 'alert_score',\n",
      "       'year'],\n",
      "      dtype='object')\n"
     ]
    }
   ],
   "source": [
    "gdacs_events_df = pd.read_csv('/home/evangelos/src/disaster-impact/data/gdacs_all_types_yearly_v2_fast/combined_gdacs_data.csv')\n",
    "#print(gdacs_events_df.head())\n",
    "print(gdacs_events_df.columns)"
   ]
  },
  {
   "cell_type": "code",
   "execution_count": 4,
   "metadata": {},
   "outputs": [
    {
     "name": "stdout",
     "output_type": "stream",
     "text": [
      "Index(['FID', 'uid', 'radius_km', 'population', 'created_at', 'Shape__Are',\n",
      "       'Shape__Len', 'Shape__Area', 'Shape__Length', 'x', 'y'],\n",
      "      dtype='object')\n"
     ]
    }
   ],
   "source": [
    "adam_events_df = pd.read_csv('/home/evangelos/src/disaster-impact/data/adam_data/adam_eq_buffers.csv')\n",
    "#print(adam_events_df.head())\n",
    "print(adam_events_df.columns)"
   ]
  },
  {
   "cell_type": "code",
   "execution_count": 5,
   "metadata": {},
   "outputs": [
    {
     "name": "stdout",
     "output_type": "stream",
     "text": [
      "Index(['link_id', 'allocation_code', 'allocation', 'emergency_type', 'agency',\n",
      "       'country', 'project_code', 'project_description', 'window', 'sector',\n",
      "       'approved_amount', 'approval_date', 'disbursement_date',\n",
      "       'groups_targeted', 'number_of_people_targeted', 'implementation_dates'],\n",
      "      dtype='object')\n"
     ]
    }
   ],
   "source": [
    "cerf_events_df = pd.read_csv('/home/evangelos/src/disaster-impact/data/cerf/cerf_emergency_data_dynamic_web_scrape.csv')\n",
    "print(cerf_events_df.columns)"
   ]
  },
  {
   "cell_type": "code",
   "execution_count": 6,
   "metadata": {},
   "outputs": [
    {
     "name": "stdout",
     "output_type": "stream",
     "text": [
      "Index(['Year', 'Month', 'Date', 'Disaster', 'Formatted Date', 'Details Link',\n",
      "       'Type of Event', 'Location of Event', 'Date of Activation',\n",
      "       'Time of Activation', 'Timezone', 'Charter Requestor', 'Activation ID',\n",
      "       'Project Management', 'Value Adding'],\n",
      "      dtype='object')\n"
     ]
    }
   ],
   "source": [
    "disaster_charter_events_df = pd.read_csv('/home/evangelos/src/disaster-impact/data/disaster-charter/charter_activations_web_scrape_2000_2024.csv')\n",
    "print(disaster_charter_events_df.columns)"
   ]
  },
  {
   "cell_type": "code",
   "execution_count": null,
   "metadata": {},
   "outputs": [],
   "source": [
    "import pandas as pd\n",
    "data = pd.read_parquet('/home/evangelos/src/disaster-impact/data/adam_data/combined_adam_data.parquet')\n",
    "print(data.head())\n"
   ]
  },
  {
   "cell_type": "code",
   "execution_count": null,
   "metadata": {},
   "outputs": [],
   "source": [
    "import geopandas as gpd\n",
    "\n",
    "geoparquet_gpd = gpd.read_parquet('/home/evangelos/src/disaster-impact/data/adam_data/combined_adam_data.parquet')\n",
    "print(geoparquet_gpd.head())\n"
   ]
  },
  {
   "cell_type": "code",
   "execution_count": 7,
   "metadata": {},
   "outputs": [
    {
     "name": "stdout",
     "output_type": "stream",
     "text": [
      "Index(['GLIDE_number', 'Event', 'Country', 'Date_', 'Event_Code',\n",
      "       'Glide_Serial', 'Country_Code', 'Year', 'Month', 'Day', 'Time',\n",
      "       'Location', 'Duration', 'Magnitude', 'Source', 'Comments', 'Latitude',\n",
      "       'Longitude', 'Id', 'Id_Source', 'Created', 'Updated'],\n",
      "      dtype='object')\n",
      "Index(['event_id', 'event_type', 'event_name', 'from_date', 'to_date',\n",
      "       'alert_level', 'countries', 'population', 'severity', 'alert_score',\n",
      "       'year'],\n",
      "      dtype='object')\n",
      "Index(['FID', 'uid', 'radius_km', 'population', 'created_at', 'Shape__Are',\n",
      "       'Shape__Len', 'Shape__Area', 'Shape__Length', 'x', 'y'],\n",
      "      dtype='object')\n",
      "Index(['link_id', 'allocation_code', 'allocation', 'emergency_type', 'agency',\n",
      "       'country', 'project_code', 'project_description', 'window', 'sector',\n",
      "       'approved_amount', 'approval_date', 'disbursement_date',\n",
      "       'groups_targeted', 'number_of_people_targeted', 'implementation_dates'],\n",
      "      dtype='object')\n",
      "Index(['Year', 'Month', 'Date', 'Disaster', 'Formatted Date', 'Details Link',\n",
      "       'Type of Event', 'Location of Event', 'Date of Activation',\n",
      "       'Time of Activation', 'Timezone', 'Charter Requestor', 'Activation ID',\n",
      "       'Project Management', 'Value Adding'],\n",
      "      dtype='object')\n"
     ]
    }
   ],
   "source": [
    "print(glide_events_df.columns)\n",
    "print(gdacs_events_df.columns)\n",
    "print(adam_events_df.columns)\n",
    "print(cerf_events_df.columns)\n",
    "print(disaster_charter_events_df.columns)"
   ]
  }
 ],
 "metadata": {
  "kernelspec": {
   "display_name": ".venv",
   "language": "python",
   "name": "python3"
  },
  "language_info": {
   "codemirror_mode": {
    "name": "ipython",
    "version": 3
   },
   "file_extension": ".py",
   "mimetype": "text/x-python",
   "name": "python",
   "nbconvert_exporter": "python",
   "pygments_lexer": "ipython3",
   "version": "3.10.12"
  }
 },
 "nbformat": 4,
 "nbformat_minor": 2
}
