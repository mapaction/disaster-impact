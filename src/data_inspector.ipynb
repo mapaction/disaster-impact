{
 "cells": [
  {
   "cell_type": "code",
   "execution_count": 1,
   "metadata": {},
   "outputs": [],
   "source": [
    "import pandas as pd\n"
   ]
  },
  {
   "cell_type": "code",
   "execution_count": 8,
   "metadata": {},
   "outputs": [
    {
     "name": "stdout",
     "output_type": "stream",
     "text": [
      "         GLIDE_number             Event             Country       Date_  \\\n",
      "0  TC-2024-000219-LKA  Tropical Cyclone           Sri Lanka  2024/11/23   \n",
      "1  FL-2024-000218-MYS             Flood            Malaysia  2024/11/25   \n",
      "2  FL-2024-000217-THA             Flood            Thailand  2024/11/26   \n",
      "3  FL-2024-000216-DOM             Flood  Dominican Republic  2024/11/14   \n",
      "4  FL-2024-000215-CRI             Flood          Costa Rica   2024/11/7   \n",
      "\n",
      "  Event_Code Glide_Serial Country_Code  Year  Month  Day  ... Duration  \\\n",
      "0         TC  2024-000219          LKA  2024     11   23  ...      5.0   \n",
      "1         FL  2024-000218          MYS  2024     11   25  ...    120.0   \n",
      "2         FL  2024-000217          THA  2024     11   26  ...      NaN   \n",
      "3         FL  2024-000216          DOM  2024     11   14  ...      NaN   \n",
      "4         FL  2024-000215          CRI  2024     11    7  ...      NaN   \n",
      "\n",
      "  Magnitude                                             Source  \\\n",
      "0       NaN  Sri Lanka Red Cross Society and Sri Lanka's Di...   \n",
      "1       NaN  Malaysian Red Crescent Society, Official Stati...   \n",
      "2       NaN                                         AHA Centre   \n",
      "3       NaN                                               IFRC   \n",
      "4       NaN                                               IFRC   \n",
      "\n",
      "                                            Comments   Latitude   Longitude  \\\n",
      "0  The deep depression in the Bay of Bengal condi...   8.311352   80.403651   \n",
      "1  The Northeast Monsoon (MTL) began in early Nov...   5.093634  102.989615   \n",
      "2  Continuous heavy rains brought by the northeas...   6.202025  101.252379   \n",
      "3  As of 14 November, rainfall models predict 60-...  18.735693  -70.162651   \n",
      "4  On 7 November 2024, the National Meteorologica...   9.748917  -83.753428   \n",
      "\n",
      "   Id  Id_Source     Created     Updated  \n",
      "0 NaN        NaN  2024-12-04  2024-12-04  \n",
      "1 NaN        NaN  2024-12-01  2024-12-01  \n",
      "2 NaN        NaN  2024-11-29  2024-11-29  \n",
      "3 NaN        NaN  2024-11-25  2024-11-25  \n",
      "4 NaN        NaN  2024-11-22  2024-11-22  \n",
      "\n",
      "[5 rows x 22 columns]\n"
     ]
    }
   ],
   "source": [
    "glide_events_df = pd.read_csv('/home/evangelos/src/disaster-impact/data/glide/glide_data_combined_all.csv')\n",
    "print(glide_events_df.head())\n",
    "#print(glide_events_df.columns)"
   ]
  },
  {
   "cell_type": "code",
   "execution_count": 3,
   "metadata": {},
   "outputs": [
    {
     "name": "stdout",
     "output_type": "stream",
     "text": [
      "Index(['event_id', 'event_type', 'event_name', 'from_date', 'to_date',\n",
      "       'alert_level', 'countries', 'population', 'severity', 'alert_score',\n",
      "       'year'],\n",
      "      dtype='object')\n"
     ]
    }
   ],
   "source": [
    "gdacs_events_df = pd.read_csv('/home/evangelos/src/disaster-impact/data/gdacs_all_types_yearly_v2_fast/combined_gdacs_data.csv')\n",
    "#print(gdacs_events_df.head())\n",
    "print(gdacs_events_df.columns)"
   ]
  },
  {
   "cell_type": "code",
   "execution_count": 4,
   "metadata": {},
   "outputs": [
    {
     "name": "stdout",
     "output_type": "stream",
     "text": [
      "Index(['FID', 'uid', 'radius_km', 'population', 'created_at', 'Shape__Are',\n",
      "       'Shape__Len', 'Shape__Area', 'Shape__Length', 'x', 'y'],\n",
      "      dtype='object')\n"
     ]
    }
   ],
   "source": [
    "adam_events_df = pd.read_csv('/home/evangelos/src/disaster-impact/data/adam_data/adam_eq_buffers.csv')\n",
    "#print(adam_events_df.head())\n",
    "print(adam_events_df.columns)"
   ]
  },
  {
   "cell_type": "code",
   "execution_count": 5,
   "metadata": {},
   "outputs": [
    {
     "name": "stdout",
     "output_type": "stream",
     "text": [
      "Index(['link_id', 'allocation_code', 'allocation', 'emergency_type', 'agency',\n",
      "       'country', 'project_code', 'project_description', 'window', 'sector',\n",
      "       'approved_amount', 'approval_date', 'disbursement_date',\n",
      "       'groups_targeted', 'number_of_people_targeted', 'implementation_dates'],\n",
      "      dtype='object')\n"
     ]
    }
   ],
   "source": [
    "cerf_events_df = pd.read_csv('/home/evangelos/src/disaster-impact/data/cerf/cerf_emergency_data_dynamic_web_scrape.csv')\n",
    "print(cerf_events_df.columns)"
   ]
  },
  {
   "cell_type": "code",
   "execution_count": 6,
   "metadata": {},
   "outputs": [
    {
     "name": "stdout",
     "output_type": "stream",
     "text": [
      "Index(['Year', 'Month', 'Date', 'Disaster', 'Formatted Date', 'Details Link',\n",
      "       'Type of Event', 'Location of Event', 'Date of Activation',\n",
      "       'Time of Activation', 'Timezone', 'Charter Requestor', 'Activation ID',\n",
      "       'Project Management', 'Value Adding'],\n",
      "      dtype='object')\n"
     ]
    }
   ],
   "source": [
    "disaster_charter_events_df = pd.read_csv('/home/evangelos/src/disaster-impact/data/disaster-charter/charter_activations_web_scrape_2000_2024.csv')\n",
    "print(disaster_charter_events_df.columns)"
   ]
  },
  {
   "cell_type": "code",
   "execution_count": null,
   "metadata": {},
   "outputs": [],
   "source": [
    "import pandas as pd\n",
    "data = pd.read_parquet('/home/evangelos/src/disaster-impact/data/adam_data/combined_adam_data.parquet')\n",
    "print(data.head())\n"
   ]
  },
  {
   "cell_type": "code",
   "execution_count": null,
   "metadata": {},
   "outputs": [],
   "source": [
    "import geopandas as gpd\n",
    "\n",
    "geoparquet_gpd = gpd.read_parquet('/home/evangelos/src/disaster-impact/data/adam_data/combined_adam_data.parquet')\n",
    "print(geoparquet_gpd.head())\n"
   ]
  },
  {
   "cell_type": "code",
   "execution_count": 7,
   "metadata": {},
   "outputs": [
    {
     "name": "stdout",
     "output_type": "stream",
     "text": [
      "Index(['GLIDE_number', 'Event', 'Country', 'Date_', 'Event_Code',\n",
      "       'Glide_Serial', 'Country_Code', 'Year', 'Month', 'Day', 'Time',\n",
      "       'Location', 'Duration', 'Magnitude', 'Source', 'Comments', 'Latitude',\n",
      "       'Longitude', 'Id', 'Id_Source', 'Created', 'Updated'],\n",
      "      dtype='object')\n",
      "Index(['event_id', 'event_type', 'event_name', 'from_date', 'to_date',\n",
      "       'alert_level', 'countries', 'population', 'severity', 'alert_score',\n",
      "       'year'],\n",
      "      dtype='object')\n",
      "Index(['FID', 'uid', 'radius_km', 'population', 'created_at', 'Shape__Are',\n",
      "       'Shape__Len', 'Shape__Area', 'Shape__Length', 'x', 'y'],\n",
      "      dtype='object')\n",
      "Index(['link_id', 'allocation_code', 'allocation', 'emergency_type', 'agency',\n",
      "       'country', 'project_code', 'project_description', 'window', 'sector',\n",
      "       'approved_amount', 'approval_date', 'disbursement_date',\n",
      "       'groups_targeted', 'number_of_people_targeted', 'implementation_dates'],\n",
      "      dtype='object')\n",
      "Index(['Year', 'Month', 'Date', 'Disaster', 'Formatted Date', 'Details Link',\n",
      "       'Type of Event', 'Location of Event', 'Date of Activation',\n",
      "       'Time of Activation', 'Timezone', 'Charter Requestor', 'Activation ID',\n",
      "       'Project Management', 'Value Adding'],\n",
      "      dtype='object')\n"
     ]
    }
   ],
   "source": [
    "print(glide_events_df.columns)\n",
    "print(gdacs_events_df.columns)\n",
    "print(adam_events_df.columns)\n",
    "print(cerf_events_df.columns)\n",
    "print(disaster_charter_events_df.columns)"
   ]
  },
  {
   "cell_type": "code",
   "execution_count": null,
   "metadata": {},
   "outputs": [],
   "source": [
    "import pandas as pd\n",
    "import numpy as np\n",
    "\n",
    "from data_consolidation.dictionary import (\n",
    "    STANDARD_COLUMNS, GLIDE_MAPPING, GDACS_MAPPING, ADAM_MAPPING,\n",
    "    CERF_MAPPING, DISASTER_CHARTER_MAPPING\n",
    ") \n",
    "\n",
    "glide_events_df\n",
    "gdacs_events_df \n",
    "adam_events_df \n",
    "cerf_events_df \n",
    "disaster_charter_events_df\n"
   ]
  },
  {
   "cell_type": "code",
   "execution_count": 12,
   "metadata": {},
   "outputs": [],
   "source": [
    "def check_mapping(df, mapping, dataset_name):\n",
    "    print(f\"\\nChecking mappings for {dataset_name} dataset:\")\n",
    "    for standard_col, original_col in mapping.items():\n",
    "        if original_col:\n",
    "            if original_col in df.columns:\n",
    "                print(f\"✅ Standard column '{standard_col}' is correctly mapped to '{original_col}' in {dataset_name} dataframe.\")\n",
    "            else:\n",
    "                print(f\"❌ Standard column '{standard_col}' is mapped to '{original_col}' which does NOT exist in {dataset_name} dataframe.\")\n",
    "        else:\n",
    "            print(f\"⚠️  Standard column '{standard_col}' is not mapped in {dataset_name} (False).\")\n"
   ]
  },
  {
   "cell_type": "code",
   "execution_count": 13,
   "metadata": {},
   "outputs": [
    {
     "name": "stdout",
     "output_type": "stream",
     "text": [
      "\n",
      "Checking mappings for GLIDE dataset:\n",
      "✅ Standard column 'Event_ID' is correctly mapped to 'GLIDE_number' in GLIDE dataframe.\n",
      "✅ Standard column 'Event_Name' is correctly mapped to 'Event' in GLIDE dataframe.\n",
      "✅ Standard column 'Event_Type' is correctly mapped to 'Event_Code' in GLIDE dataframe.\n",
      "✅ Standard column 'Country' is correctly mapped to 'Country' in GLIDE dataframe.\n",
      "✅ Standard column 'Country_Code' is correctly mapped to 'Country_Code' in GLIDE dataframe.\n",
      "✅ Standard column 'Location' is correctly mapped to 'Location' in GLIDE dataframe.\n",
      "✅ Standard column 'Latitude' is correctly mapped to 'Latitude' in GLIDE dataframe.\n",
      "✅ Standard column 'Longitude' is correctly mapped to 'Longitude' in GLIDE dataframe.\n",
      "✅ Standard column 'Date' is correctly mapped to 'Date_' in GLIDE dataframe.\n",
      "✅ Standard column 'Year' is correctly mapped to 'Year' in GLIDE dataframe.\n",
      "✅ Standard column 'Month' is correctly mapped to 'Month' in GLIDE dataframe.\n",
      "✅ Standard column 'Day' is correctly mapped to 'Day' in GLIDE dataframe.\n",
      "✅ Standard column 'Time' is correctly mapped to 'Time' in GLIDE dataframe.\n",
      "✅ Standard column 'Severity' is correctly mapped to 'Magnitude' in GLIDE dataframe.\n",
      "⚠️  Standard column 'Population_Affected' is not mapped in GLIDE (False).\n",
      "⚠️  Standard column 'Alert_Level' is not mapped in GLIDE (False).\n",
      "✅ Standard column 'Source' is correctly mapped to 'Source' in GLIDE dataframe.\n",
      "✅ Standard column 'Comments' is correctly mapped to 'Comments' in GLIDE dataframe.\n",
      "\n",
      "Checking mappings for GDACS dataset:\n",
      "✅ Standard column 'Event_ID' is correctly mapped to 'event_id' in GDACS dataframe.\n",
      "✅ Standard column 'Event_Name' is correctly mapped to 'event_name' in GDACS dataframe.\n",
      "✅ Standard column 'Event_Type' is correctly mapped to 'event_type' in GDACS dataframe.\n",
      "✅ Standard column 'Country' is correctly mapped to 'countries' in GDACS dataframe.\n",
      "⚠️  Standard column 'Country_Code' is not mapped in GDACS (False).\n",
      "⚠️  Standard column 'Location' is not mapped in GDACS (False).\n",
      "⚠️  Standard column 'Latitude' is not mapped in GDACS (False).\n",
      "⚠️  Standard column 'Longitude' is not mapped in GDACS (False).\n",
      "✅ Standard column 'Date' is correctly mapped to 'from_date' in GDACS dataframe.\n",
      "✅ Standard column 'Year' is correctly mapped to 'year' in GDACS dataframe.\n",
      "⚠️  Standard column 'Month' is not mapped in GDACS (False).\n",
      "⚠️  Standard column 'Day' is not mapped in GDACS (False).\n",
      "⚠️  Standard column 'Time' is not mapped in GDACS (False).\n",
      "✅ Standard column 'Severity' is correctly mapped to 'severity' in GDACS dataframe.\n",
      "✅ Standard column 'Population_Affected' is correctly mapped to 'population' in GDACS dataframe.\n",
      "✅ Standard column 'Alert_Level' is correctly mapped to 'alert_level' in GDACS dataframe.\n",
      "⚠️  Standard column 'Source' is not mapped in GDACS (False).\n",
      "⚠️  Standard column 'Comments' is not mapped in GDACS (False).\n",
      "\n",
      "Checking mappings for ADAM dataset:\n",
      "✅ Standard column 'Event_ID' is correctly mapped to 'uid' in ADAM dataframe.\n",
      "⚠️  Standard column 'Event_Name' is not mapped in ADAM (False).\n",
      "⚠️  Standard column 'Event_Type' is not mapped in ADAM (False).\n",
      "⚠️  Standard column 'Country' is not mapped in ADAM (False).\n",
      "⚠️  Standard column 'Country_Code' is not mapped in ADAM (False).\n",
      "⚠️  Standard column 'Location' is not mapped in ADAM (False).\n",
      "✅ Standard column 'Latitude' is correctly mapped to 'y' in ADAM dataframe.\n",
      "✅ Standard column 'Longitude' is correctly mapped to 'x' in ADAM dataframe.\n",
      "✅ Standard column 'Date' is correctly mapped to 'created_at' in ADAM dataframe.\n",
      "⚠️  Standard column 'Year' is not mapped in ADAM (False).\n",
      "⚠️  Standard column 'Month' is not mapped in ADAM (False).\n",
      "⚠️  Standard column 'Day' is not mapped in ADAM (False).\n",
      "⚠️  Standard column 'Time' is not mapped in ADAM (False).\n",
      "⚠️  Standard column 'Severity' is not mapped in ADAM (False).\n",
      "✅ Standard column 'Population_Affected' is correctly mapped to 'population' in ADAM dataframe.\n",
      "⚠️  Standard column 'Alert_Level' is not mapped in ADAM (False).\n",
      "⚠️  Standard column 'Source' is not mapped in ADAM (False).\n",
      "⚠️  Standard column 'Comments' is not mapped in ADAM (False).\n",
      "\n",
      "Checking mappings for CERF dataset:\n",
      "✅ Standard column 'Event_ID' is correctly mapped to 'allocation_code' in CERF dataframe.\n",
      "⚠️  Standard column 'Event_Name' is not mapped in CERF (False).\n",
      "✅ Standard column 'Event_Type' is correctly mapped to 'emergency_type' in CERF dataframe.\n",
      "✅ Standard column 'Country' is correctly mapped to 'country' in CERF dataframe.\n",
      "⚠️  Standard column 'Country_Code' is not mapped in CERF (False).\n",
      "⚠️  Standard column 'Location' is not mapped in CERF (False).\n",
      "⚠️  Standard column 'Latitude' is not mapped in CERF (False).\n",
      "⚠️  Standard column 'Longitude' is not mapped in CERF (False).\n",
      "✅ Standard column 'Date' is correctly mapped to 'approval_date' in CERF dataframe.\n",
      "⚠️  Standard column 'Year' is not mapped in CERF (False).\n",
      "⚠️  Standard column 'Month' is not mapped in CERF (False).\n",
      "⚠️  Standard column 'Day' is not mapped in CERF (False).\n",
      "⚠️  Standard column 'Time' is not mapped in CERF (False).\n",
      "⚠️  Standard column 'Severity' is not mapped in CERF (False).\n",
      "✅ Standard column 'Population_Affected' is correctly mapped to 'number_of_people_targeted' in CERF dataframe.\n",
      "⚠️  Standard column 'Alert_Level' is not mapped in CERF (False).\n",
      "⚠️  Standard column 'Source' is not mapped in CERF (False).\n",
      "✅ Standard column 'Comments' is correctly mapped to 'project_description' in CERF dataframe.\n",
      "\n",
      "Checking mappings for Disaster Charter Activation dataset:\n",
      "✅ Standard column 'Event_ID' is correctly mapped to 'Activation ID' in Disaster Charter Activation dataframe.\n",
      "✅ Standard column 'Event_Name' is correctly mapped to 'Disaster' in Disaster Charter Activation dataframe.\n",
      "✅ Standard column 'Event_Type' is correctly mapped to 'Type of Event' in Disaster Charter Activation dataframe.\n",
      "✅ Standard column 'Country' is correctly mapped to 'Location of Event' in Disaster Charter Activation dataframe.\n",
      "⚠️  Standard column 'Country_Code' is not mapped in Disaster Charter Activation (False).\n",
      "✅ Standard column 'Location' is correctly mapped to 'Location of Event' in Disaster Charter Activation dataframe.\n",
      "⚠️  Standard column 'Latitude' is not mapped in Disaster Charter Activation (False).\n",
      "⚠️  Standard column 'Longitude' is not mapped in Disaster Charter Activation (False).\n",
      "✅ Standard column 'Date' is correctly mapped to 'Date of Activation' in Disaster Charter Activation dataframe.\n",
      "✅ Standard column 'Year' is correctly mapped to 'Year' in Disaster Charter Activation dataframe.\n",
      "✅ Standard column 'Month' is correctly mapped to 'Month' in Disaster Charter Activation dataframe.\n",
      "⚠️  Standard column 'Day' is not mapped in Disaster Charter Activation (False).\n",
      "✅ Standard column 'Time' is correctly mapped to 'Time of Activation' in Disaster Charter Activation dataframe.\n",
      "⚠️  Standard column 'Severity' is not mapped in Disaster Charter Activation (False).\n",
      "⚠️  Standard column 'Population_Affected' is not mapped in Disaster Charter Activation (False).\n",
      "⚠️  Standard column 'Alert_Level' is not mapped in Disaster Charter Activation (False).\n",
      "⚠️  Standard column 'Source' is not mapped in Disaster Charter Activation (False).\n",
      "⚠️  Standard column 'Comments' is not mapped in Disaster Charter Activation (False).\n"
     ]
    }
   ],
   "source": [
    "\n",
    "check_mapping(glide_events_df, GLIDE_MAPPING, 'GLIDE')\n",
    "\n",
    "check_mapping(gdacs_events_df, GDACS_MAPPING, 'GDACS')\n",
    "\n",
    "check_mapping(adam_events_df, ADAM_MAPPING, 'ADAM')\n",
    "\n",
    "check_mapping(cerf_events_df, CERF_MAPPING, 'CERF')\n",
    "\n",
    "\n",
    "check_mapping(disaster_charter_events_df, DISASTER_CHARTER_MAPPING, 'Disaster Charter Activation')\n"
   ]
  },
  {
   "cell_type": "code",
   "execution_count": null,
   "metadata": {},
   "outputs": [],
   "source": [
    "df_monty = pd.read_csv('/home/evangelos/src/disaster-impact/data/monty/event_Level_cleaned.csv')"
   ]
  },
  {
   "cell_type": "code",
   "execution_count": 15,
   "metadata": {},
   "outputs": [
    {
     "data": {
      "text/plain": [
       "Index(['event_ID', 'ev_name', 'ext_ID', 'ext_ID_db', 'ext_ID_org', 'ev_sdate',\n",
       "       'ev_fdate', 'gen_location', 'ev_ISO3s', 'all_hazs_Ab', 'all_hazs_spec'],\n",
       "      dtype='object')"
      ]
     },
     "execution_count": 15,
     "metadata": {},
     "output_type": "execute_result"
    }
   ],
   "source": [
    "df_monty.columns"
   ]
  },
  {
   "cell_type": "code",
   "execution_count": null,
   "metadata": {},
   "outputs": [
    {
     "data": {
      "text/html": [
       "<div>\n",
       "<style scoped>\n",
       "    .dataframe tbody tr th:only-of-type {\n",
       "        vertical-align: middle;\n",
       "    }\n",
       "\n",
       "    .dataframe tbody tr th {\n",
       "        vertical-align: top;\n",
       "    }\n",
       "\n",
       "    .dataframe thead th {\n",
       "        text-align: right;\n",
       "    }\n",
       "</style>\n",
       "<table border=\"1\" class=\"dataframe\">\n",
       "  <thead>\n",
       "    <tr style=\"text-align: right;\">\n",
       "      <th></th>\n",
       "      <th>event_ID</th>\n",
       "      <th>ev_name</th>\n",
       "      <th>ext_ID</th>\n",
       "      <th>ext_ID_db</th>\n",
       "      <th>ext_ID_org</th>\n",
       "      <th>ev_sdate</th>\n",
       "      <th>ev_fdate</th>\n",
       "      <th>gen_location</th>\n",
       "      <th>ev_ISO3s</th>\n",
       "      <th>all_hazs_Ab</th>\n",
       "      <th>all_hazs_spec</th>\n",
       "    </tr>\n",
       "  </thead>\n",
       "  <tbody>\n",
       "    <tr>\n",
       "      <th>0</th>\n",
       "      <td>monty_031f0987-9d17-4007-9665-85b85448af82</td>\n",
       "      <td>sequia</td>\n",
       "      <td>ARG-7838-a</td>\n",
       "      <td>Desinventar</td>\n",
       "      <td>UNDRR</td>\n",
       "      <td>2007-08-20</td>\n",
       "      <td>2067-08-05</td>\n",
       "      <td>Cuenca Desaguadero-Salado- Chadileuvu (W de la...</td>\n",
       "      <td>ARG</td>\n",
       "      <td>DR</td>\n",
       "      <td>MH0035</td>\n",
       "    </tr>\n",
       "    <tr>\n",
       "      <th>1</th>\n",
       "      <td>monty_e6567a9d-2896-4508-b525-ddfcb79e0891</td>\n",
       "      <td>Vietnam - Heat Wave (EAP2021VN01)</td>\n",
       "      <td>MDRVN022</td>\n",
       "      <td>GO-DREF</td>\n",
       "      <td>IFRC</td>\n",
       "      <td>2021-04-09</td>\n",
       "      <td>2026-04-30</td>\n",
       "      <td>Vietnam - Heat Wave (EAP2021VN01)</td>\n",
       "      <td>VNM</td>\n",
       "      <td>HW</td>\n",
       "      <td>MH0047</td>\n",
       "    </tr>\n",
       "    <tr>\n",
       "      <th>2</th>\n",
       "      <td>monty_79e9ce45-3223-4b22-abb7-b99e997ee0a6</td>\n",
       "      <td>fire</td>\n",
       "      <td>KEN-28047</td>\n",
       "      <td>Desinventar</td>\n",
       "      <td>UNDRR</td>\n",
       "      <td>2021-05-29</td>\n",
       "      <td>2027-10-25</td>\n",
       "      <td>Lindi - kibera slum,Butiye loc.,Sibanga Market</td>\n",
       "      <td>KEN</td>\n",
       "      <td>WF</td>\n",
       "      <td>EN0013</td>\n",
       "    </tr>\n",
       "    <tr>\n",
       "      <th>3</th>\n",
       "      <td>monty_07618a9d-2c26-4af3-a5bc-51acb709496e</td>\n",
       "      <td>windstorm</td>\n",
       "      <td>KEN-28041</td>\n",
       "      <td>Desinventar</td>\n",
       "      <td>UNDRR</td>\n",
       "      <td>2021-05-29</td>\n",
       "      <td>2024-02-23</td>\n",
       "      <td>milo sub location</td>\n",
       "      <td>KEN</td>\n",
       "      <td>VW</td>\n",
       "      <td>MH0060</td>\n",
       "    </tr>\n",
       "    <tr>\n",
       "      <th>4</th>\n",
       "      <td>monty_92707914-9d5f-4d28-9bd9-17fb97bc33a9</td>\n",
       "      <td>fire</td>\n",
       "      <td>KEN-28094</td>\n",
       "      <td>Desinventar</td>\n",
       "      <td>UNDRR</td>\n",
       "      <td>2021-06-01</td>\n",
       "      <td>2027-01-16</td>\n",
       "      <td>Mwonge</td>\n",
       "      <td>KEN</td>\n",
       "      <td>WF</td>\n",
       "      <td>EN0013</td>\n",
       "    </tr>\n",
       "  </tbody>\n",
       "</table>\n",
       "</div>"
      ],
      "text/plain": [
       "                                     event_ID  \\\n",
       "0  monty_031f0987-9d17-4007-9665-85b85448af82   \n",
       "1  monty_e6567a9d-2896-4508-b525-ddfcb79e0891   \n",
       "2  monty_79e9ce45-3223-4b22-abb7-b99e997ee0a6   \n",
       "3  monty_07618a9d-2c26-4af3-a5bc-51acb709496e   \n",
       "4  monty_92707914-9d5f-4d28-9bd9-17fb97bc33a9   \n",
       "\n",
       "                             ev_name      ext_ID    ext_ID_db ext_ID_org  \\\n",
       "0                             sequia  ARG-7838-a  Desinventar      UNDRR   \n",
       "1  Vietnam - Heat Wave (EAP2021VN01)    MDRVN022      GO-DREF       IFRC   \n",
       "2                               fire   KEN-28047  Desinventar      UNDRR   \n",
       "3                          windstorm   KEN-28041  Desinventar      UNDRR   \n",
       "4                               fire   KEN-28094  Desinventar      UNDRR   \n",
       "\n",
       "     ev_sdate    ev_fdate                                       gen_location  \\\n",
       "0  2007-08-20  2067-08-05  Cuenca Desaguadero-Salado- Chadileuvu (W de la...   \n",
       "1  2021-04-09  2026-04-30                  Vietnam - Heat Wave (EAP2021VN01)   \n",
       "2  2021-05-29  2027-10-25   Lindi - kibera slum,Butiye loc.,Sibanga Market     \n",
       "3  2021-05-29  2024-02-23                                  milo sub location   \n",
       "4  2021-06-01  2027-01-16                                             Mwonge   \n",
       "\n",
       "  ev_ISO3s all_hazs_Ab all_hazs_spec  \n",
       "0      ARG          DR        MH0035  \n",
       "1      VNM          HW        MH0047  \n",
       "2      KEN          WF        EN0013  \n",
       "3      KEN          VW        MH0060  \n",
       "4      KEN          WF        EN0013  "
      ]
     },
     "execution_count": 16,
     "metadata": {},
     "output_type": "execute_result"
    }
   ],
   "source": [
    "df_monty.head()"
   ]
  },
  {
   "cell_type": "code",
   "execution_count": 21,
   "metadata": {},
   "outputs": [
    {
     "name": "stdout",
     "output_type": "stream",
     "text": [
      "Empty DataFrame\n",
      "Columns: [event_ID, ev_name, ext_ID, ext_ID_db, ext_ID_org, ev_sdate, ev_fdate, gen_location, ev_ISO3s, all_hazs_Ab, all_hazs_spec]\n",
      "Index: []\n"
     ]
    }
   ],
   "source": [
    "\n",
    "if 'ext_ID' in df_monty.columns:\n",
    "    df_monty['ext_ID'] = df_monty['ext_ID'].astype(str)\n",
    "    df_monty_filtered = df_monty[df_monty['ext_ID'].str.contains('AC-2000-000871-BGD')]\n",
    "    print(df_monty_filtered)\n",
    "else:\n",
    "    print(\"Column 'ext_ID' does not exist in the dataframe.\")"
   ]
  },
  {
   "cell_type": "code",
   "execution_count": 22,
   "metadata": {},
   "outputs": [
    {
     "name": "stdout",
     "output_type": "stream",
     "text": [
      "Glide does not exist in the ext_ID_db column.\n"
     ]
    }
   ],
   "source": [
    "if 'Glide' in df_monty['ext_ID_db'].values:\n",
    "    print(\"Glide exists in the ext_ID_db column.\")\n",
    "else:\n",
    "    print(\"Glide does not exist in the ext_ID_db column.\")"
   ]
  },
  {
   "cell_type": "code",
   "execution_count": 23,
   "metadata": {},
   "outputs": [],
   "source": [
    "df_monty = pd.read_csv('/home/evangelos/src/disaster-impact/data/monty/hazard_Data_cleaned.csv')"
   ]
  },
  {
   "cell_type": "code",
   "execution_count": 24,
   "metadata": {},
   "outputs": [
    {
     "data": {
      "text/plain": [
       "Index(['event_ID', 'haz_sub_ID', 'ext_ID', 'ext_ID_db', 'ext_ID_org',\n",
       "       'haz_src_db', 'haz_src_URL', 'haz_src_org', 'haz_maxvalue',\n",
       "       'haz_maxunits', 'haz_est_type', 'all_hazs_Ab', 'all_hazs_spec',\n",
       "       'haz_sdate', 'haz_fdate', 'haz_credate', 'haz_moddate', 'haz_spat_ID',\n",
       "       'haz_spat_fileloc', 'haz_ISO3s', 'haz_spat_covcode',\n",
       "       'haz_spat_resunits', 'haz_spat_crs', 'haz_spat_srcdb', 'haz_spat_URL',\n",
       "       'haz_spat_srcorg'],\n",
       "      dtype='object')"
      ]
     },
     "execution_count": 24,
     "metadata": {},
     "output_type": "execute_result"
    }
   ],
   "source": [
    "df_monty.columns\n"
   ]
  },
  {
   "cell_type": "code",
   "execution_count": 25,
   "metadata": {},
   "outputs": [
    {
     "data": {
      "text/html": [
       "<div>\n",
       "<style scoped>\n",
       "    .dataframe tbody tr th:only-of-type {\n",
       "        vertical-align: middle;\n",
       "    }\n",
       "\n",
       "    .dataframe tbody tr th {\n",
       "        vertical-align: top;\n",
       "    }\n",
       "\n",
       "    .dataframe thead th {\n",
       "        text-align: right;\n",
       "    }\n",
       "</style>\n",
       "<table border=\"1\" class=\"dataframe\">\n",
       "  <thead>\n",
       "    <tr style=\"text-align: right;\">\n",
       "      <th></th>\n",
       "      <th>event_ID</th>\n",
       "      <th>haz_sub_ID</th>\n",
       "      <th>ext_ID</th>\n",
       "      <th>ext_ID_db</th>\n",
       "      <th>ext_ID_org</th>\n",
       "      <th>haz_src_db</th>\n",
       "      <th>haz_src_URL</th>\n",
       "      <th>haz_src_org</th>\n",
       "      <th>haz_maxvalue</th>\n",
       "      <th>haz_maxunits</th>\n",
       "      <th>...</th>\n",
       "      <th>haz_moddate</th>\n",
       "      <th>haz_spat_ID</th>\n",
       "      <th>haz_spat_fileloc</th>\n",
       "      <th>haz_ISO3s</th>\n",
       "      <th>haz_spat_covcode</th>\n",
       "      <th>haz_spat_resunits</th>\n",
       "      <th>haz_spat_crs</th>\n",
       "      <th>haz_spat_srcdb</th>\n",
       "      <th>haz_spat_URL</th>\n",
       "      <th>haz_spat_srcorg</th>\n",
       "    </tr>\n",
       "  </thead>\n",
       "  <tbody>\n",
       "    <tr>\n",
       "      <th>0</th>\n",
       "      <td>monty_10f8b8e8-e94c-45e8-a975-ab2c8f13d6bc</td>\n",
       "      <td>haz_ea1862f8-0f1b-4183-bce6-a77a51fb88f6</td>\n",
       "      <td>DR-2022-000215-AFG</td>\n",
       "      <td>GLIDE</td>\n",
       "      <td>ADRC</td>\n",
       "      <td>GDACS</td>\n",
       "      <td>https://www.gdacs.org/gdacsapi/api/polygons/ge...</td>\n",
       "      <td>EC-JRC</td>\n",
       "      <td>263840.0</td>\n",
       "      <td>unitskm2</td>\n",
       "      <td>...</td>\n",
       "      <td>2024-07-04</td>\n",
       "      <td>spathaz_e5d92927-537c-4778-bb8a-06c0c2eb8eb2</td>\n",
       "      <td>https://www.gdacs.org/gdacsapi/api/polygons/ge...</td>\n",
       "      <td>UZB</td>\n",
       "      <td>spat_polygon</td>\n",
       "      <td>spatresother</td>\n",
       "      <td>EPSG:4326</td>\n",
       "      <td>GDACS</td>\n",
       "      <td>https://www.gdacs.org/gdacsapi/api/polygons/ge...</td>\n",
       "      <td>EC-JRC</td>\n",
       "    </tr>\n",
       "    <tr>\n",
       "      <th>1</th>\n",
       "      <td>monty_5fcc6b2d-14de-41ae-a1cc-f18ad083f00b</td>\n",
       "      <td>haz_d3a906dd-dd4e-4dc2-a42f-e547f00474ec</td>\n",
       "      <td>DR-2023-000204-BRA</td>\n",
       "      <td>GLIDE</td>\n",
       "      <td>ADRC</td>\n",
       "      <td>GDACS</td>\n",
       "      <td>https://www.gdacs.org/gdacsapi/api/polygons/ge...</td>\n",
       "      <td>EC-JRC</td>\n",
       "      <td>1509735.0</td>\n",
       "      <td>unitskm2</td>\n",
       "      <td>...</td>\n",
       "      <td>2024-08-13</td>\n",
       "      <td>spathaz_b5f72932-9606-4d9b-b321-a434beb82c09</td>\n",
       "      <td>https://www.gdacs.org/gdacsapi/api/polygons/ge...</td>\n",
       "      <td>VEN</td>\n",
       "      <td>spat_polygon</td>\n",
       "      <td>spatresother</td>\n",
       "      <td>EPSG:4326</td>\n",
       "      <td>GDACS</td>\n",
       "      <td>https://www.gdacs.org/gdacsapi/api/polygons/ge...</td>\n",
       "      <td>EC-JRC</td>\n",
       "    </tr>\n",
       "    <tr>\n",
       "      <th>2</th>\n",
       "      <td>monty_bc21dbcb-55fe-44bb-ae87-5dca7960e0e4</td>\n",
       "      <td>haz_f6df9559-037f-4d27-84f5-1a55a0320c91</td>\n",
       "      <td>DR-2022-000390-BLZ</td>\n",
       "      <td>GLIDE</td>\n",
       "      <td>ADRC</td>\n",
       "      <td>GDACS</td>\n",
       "      <td>https://www.gdacs.org/gdacsapi/api/polygons/ge...</td>\n",
       "      <td>EC-JRC</td>\n",
       "      <td>40748.0</td>\n",
       "      <td>unitskm2</td>\n",
       "      <td>...</td>\n",
       "      <td>2024-04-18</td>\n",
       "      <td>spathaz_6b4cb2ec-2018-4b26-a1d3-01fd178d43eb</td>\n",
       "      <td>https://www.gdacs.org/gdacsapi/api/polygons/ge...</td>\n",
       "      <td>USA</td>\n",
       "      <td>spat_polygon</td>\n",
       "      <td>spatresother</td>\n",
       "      <td>EPSG:4326</td>\n",
       "      <td>GDACS</td>\n",
       "      <td>https://www.gdacs.org/gdacsapi/api/polygons/ge...</td>\n",
       "      <td>EC-JRC</td>\n",
       "    </tr>\n",
       "    <tr>\n",
       "      <th>3</th>\n",
       "      <td>monty_5e87c986-a087-4d78-89f2-9452702b4370</td>\n",
       "      <td>haz_64f00bcb-745b-45cb-af6d-7f84cfe5f8a0</td>\n",
       "      <td>1016298</td>\n",
       "      <td>GDACS</td>\n",
       "      <td>EC-JRC</td>\n",
       "      <td>GDACS</td>\n",
       "      <td>https://www.gdacs.org/gdacsapi/api/polygons/ge...</td>\n",
       "      <td>EC-JRC</td>\n",
       "      <td>22670.0</td>\n",
       "      <td>unitskm2</td>\n",
       "      <td>...</td>\n",
       "      <td>2024-03-13</td>\n",
       "      <td>spathaz_ad2dc492-3d49-437a-9a07-01eb0d294394</td>\n",
       "      <td>https://www.gdacs.org/gdacsapi/api/polygons/ge...</td>\n",
       "      <td>CAN</td>\n",
       "      <td>spat_polygon</td>\n",
       "      <td>spatresother</td>\n",
       "      <td>EPSG:4326</td>\n",
       "      <td>GDACS</td>\n",
       "      <td>https://www.gdacs.org/gdacsapi/api/polygons/ge...</td>\n",
       "      <td>EC-JRC</td>\n",
       "    </tr>\n",
       "    <tr>\n",
       "      <th>4</th>\n",
       "      <td>monty_a487b140-3d94-4388-a7a2-25c2557d45af</td>\n",
       "      <td>haz_0e4eb121-6095-4750-bf0e-eaa06b6d330f</td>\n",
       "      <td>1016209</td>\n",
       "      <td>GDACS</td>\n",
       "      <td>EC-JRC</td>\n",
       "      <td>GDACS</td>\n",
       "      <td>https://www.gdacs.org/gdacsapi/api/polygons/ge...</td>\n",
       "      <td>EC-JRC</td>\n",
       "      <td>23022.0</td>\n",
       "      <td>unitskm2</td>\n",
       "      <td>...</td>\n",
       "      <td>2024-01-18</td>\n",
       "      <td>spathaz_82278fce-4fbe-423b-b31f-d82c449e7a59</td>\n",
       "      <td>https://www.gdacs.org/gdacsapi/api/polygons/ge...</td>\n",
       "      <td>THA</td>\n",
       "      <td>spat_polygon</td>\n",
       "      <td>spatresother</td>\n",
       "      <td>EPSG:4326</td>\n",
       "      <td>GDACS</td>\n",
       "      <td>https://www.gdacs.org/gdacsapi/api/polygons/ge...</td>\n",
       "      <td>EC-JRC</td>\n",
       "    </tr>\n",
       "  </tbody>\n",
       "</table>\n",
       "<p>5 rows × 26 columns</p>\n",
       "</div>"
      ],
      "text/plain": [
       "                                     event_ID  \\\n",
       "0  monty_10f8b8e8-e94c-45e8-a975-ab2c8f13d6bc   \n",
       "1  monty_5fcc6b2d-14de-41ae-a1cc-f18ad083f00b   \n",
       "2  monty_bc21dbcb-55fe-44bb-ae87-5dca7960e0e4   \n",
       "3  monty_5e87c986-a087-4d78-89f2-9452702b4370   \n",
       "4  monty_a487b140-3d94-4388-a7a2-25c2557d45af   \n",
       "\n",
       "                                 haz_sub_ID              ext_ID ext_ID_db  \\\n",
       "0  haz_ea1862f8-0f1b-4183-bce6-a77a51fb88f6  DR-2022-000215-AFG     GLIDE   \n",
       "1  haz_d3a906dd-dd4e-4dc2-a42f-e547f00474ec  DR-2023-000204-BRA     GLIDE   \n",
       "2  haz_f6df9559-037f-4d27-84f5-1a55a0320c91  DR-2022-000390-BLZ     GLIDE   \n",
       "3  haz_64f00bcb-745b-45cb-af6d-7f84cfe5f8a0             1016298     GDACS   \n",
       "4  haz_0e4eb121-6095-4750-bf0e-eaa06b6d330f             1016209     GDACS   \n",
       "\n",
       "  ext_ID_org haz_src_db                                        haz_src_URL  \\\n",
       "0       ADRC      GDACS  https://www.gdacs.org/gdacsapi/api/polygons/ge...   \n",
       "1       ADRC      GDACS  https://www.gdacs.org/gdacsapi/api/polygons/ge...   \n",
       "2       ADRC      GDACS  https://www.gdacs.org/gdacsapi/api/polygons/ge...   \n",
       "3     EC-JRC      GDACS  https://www.gdacs.org/gdacsapi/api/polygons/ge...   \n",
       "4     EC-JRC      GDACS  https://www.gdacs.org/gdacsapi/api/polygons/ge...   \n",
       "\n",
       "  haz_src_org  haz_maxvalue haz_maxunits  ... haz_moddate  \\\n",
       "0      EC-JRC      263840.0     unitskm2  ...  2024-07-04   \n",
       "1      EC-JRC     1509735.0     unitskm2  ...  2024-08-13   \n",
       "2      EC-JRC       40748.0     unitskm2  ...  2024-04-18   \n",
       "3      EC-JRC       22670.0     unitskm2  ...  2024-03-13   \n",
       "4      EC-JRC       23022.0     unitskm2  ...  2024-01-18   \n",
       "\n",
       "                                    haz_spat_ID  \\\n",
       "0  spathaz_e5d92927-537c-4778-bb8a-06c0c2eb8eb2   \n",
       "1  spathaz_b5f72932-9606-4d9b-b321-a434beb82c09   \n",
       "2  spathaz_6b4cb2ec-2018-4b26-a1d3-01fd178d43eb   \n",
       "3  spathaz_ad2dc492-3d49-437a-9a07-01eb0d294394   \n",
       "4  spathaz_82278fce-4fbe-423b-b31f-d82c449e7a59   \n",
       "\n",
       "                                    haz_spat_fileloc haz_ISO3s  \\\n",
       "0  https://www.gdacs.org/gdacsapi/api/polygons/ge...       UZB   \n",
       "1  https://www.gdacs.org/gdacsapi/api/polygons/ge...       VEN   \n",
       "2  https://www.gdacs.org/gdacsapi/api/polygons/ge...       USA   \n",
       "3  https://www.gdacs.org/gdacsapi/api/polygons/ge...       CAN   \n",
       "4  https://www.gdacs.org/gdacsapi/api/polygons/ge...       THA   \n",
       "\n",
       "  haz_spat_covcode haz_spat_resunits haz_spat_crs haz_spat_srcdb  \\\n",
       "0     spat_polygon      spatresother    EPSG:4326          GDACS   \n",
       "1     spat_polygon      spatresother    EPSG:4326          GDACS   \n",
       "2     spat_polygon      spatresother    EPSG:4326          GDACS   \n",
       "3     spat_polygon      spatresother    EPSG:4326          GDACS   \n",
       "4     spat_polygon      spatresother    EPSG:4326          GDACS   \n",
       "\n",
       "                                        haz_spat_URL haz_spat_srcorg  \n",
       "0  https://www.gdacs.org/gdacsapi/api/polygons/ge...          EC-JRC  \n",
       "1  https://www.gdacs.org/gdacsapi/api/polygons/ge...          EC-JRC  \n",
       "2  https://www.gdacs.org/gdacsapi/api/polygons/ge...          EC-JRC  \n",
       "3  https://www.gdacs.org/gdacsapi/api/polygons/ge...          EC-JRC  \n",
       "4  https://www.gdacs.org/gdacsapi/api/polygons/ge...          EC-JRC  \n",
       "\n",
       "[5 rows x 26 columns]"
      ]
     },
     "execution_count": 25,
     "metadata": {},
     "output_type": "execute_result"
    }
   ],
   "source": [
    "df_monty.head()"
   ]
  },
  {
   "cell_type": "code",
   "execution_count": 33,
   "metadata": {},
   "outputs": [
    {
     "name": "stdout",
     "output_type": "stream",
     "text": [
      "Empty DataFrame\n",
      "Columns: [event_ID, haz_sub_ID, ext_ID, ext_ID_db, ext_ID_org, haz_src_db, haz_src_URL, haz_src_org, haz_maxvalue, haz_maxunits, haz_est_type, all_hazs_Ab, all_hazs_spec, haz_sdate, haz_fdate, haz_credate, haz_moddate, haz_spat_ID, haz_spat_fileloc, haz_ISO3s, haz_spat_covcode, haz_spat_resunits, haz_spat_crs, haz_spat_srcdb, haz_spat_URL, haz_spat_srcorg]\n",
      "Index: []\n",
      "\n",
      "[0 rows x 26 columns]\n"
     ]
    }
   ],
   "source": [
    "\n",
    "if 'ext_ID' in df_monty.columns:\n",
    "    df_monty['ext_ID'] = df_monty['ext_ID'].astype(str)\n",
    "    df_monty_filtered = df_monty[df_monty['ext_ID'].str.contains('AC-2000-000871-BGD|AC-2000-000536-BGD|TC-2008-000261-KHM|TC-2010-000236-KHM|TC-2006-000215-KHM|TC-2017-000125-MSR')]\n",
    "    print(df_monty_filtered)\n",
    "else:\n",
    "    print(\"Column 'ext_ID' does not exist in the dataframe.\")"
   ]
  },
  {
   "cell_type": "markdown",
   "metadata": {},
   "source": [
    "Exploring monty data\n"
   ]
  },
  {
   "cell_type": "code",
   "execution_count": 34,
   "metadata": {},
   "outputs": [
    {
     "name": "stdout",
     "output_type": "stream",
     "text": [
      "Empty DataFrame\n",
      "Columns: [event_ID, haz_sub_ID, ext_ID, ext_ID_db, ext_ID_org, haz_src_db, haz_src_URL, haz_src_org, haz_maxvalue, haz_maxunits, haz_est_type, all_hazs_Ab, all_hazs_spec, haz_sdate, haz_fdate, haz_credate, haz_moddate, haz_spat_ID, haz_spat_fileloc, haz_ISO3s, haz_spat_covcode, haz_spat_resunits, haz_spat_crs, haz_spat_srcdb, haz_spat_URL, haz_spat_srcorg]\n",
      "Index: []\n",
      "\n",
      "[0 rows x 26 columns]\n"
     ]
    }
   ],
   "source": [
    "\n",
    "if 'ext_ID' in df_monty.columns:\n",
    "    df_monty['ext_ID'] = df_monty['ext_ID'].astype(str)\n",
    "    df_monty_filtered = df_monty[df_monty['ext_ID'].str.contains('TC-2017-000125-MSR')]\n",
    "    print(df_monty_filtered)\n",
    "else:\n",
    "    print(\"Column 'ext_ID' does not exist in the dataframe.\")"
   ]
  },
  {
   "cell_type": "code",
   "execution_count": 14,
   "metadata": {},
   "outputs": [],
   "source": [
    "import pandas as pd"
   ]
  },
  {
   "cell_type": "code",
   "execution_count": 3,
   "metadata": {},
   "outputs": [],
   "source": [
    "df_glide = pd.read_csv('/home/evangelos/src/disaster-impact/data/glide/glide_data_combined_all.csv')"
   ]
  },
  {
   "cell_type": "code",
   "execution_count": 4,
   "metadata": {},
   "outputs": [
    {
     "data": {
      "text/plain": [
       "Index(['GLIDE_number', 'Event', 'Country', 'Date_', 'Event_Code',\n",
       "       'Glide_Serial', 'Country_Code', 'Year', 'Month', 'Day', 'Time',\n",
       "       'Location', 'Duration', 'Magnitude', 'Source', 'Comments', 'Latitude',\n",
       "       'Longitude', 'Id', 'Id_Source', 'Created', 'Updated'],\n",
       "      dtype='object')"
      ]
     },
     "execution_count": 4,
     "metadata": {},
     "output_type": "execute_result"
    }
   ],
   "source": [
    "df_glide.columns"
   ]
  },
  {
   "cell_type": "code",
   "execution_count": 6,
   "metadata": {},
   "outputs": [
    {
     "data": {
      "text/plain": [
       "GLIDE_number                                   FL-2024-000218-MYS\n",
       "Event                                                       Flood\n",
       "Country                                                  Malaysia\n",
       "Date_                                                  2024/11/25\n",
       "Event_Code                                                     FL\n",
       "Glide_Serial                                          2024-000218\n",
       "Country_Code                                                  MYS\n",
       "Year                                                         2024\n",
       "Month                                                          11\n",
       "Day                                                            25\n",
       "Time                                                          NaN\n",
       "Location        Kelantan, Terengganu, Kedah, Perlis, Johor, an...\n",
       "Duration                                                    120.0\n",
       "Magnitude                                                     NaN\n",
       "Source          Malaysian Red Crescent Society, Official Stati...\n",
       "Comments        The Northeast Monsoon (MTL) began in early Nov...\n",
       "Latitude                                                 5.093634\n",
       "Longitude                                              102.989615\n",
       "Id                                                            NaN\n",
       "Id_Source                                                     NaN\n",
       "Created                                                2024-12-01\n",
       "Updated                                                2024-12-01\n",
       "Name: 1, dtype: object"
      ]
     },
     "execution_count": 6,
     "metadata": {},
     "output_type": "execute_result"
    }
   ],
   "source": [
    "df_glide.head().iloc[1]"
   ]
  },
  {
   "cell_type": "code",
   "execution_count": 11,
   "metadata": {},
   "outputs": [
    {
     "data": {
      "text/plain": [
       "GLIDE_number                                   TC-2024-000200-CHN\n",
       "Event                                            Tropical Cyclone\n",
       "Country                                  China, People's Republic\n",
       "Date_                                                  2024/10/25\n",
       "Event_Code                                                     TC\n",
       "Glide_Serial                                          2024-000200\n",
       "Country_Code                                                  CHN\n",
       "Year                                                         2024\n",
       "Month                                                          10\n",
       "Day                                                            25\n",
       "Time                                                          NaN\n",
       "Location                               Philippines, Taiwan, China\n",
       "Duration                                                      8.0\n",
       "Magnitude                                                       0\n",
       "Source                                                      GDACS\n",
       "Comments        GDACS - Tropical Cyclone KONG-REY-24 Medium hu...\n",
       "Latitude                                                     32.2\n",
       "Longitude                                                   126.1\n",
       "Id                                                            NaN\n",
       "Id_Source                                                     NaN\n",
       "Created                                                2024-10-30\n",
       "Updated                                                2024-11-05\n",
       "Name: 21, dtype: object"
      ]
     },
     "execution_count": 11,
     "metadata": {},
     "output_type": "execute_result"
    }
   ],
   "source": [
    "df_glide.iloc[21]"
   ]
  },
  {
   "cell_type": "code",
   "execution_count": 13,
   "metadata": {},
   "outputs": [
    {
     "data": {
      "text/plain": [
       "GLIDE_number              <class 'str'>\n",
       "Event                     <class 'str'>\n",
       "Country                   <class 'str'>\n",
       "Date_                     <class 'str'>\n",
       "Event_Code                <class 'str'>\n",
       "Glide_Serial              <class 'str'>\n",
       "Country_Code              <class 'str'>\n",
       "Year              <class 'numpy.int64'>\n",
       "Month             <class 'numpy.int64'>\n",
       "Day               <class 'numpy.int64'>\n",
       "Time                    <class 'float'>\n",
       "Location                  <class 'str'>\n",
       "Duration        <class 'numpy.float64'>\n",
       "Magnitude                 <class 'str'>\n",
       "Source                    <class 'str'>\n",
       "Comments                  <class 'str'>\n",
       "Latitude        <class 'numpy.float64'>\n",
       "Longitude       <class 'numpy.float64'>\n",
       "Id              <class 'numpy.float64'>\n",
       "Id_Source       <class 'numpy.float64'>\n",
       "Created                   <class 'str'>\n",
       "Updated                   <class 'str'>\n",
       "Name: 21, dtype: object"
      ]
     },
     "execution_count": 13,
     "metadata": {},
     "output_type": "execute_result"
    }
   ],
   "source": [
    "df_glide.iloc[21].apply(type)\n",
    "\n",
    "\n"
   ]
  },
  {
   "cell_type": "code",
   "execution_count": 16,
   "metadata": {},
   "outputs": [],
   "source": [
    "df_glide_standard = pd.read_csv('/home/evangelos/src/disaster-impact/data_mid/glide/glide_standardized_phase1.csv')"
   ]
  },
  {
   "cell_type": "code",
   "execution_count": 17,
   "metadata": {},
   "outputs": [
    {
     "data": {
      "text/plain": [
       "Index(['Event_ID', 'Source_Event_IDs', 'Event_Name', 'Event_Type', 'Country',\n",
       "       'Country_Code', 'Location', 'Latitude', 'Longitude', 'Date', 'Year',\n",
       "       'Month', 'Day', 'Time', 'Severity', 'Population_Affected', 'Fatalities',\n",
       "       'People_Displaced', 'Financial_Loss', 'Alert_Level', 'Source',\n",
       "       'Comments', 'External_Links'],\n",
       "      dtype='object')"
      ]
     },
     "execution_count": 17,
     "metadata": {},
     "output_type": "execute_result"
    }
   ],
   "source": [
    "df_glide_standard.columns"
   ]
  },
  {
   "cell_type": "code",
   "execution_count": 18,
   "metadata": {},
   "outputs": [
    {
     "data": {
      "text/plain": [
       "Event_ID                                                             NaN\n",
       "Source_Event_IDs                                  ['FL-2024-000218-MYS']\n",
       "Event_Name                                                         Flood\n",
       "Event_Type                                                            FL\n",
       "Country                                                         Malaysia\n",
       "Country_Code                                                         MYS\n",
       "Location               ['Kelantan, Terengganu, Kedah, Perlis, Johor, ...\n",
       "Latitude                                                     [5.0936342]\n",
       "Longitude                                                   [102.989615]\n",
       "Date                                                          2024/11/25\n",
       "Year                                                                2024\n",
       "Month                                                                 11\n",
       "Day                                                                   25\n",
       "Time                                                                 NaN\n",
       "Severity                                                             NaN\n",
       "Population_Affected                                                  NaN\n",
       "Fatalities                                                           NaN\n",
       "People_Displaced                                                     NaN\n",
       "Financial_Loss                                                       NaN\n",
       "Alert_Level                                                          NaN\n",
       "Source                 ['Malaysian Red Crescent Society, Official Sta...\n",
       "Comments               ['The Northeast Monsoon (MTL) began in early N...\n",
       "External_Links                                                        []\n",
       "Name: 1, dtype: object"
      ]
     },
     "execution_count": 18,
     "metadata": {},
     "output_type": "execute_result"
    }
   ],
   "source": [
    "df_glide_standard.head().iloc[1]"
   ]
  },
  {
   "cell_type": "code",
   "execution_count": 19,
   "metadata": {},
   "outputs": [],
   "source": [
    "df_glide_consolidation = pd.read_csv('/home/evangelos/src/disaster-impact/data_out/glide/glide_consolidated.csv')"
   ]
  },
  {
   "cell_type": "code",
   "execution_count": 20,
   "metadata": {},
   "outputs": [
    {
     "data": {
      "text/plain": [
       "Event_ID                 354612eaf018a14d2e53c6b92eef2d13\n",
       "Source_Event_IDs                   ['AC-2001-000666-AFG']\n",
       "Event_Name                                 Tech. Disaster\n",
       "Event_Type                                             AC\n",
       "Country                                       Afghanistan\n",
       "Country_Code                                          AFG\n",
       "Location               ['Near Talogan (Takhar province)']\n",
       "Latitude                                     [36.7704489]\n",
       "Longitude                                    [69.5302203]\n",
       "Date                                            2001/12/8\n",
       "Year                                                 2001\n",
       "Month                                                  12\n",
       "Day                                                     8\n",
       "Time                                                  NaN\n",
       "Severity                                              NaN\n",
       "Population_Affected                                   NaN\n",
       "Fatalities                                            NaN\n",
       "People_Displaced                                      NaN\n",
       "Financial_Loss                                        NaN\n",
       "Alert_Level                                           NaN\n",
       "Source                                                 []\n",
       "Comments                           ['{Helicopter} (Air)']\n",
       "External_Links                                         []\n",
       "Name: 1, dtype: object"
      ]
     },
     "execution_count": 20,
     "metadata": {},
     "output_type": "execute_result"
    }
   ],
   "source": [
    "df_glide_consolidation.head().iloc[1]"
   ]
  },
  {
   "cell_type": "code",
   "execution_count": 22,
   "metadata": {},
   "outputs": [
    {
     "data": {
      "text/plain": [
       "Event_ID                                ebe326b0b5c5b763e6a7192f9feaccba\n",
       "Source_Event_IDs            ['TC-2017-000125-KNA', 'TC-2017-000132-KNA']\n",
       "Event_Name                                              Tropical Cyclone\n",
       "Event_Type                                                            TC\n",
       "Country                                                 St Kitts & Nevis\n",
       "Country_Code                                                         KNA\n",
       "Location                                                              []\n",
       "Latitude                                                     [17.357822]\n",
       "Longitude                                                   [-62.782998]\n",
       "Date                                                            2017/9/7\n",
       "Year                                                                2017\n",
       "Month                                                                  9\n",
       "Day                                                                    7\n",
       "Time                                                                 NaN\n",
       "Severity                                                             NaN\n",
       "Population_Affected                                                  NaN\n",
       "Fatalities                                                           NaN\n",
       "People_Displaced                                                     NaN\n",
       "Financial_Loss                                                       NaN\n",
       "Alert_Level                                                          NaN\n",
       "Source                                                         ['CDEMA']\n",
       "Comments               ['With maximum sustained winds near 185 mph, I...\n",
       "External_Links                                                        []\n",
       "Name: 7558, dtype: object"
      ]
     },
     "execution_count": 22,
     "metadata": {},
     "output_type": "execute_result"
    }
   ],
   "source": [
    "df_glide_consolidation.iloc[7558]"
   ]
  }
 ],
 "metadata": {
  "kernelspec": {
   "display_name": ".venv",
   "language": "python",
   "name": "python3"
  },
  "language_info": {
   "codemirror_mode": {
    "name": "ipython",
    "version": 3
   },
   "file_extension": ".py",
   "mimetype": "text/x-python",
   "name": "python",
   "nbconvert_exporter": "python",
   "pygments_lexer": "ipython3",
   "version": "3.10.12"
  }
 },
 "nbformat": 4,
 "nbformat_minor": 2
}
